{
  "nbformat": 4,
  "nbformat_minor": 0,
  "metadata": {
    "colab": {
      "name": "Black_Friday.ipynb",
      "provenance": [],
      "collapsed_sections": [],
      "authorship_tag": "ABX9TyNxZoWo30ZyDXtHREE8kkh7",
      "include_colab_link": true
    },
    "kernelspec": {
      "name": "python3",
      "display_name": "Python 3"
    }
  },
  "cells": [
    {
      "cell_type": "markdown",
      "metadata": {
        "id": "view-in-github",
        "colab_type": "text"
      },
      "source": [
        "<a href=\"https://colab.research.google.com/github/naokityokoyama/Projetos_Data_Science/blob/main/Black_Friday.ipynb\" target=\"_parent\"><img src=\"https://colab.research.google.com/assets/colab-badge.svg\" alt=\"Open In Colab\"/></a>"
      ]
    },
    {
      "cell_type": "markdown",
      "metadata": {
        "id": "dW58x2_XcoYf"
      },
      "source": [
        "## Data\n",
        "*   Variable | Definition\n",
        "*   User_ID | User ID\n",
        "*   Product_ID | Product ID\n",
        "*   Gender | Sex of User\n",
        "*   Age | Age in bins\n",
        "*   Occupation | Occupation (Masked)\n",
        "*   City_Category | Category of the City (A,B,C)\n",
        "*   Stay_In_Current_City_Years | Number of years stay in current city\n",
        "*   Marital_Status | Marital Status\n",
        "*   Product_Category_1 | Product Category (Masked)\n",
        "*   Product_Category_2 | Product may belongs to other category also (Masked)\n",
        "*   Product_Category_3 | Product may belongs to other category also (Masked)\n",
        "*   Purchase | Purchase Amount (Target Variable)"
      ]
    },
    {
      "cell_type": "code",
      "metadata": {
        "id": "1zdC1nYBKUL7"
      },
      "source": [
        "import pandas as pd\n",
        "import matplotlib.pyplot as plt\n",
        "import seaborn as sns"
      ],
      "execution_count": 2,
      "outputs": []
    },
    {
      "cell_type": "code",
      "metadata": {
        "id": "fhkzWgP_Kdsp"
      },
      "source": [
        "data_train = pd.read_csv('/content/train.csv')\n"
      ],
      "execution_count": 3,
      "outputs": []
    },
    {
      "cell_type": "code",
      "metadata": {
        "colab": {
          "base_uri": "https://localhost:8080/",
          "height": 213
        },
        "id": "Zq5HQyoCMDWS",
        "outputId": "4f53e444-e9ba-4527-fb5c-b9ce5653faf7"
      },
      "source": [
        "data_test.head(3)"
      ],
      "execution_count": 142,
      "outputs": [
        {
          "output_type": "execute_result",
          "data": {
            "text/html": [
              "<div>\n",
              "<style scoped>\n",
              "    .dataframe tbody tr th:only-of-type {\n",
              "        vertical-align: middle;\n",
              "    }\n",
              "\n",
              "    .dataframe tbody tr th {\n",
              "        vertical-align: top;\n",
              "    }\n",
              "\n",
              "    .dataframe thead th {\n",
              "        text-align: right;\n",
              "    }\n",
              "</style>\n",
              "<table border=\"1\" class=\"dataframe\">\n",
              "  <thead>\n",
              "    <tr style=\"text-align: right;\">\n",
              "      <th></th>\n",
              "      <th>User_ID</th>\n",
              "      <th>Product_ID</th>\n",
              "      <th>Gender</th>\n",
              "      <th>Age</th>\n",
              "      <th>Occupation</th>\n",
              "      <th>City_Category</th>\n",
              "      <th>Stay_In_Current_City_Years</th>\n",
              "      <th>Marital_Status</th>\n",
              "      <th>Product_Category_1</th>\n",
              "      <th>Product_Category_2</th>\n",
              "      <th>Product_Category_3</th>\n",
              "    </tr>\n",
              "  </thead>\n",
              "  <tbody>\n",
              "    <tr>\n",
              "      <th>0</th>\n",
              "      <td>1000004</td>\n",
              "      <td>P00128942</td>\n",
              "      <td>M</td>\n",
              "      <td>46-50</td>\n",
              "      <td>7</td>\n",
              "      <td>B</td>\n",
              "      <td>2</td>\n",
              "      <td>1</td>\n",
              "      <td>1</td>\n",
              "      <td>11.0</td>\n",
              "      <td>NaN</td>\n",
              "    </tr>\n",
              "    <tr>\n",
              "      <th>1</th>\n",
              "      <td>1000009</td>\n",
              "      <td>P00113442</td>\n",
              "      <td>M</td>\n",
              "      <td>26-35</td>\n",
              "      <td>17</td>\n",
              "      <td>C</td>\n",
              "      <td>0</td>\n",
              "      <td>0</td>\n",
              "      <td>3</td>\n",
              "      <td>5.0</td>\n",
              "      <td>NaN</td>\n",
              "    </tr>\n",
              "    <tr>\n",
              "      <th>2</th>\n",
              "      <td>1000010</td>\n",
              "      <td>P00288442</td>\n",
              "      <td>F</td>\n",
              "      <td>36-45</td>\n",
              "      <td>1</td>\n",
              "      <td>B</td>\n",
              "      <td>4+</td>\n",
              "      <td>1</td>\n",
              "      <td>5</td>\n",
              "      <td>14.0</td>\n",
              "      <td>NaN</td>\n",
              "    </tr>\n",
              "  </tbody>\n",
              "</table>\n",
              "</div>"
            ],
            "text/plain": [
              "   User_ID Product_ID  ... Product_Category_2 Product_Category_3\n",
              "0  1000004  P00128942  ...               11.0                NaN\n",
              "1  1000009  P00113442  ...                5.0                NaN\n",
              "2  1000010  P00288442  ...               14.0                NaN\n",
              "\n",
              "[3 rows x 11 columns]"
            ]
          },
          "metadata": {
            "tags": []
          },
          "execution_count": 142
        }
      ]
    },
    {
      "cell_type": "code",
      "metadata": {
        "colab": {
          "base_uri": "https://localhost:8080/",
          "height": 266
        },
        "id": "pHw4HMvRfKm3",
        "outputId": "05098d0d-d88e-466a-c536-82bec364a961"
      },
      "source": [
        "data_train.describe().T"
      ],
      "execution_count": 92,
      "outputs": [
        {
          "output_type": "execute_result",
          "data": {
            "text/html": [
              "<div>\n",
              "<style scoped>\n",
              "    .dataframe tbody tr th:only-of-type {\n",
              "        vertical-align: middle;\n",
              "    }\n",
              "\n",
              "    .dataframe tbody tr th {\n",
              "        vertical-align: top;\n",
              "    }\n",
              "\n",
              "    .dataframe thead th {\n",
              "        text-align: right;\n",
              "    }\n",
              "</style>\n",
              "<table border=\"1\" class=\"dataframe\">\n",
              "  <thead>\n",
              "    <tr style=\"text-align: right;\">\n",
              "      <th></th>\n",
              "      <th>count</th>\n",
              "      <th>mean</th>\n",
              "      <th>std</th>\n",
              "      <th>min</th>\n",
              "      <th>25%</th>\n",
              "      <th>50%</th>\n",
              "      <th>75%</th>\n",
              "      <th>max</th>\n",
              "    </tr>\n",
              "  </thead>\n",
              "  <tbody>\n",
              "    <tr>\n",
              "      <th>User_ID</th>\n",
              "      <td>550068.0</td>\n",
              "      <td>1.003029e+06</td>\n",
              "      <td>1727.591586</td>\n",
              "      <td>1000001.0</td>\n",
              "      <td>1001516.0</td>\n",
              "      <td>1003077.0</td>\n",
              "      <td>1004478.0</td>\n",
              "      <td>1006040.0</td>\n",
              "    </tr>\n",
              "    <tr>\n",
              "      <th>Occupation</th>\n",
              "      <td>550068.0</td>\n",
              "      <td>8.076707e+00</td>\n",
              "      <td>6.522660</td>\n",
              "      <td>0.0</td>\n",
              "      <td>2.0</td>\n",
              "      <td>7.0</td>\n",
              "      <td>14.0</td>\n",
              "      <td>20.0</td>\n",
              "    </tr>\n",
              "    <tr>\n",
              "      <th>Marital_Status</th>\n",
              "      <td>550068.0</td>\n",
              "      <td>4.096530e-01</td>\n",
              "      <td>0.491770</td>\n",
              "      <td>0.0</td>\n",
              "      <td>0.0</td>\n",
              "      <td>0.0</td>\n",
              "      <td>1.0</td>\n",
              "      <td>1.0</td>\n",
              "    </tr>\n",
              "    <tr>\n",
              "      <th>Product_Category_1</th>\n",
              "      <td>550068.0</td>\n",
              "      <td>5.404270e+00</td>\n",
              "      <td>3.936211</td>\n",
              "      <td>1.0</td>\n",
              "      <td>1.0</td>\n",
              "      <td>5.0</td>\n",
              "      <td>8.0</td>\n",
              "      <td>20.0</td>\n",
              "    </tr>\n",
              "    <tr>\n",
              "      <th>Product_Category_2</th>\n",
              "      <td>376430.0</td>\n",
              "      <td>9.842329e+00</td>\n",
              "      <td>5.086590</td>\n",
              "      <td>2.0</td>\n",
              "      <td>5.0</td>\n",
              "      <td>9.0</td>\n",
              "      <td>15.0</td>\n",
              "      <td>18.0</td>\n",
              "    </tr>\n",
              "    <tr>\n",
              "      <th>Product_Category_3</th>\n",
              "      <td>166821.0</td>\n",
              "      <td>1.266824e+01</td>\n",
              "      <td>4.125338</td>\n",
              "      <td>3.0</td>\n",
              "      <td>9.0</td>\n",
              "      <td>14.0</td>\n",
              "      <td>16.0</td>\n",
              "      <td>18.0</td>\n",
              "    </tr>\n",
              "    <tr>\n",
              "      <th>Purchase</th>\n",
              "      <td>550068.0</td>\n",
              "      <td>9.263969e+03</td>\n",
              "      <td>5023.065394</td>\n",
              "      <td>12.0</td>\n",
              "      <td>5823.0</td>\n",
              "      <td>8047.0</td>\n",
              "      <td>12054.0</td>\n",
              "      <td>23961.0</td>\n",
              "    </tr>\n",
              "  </tbody>\n",
              "</table>\n",
              "</div>"
            ],
            "text/plain": [
              "                       count          mean  ...        75%        max\n",
              "User_ID             550068.0  1.003029e+06  ...  1004478.0  1006040.0\n",
              "Occupation          550068.0  8.076707e+00  ...       14.0       20.0\n",
              "Marital_Status      550068.0  4.096530e-01  ...        1.0        1.0\n",
              "Product_Category_1  550068.0  5.404270e+00  ...        8.0       20.0\n",
              "Product_Category_2  376430.0  9.842329e+00  ...       15.0       18.0\n",
              "Product_Category_3  166821.0  1.266824e+01  ...       16.0       18.0\n",
              "Purchase            550068.0  9.263969e+03  ...    12054.0    23961.0\n",
              "\n",
              "[7 rows x 8 columns]"
            ]
          },
          "metadata": {
            "tags": []
          },
          "execution_count": 92
        }
      ]
    },
    {
      "cell_type": "code",
      "metadata": {
        "id": "GS5u16qZOiuC"
      },
      "source": [
        "#retirando a letra \"P\"\n",
        "data_train['Product_ID'] = data_train['Product_ID'].apply(lambda x: x[1:]) \n"
      ],
      "execution_count": 4,
      "outputs": []
    },
    {
      "cell_type": "code",
      "metadata": {
        "colab": {
          "base_uri": "https://localhost:8080/",
          "height": 292
        },
        "id": "C-yGJHbdKpS5",
        "outputId": "353e5a50-163a-4a65-a986-86e1fb354678"
      },
      "source": [
        "data_train.head()"
      ],
      "execution_count": 94,
      "outputs": [
        {
          "output_type": "execute_result",
          "data": {
            "text/html": [
              "<div>\n",
              "<style scoped>\n",
              "    .dataframe tbody tr th:only-of-type {\n",
              "        vertical-align: middle;\n",
              "    }\n",
              "\n",
              "    .dataframe tbody tr th {\n",
              "        vertical-align: top;\n",
              "    }\n",
              "\n",
              "    .dataframe thead th {\n",
              "        text-align: right;\n",
              "    }\n",
              "</style>\n",
              "<table border=\"1\" class=\"dataframe\">\n",
              "  <thead>\n",
              "    <tr style=\"text-align: right;\">\n",
              "      <th></th>\n",
              "      <th>User_ID</th>\n",
              "      <th>Product_ID</th>\n",
              "      <th>Gender</th>\n",
              "      <th>Age</th>\n",
              "      <th>Occupation</th>\n",
              "      <th>City_Category</th>\n",
              "      <th>Stay_In_Current_City_Years</th>\n",
              "      <th>Marital_Status</th>\n",
              "      <th>Product_Category_1</th>\n",
              "      <th>Product_Category_2</th>\n",
              "      <th>Product_Category_3</th>\n",
              "      <th>Purchase</th>\n",
              "    </tr>\n",
              "  </thead>\n",
              "  <tbody>\n",
              "    <tr>\n",
              "      <th>0</th>\n",
              "      <td>1000001</td>\n",
              "      <td>00069042</td>\n",
              "      <td>F</td>\n",
              "      <td>0-17</td>\n",
              "      <td>10</td>\n",
              "      <td>A</td>\n",
              "      <td>2</td>\n",
              "      <td>0</td>\n",
              "      <td>3</td>\n",
              "      <td>NaN</td>\n",
              "      <td>NaN</td>\n",
              "      <td>8370</td>\n",
              "    </tr>\n",
              "    <tr>\n",
              "      <th>1</th>\n",
              "      <td>1000001</td>\n",
              "      <td>00248942</td>\n",
              "      <td>F</td>\n",
              "      <td>0-17</td>\n",
              "      <td>10</td>\n",
              "      <td>A</td>\n",
              "      <td>2</td>\n",
              "      <td>0</td>\n",
              "      <td>1</td>\n",
              "      <td>6.0</td>\n",
              "      <td>14.0</td>\n",
              "      <td>15200</td>\n",
              "    </tr>\n",
              "    <tr>\n",
              "      <th>2</th>\n",
              "      <td>1000001</td>\n",
              "      <td>00087842</td>\n",
              "      <td>F</td>\n",
              "      <td>0-17</td>\n",
              "      <td>10</td>\n",
              "      <td>A</td>\n",
              "      <td>2</td>\n",
              "      <td>0</td>\n",
              "      <td>12</td>\n",
              "      <td>NaN</td>\n",
              "      <td>NaN</td>\n",
              "      <td>1422</td>\n",
              "    </tr>\n",
              "    <tr>\n",
              "      <th>3</th>\n",
              "      <td>1000001</td>\n",
              "      <td>00085442</td>\n",
              "      <td>F</td>\n",
              "      <td>0-17</td>\n",
              "      <td>10</td>\n",
              "      <td>A</td>\n",
              "      <td>2</td>\n",
              "      <td>0</td>\n",
              "      <td>12</td>\n",
              "      <td>14.0</td>\n",
              "      <td>NaN</td>\n",
              "      <td>1057</td>\n",
              "    </tr>\n",
              "    <tr>\n",
              "      <th>4</th>\n",
              "      <td>1000002</td>\n",
              "      <td>00285442</td>\n",
              "      <td>M</td>\n",
              "      <td>55+</td>\n",
              "      <td>16</td>\n",
              "      <td>C</td>\n",
              "      <td>4+</td>\n",
              "      <td>0</td>\n",
              "      <td>8</td>\n",
              "      <td>NaN</td>\n",
              "      <td>NaN</td>\n",
              "      <td>7969</td>\n",
              "    </tr>\n",
              "  </tbody>\n",
              "</table>\n",
              "</div>"
            ],
            "text/plain": [
              "   User_ID Product_ID Gender  ... Product_Category_2  Product_Category_3 Purchase\n",
              "0  1000001   00069042      F  ...                NaN                 NaN     8370\n",
              "1  1000001   00248942      F  ...                6.0                14.0    15200\n",
              "2  1000001   00087842      F  ...                NaN                 NaN     1422\n",
              "3  1000001   00085442      F  ...               14.0                 NaN     1057\n",
              "4  1000002   00285442      M  ...                NaN                 NaN     7969\n",
              "\n",
              "[5 rows x 12 columns]"
            ]
          },
          "metadata": {
            "tags": []
          },
          "execution_count": 94
        }
      ]
    },
    {
      "cell_type": "code",
      "metadata": {
        "id": "FMniucN7QWgT"
      },
      "source": [
        "data_train['Product_ID']=data_train['Product_ID'].astype(int)\n"
      ],
      "execution_count": 5,
      "outputs": []
    },
    {
      "cell_type": "code",
      "metadata": {
        "colab": {
          "base_uri": "https://localhost:8080/",
          "height": 297
        },
        "id": "8aTFtI56SeR8",
        "outputId": "3398931b-02ef-4fce-fd2a-d1cc0c49f8e6"
      },
      "source": [
        "data_train.describe().T"
      ],
      "execution_count": 6,
      "outputs": [
        {
          "output_type": "execute_result",
          "data": {
            "text/html": [
              "<div>\n",
              "<style scoped>\n",
              "    .dataframe tbody tr th:only-of-type {\n",
              "        vertical-align: middle;\n",
              "    }\n",
              "\n",
              "    .dataframe tbody tr th {\n",
              "        vertical-align: top;\n",
              "    }\n",
              "\n",
              "    .dataframe thead th {\n",
              "        text-align: right;\n",
              "    }\n",
              "</style>\n",
              "<table border=\"1\" class=\"dataframe\">\n",
              "  <thead>\n",
              "    <tr style=\"text-align: right;\">\n",
              "      <th></th>\n",
              "      <th>count</th>\n",
              "      <th>mean</th>\n",
              "      <th>std</th>\n",
              "      <th>min</th>\n",
              "      <th>25%</th>\n",
              "      <th>50%</th>\n",
              "      <th>75%</th>\n",
              "      <th>max</th>\n",
              "    </tr>\n",
              "  </thead>\n",
              "  <tbody>\n",
              "    <tr>\n",
              "      <th>User_ID</th>\n",
              "      <td>550068.0</td>\n",
              "      <td>1.003029e+06</td>\n",
              "      <td>1727.591586</td>\n",
              "      <td>1000001.0</td>\n",
              "      <td>1001516.0</td>\n",
              "      <td>1003077.0</td>\n",
              "      <td>1004478.0</td>\n",
              "      <td>1006040.0</td>\n",
              "    </tr>\n",
              "    <tr>\n",
              "      <th>Product_ID</th>\n",
              "      <td>550068.0</td>\n",
              "      <td>1.747448e+05</td>\n",
              "      <td>102746.516956</td>\n",
              "      <td>142.0</td>\n",
              "      <td>97142.0</td>\n",
              "      <td>169742.0</td>\n",
              "      <td>259142.0</td>\n",
              "      <td>375436.0</td>\n",
              "    </tr>\n",
              "    <tr>\n",
              "      <th>Occupation</th>\n",
              "      <td>550068.0</td>\n",
              "      <td>8.076707e+00</td>\n",
              "      <td>6.522660</td>\n",
              "      <td>0.0</td>\n",
              "      <td>2.0</td>\n",
              "      <td>7.0</td>\n",
              "      <td>14.0</td>\n",
              "      <td>20.0</td>\n",
              "    </tr>\n",
              "    <tr>\n",
              "      <th>Marital_Status</th>\n",
              "      <td>550068.0</td>\n",
              "      <td>4.096530e-01</td>\n",
              "      <td>0.491770</td>\n",
              "      <td>0.0</td>\n",
              "      <td>0.0</td>\n",
              "      <td>0.0</td>\n",
              "      <td>1.0</td>\n",
              "      <td>1.0</td>\n",
              "    </tr>\n",
              "    <tr>\n",
              "      <th>Product_Category_1</th>\n",
              "      <td>550068.0</td>\n",
              "      <td>5.404270e+00</td>\n",
              "      <td>3.936211</td>\n",
              "      <td>1.0</td>\n",
              "      <td>1.0</td>\n",
              "      <td>5.0</td>\n",
              "      <td>8.0</td>\n",
              "      <td>20.0</td>\n",
              "    </tr>\n",
              "    <tr>\n",
              "      <th>Product_Category_2</th>\n",
              "      <td>376430.0</td>\n",
              "      <td>9.842329e+00</td>\n",
              "      <td>5.086590</td>\n",
              "      <td>2.0</td>\n",
              "      <td>5.0</td>\n",
              "      <td>9.0</td>\n",
              "      <td>15.0</td>\n",
              "      <td>18.0</td>\n",
              "    </tr>\n",
              "    <tr>\n",
              "      <th>Product_Category_3</th>\n",
              "      <td>166821.0</td>\n",
              "      <td>1.266824e+01</td>\n",
              "      <td>4.125338</td>\n",
              "      <td>3.0</td>\n",
              "      <td>9.0</td>\n",
              "      <td>14.0</td>\n",
              "      <td>16.0</td>\n",
              "      <td>18.0</td>\n",
              "    </tr>\n",
              "    <tr>\n",
              "      <th>Purchase</th>\n",
              "      <td>550068.0</td>\n",
              "      <td>9.263969e+03</td>\n",
              "      <td>5023.065394</td>\n",
              "      <td>12.0</td>\n",
              "      <td>5823.0</td>\n",
              "      <td>8047.0</td>\n",
              "      <td>12054.0</td>\n",
              "      <td>23961.0</td>\n",
              "    </tr>\n",
              "  </tbody>\n",
              "</table>\n",
              "</div>"
            ],
            "text/plain": [
              "                       count          mean  ...        75%        max\n",
              "User_ID             550068.0  1.003029e+06  ...  1004478.0  1006040.0\n",
              "Product_ID          550068.0  1.747448e+05  ...   259142.0   375436.0\n",
              "Occupation          550068.0  8.076707e+00  ...       14.0       20.0\n",
              "Marital_Status      550068.0  4.096530e-01  ...        1.0        1.0\n",
              "Product_Category_1  550068.0  5.404270e+00  ...        8.0       20.0\n",
              "Product_Category_2  376430.0  9.842329e+00  ...       15.0       18.0\n",
              "Product_Category_3  166821.0  1.266824e+01  ...       16.0       18.0\n",
              "Purchase            550068.0  9.263969e+03  ...    12054.0    23961.0\n",
              "\n",
              "[8 rows x 8 columns]"
            ]
          },
          "metadata": {
            "tags": []
          },
          "execution_count": 6
        }
      ]
    },
    {
      "cell_type": "code",
      "metadata": {
        "colab": {
          "base_uri": "https://localhost:8080/"
        },
        "id": "qVLGQ6pOcFqe",
        "outputId": "a651190c-bf8d-440d-b822-06543efd806c"
      },
      "source": [
        "data_train['Product_Category_3'].value_counts()"
      ],
      "execution_count": 97,
      "outputs": [
        {
          "output_type": "execute_result",
          "data": {
            "text/plain": [
              "16.0    32636\n",
              "15.0    28013\n",
              "14.0    18428\n",
              "17.0    16702\n",
              "5.0     16658\n",
              "8.0     12562\n",
              "9.0     11579\n",
              "12.0     9246\n",
              "13.0     5459\n",
              "6.0      4890\n",
              "18.0     4629\n",
              "4.0      1875\n",
              "11.0     1805\n",
              "10.0     1726\n",
              "3.0       613\n",
              "Name: Product_Category_3, dtype: int64"
            ]
          },
          "metadata": {
            "tags": []
          },
          "execution_count": 97
        }
      ]
    },
    {
      "cell_type": "code",
      "metadata": {
        "colab": {
          "base_uri": "https://localhost:8080/"
        },
        "id": "Ob6IzsVbZ-vp",
        "outputId": "c97f99bd-4b01-4d86-a2ff-aff8553bc466"
      },
      "source": [
        "n_rows = data_train.shape[0]\n",
        "print (f'Total de linhas/Observações {n_rows}')"
      ],
      "execution_count": 7,
      "outputs": [
        {
          "output_type": "stream",
          "text": [
            "Total de linhas/Observações 550068\n"
          ],
          "name": "stdout"
        }
      ]
    },
    {
      "cell_type": "code",
      "metadata": {
        "colab": {
          "base_uri": "https://localhost:8080/"
        },
        "id": "WaQdlcimdv6D",
        "outputId": "53ed4d97-abb3-42b8-e1ee-b4327777ac22"
      },
      "source": [
        "#quantidade de usuarios\n",
        "usuarios = len(data_train['User_ID'].value_counts().index)\n",
        "print (f'A Quantidade de usuario é {usuarios}')"
      ],
      "execution_count": 8,
      "outputs": [
        {
          "output_type": "stream",
          "text": [
            "A Quantidade de usuario é 5891\n"
          ],
          "name": "stdout"
        }
      ]
    },
    {
      "cell_type": "code",
      "metadata": {
        "colab": {
          "base_uri": "https://localhost:8080/"
        },
        "id": "po2Qwzp6elhY",
        "outputId": "f2295028-15f2-4343-8509-3ab97b0fa2af"
      },
      "source": [
        "#quantidade de produtos\n",
        "produtos = len(data_train['Product_ID'].value_counts().index)\n",
        "print (f'A Variedade de produtos é {produtos}')"
      ],
      "execution_count": 9,
      "outputs": [
        {
          "output_type": "stream",
          "text": [
            "A Variedade de produtos é 3631\n"
          ],
          "name": "stdout"
        }
      ]
    },
    {
      "cell_type": "code",
      "metadata": {
        "colab": {
          "base_uri": "https://localhost:8080/"
        },
        "id": "yrukYpE4e-Cp",
        "outputId": "f72f9956-6a9c-41a1-fe9d-2d41e4bd7f4e"
      },
      "source": [
        "data_train['Product_ID'].describe()"
      ],
      "execution_count": 10,
      "outputs": [
        {
          "output_type": "execute_result",
          "data": {
            "text/plain": [
              "count    550068.000000\n",
              "mean     174744.814667\n",
              "std      102746.516956\n",
              "min         142.000000\n",
              "25%       97142.000000\n",
              "50%      169742.000000\n",
              "75%      259142.000000\n",
              "max      375436.000000\n",
              "Name: Product_ID, dtype: float64"
            ]
          },
          "metadata": {
            "tags": []
          },
          "execution_count": 10
        }
      ]
    },
    {
      "cell_type": "code",
      "metadata": {
        "colab": {
          "base_uri": "https://localhost:8080/"
        },
        "id": "vDZimp8uaF3-",
        "outputId": "3a42d830-9442-4a4d-8fb9-421c0d9adcbb"
      },
      "source": [
        "prod2 = data_train['Product_Category_2'].isnull().sum()\n",
        "prod3 = data_train['Product_Category_3'].isnull().sum()\n",
        "\n",
        "print (f'Nulos produtos 2 {prod2} e Nulos produtos 3 {prod3}')"
      ],
      "execution_count": 11,
      "outputs": [
        {
          "output_type": "stream",
          "text": [
            "Nulos produtos 2 173638 e Nulos produtos 3 383247\n"
          ],
          "name": "stdout"
        }
      ]
    },
    {
      "cell_type": "code",
      "metadata": {
        "colab": {
          "base_uri": "https://localhost:8080/"
        },
        "id": "qpo6GRL_abYj",
        "outputId": "13520585-8745-42f4-f7d0-16ac8c8f8ea1"
      },
      "source": [
        "print (f'Dados validos em produtos 2 {n_rows-prod2} Dados validos em produtos 3 {n_rows-prod3}')\n",
        "print (f'Dados validos em produtos 2 % {prod2/n_rows:.2f} Dados validos em produtos 3 % {prod3/n_rows:.2f}')"
      ],
      "execution_count": 12,
      "outputs": [
        {
          "output_type": "stream",
          "text": [
            "Dados validos em produtos 2 376430 Dados validos em produtos 3 166821\n",
            "Dados validos em produtos 2 % 0.32 Dados validos em produtos 3 % 0.70\n"
          ],
          "name": "stdout"
        }
      ]
    },
    {
      "cell_type": "code",
      "metadata": {
        "colab": {
          "base_uri": "https://localhost:8080/",
          "height": 352
        },
        "id": "Ah2SuxBPbsve",
        "outputId": "6bca4e2d-f45f-4420-f69f-3a6714bc8c13"
      },
      "source": [
        "plt.figure(figsize=(15,5))\n",
        "sns.barplot(data=data_train, x=data_train['Product_Category_1'], y=data_train['Purchase'])"
      ],
      "execution_count": 13,
      "outputs": [
        {
          "output_type": "execute_result",
          "data": {
            "text/plain": [
              "<matplotlib.axes._subplots.AxesSubplot at 0x7f8b8da42dd8>"
            ]
          },
          "metadata": {
            "tags": []
          },
          "execution_count": 13
        },
        {
          "output_type": "display_data",
          "data": {
            "image/png": "[encoded data removed]",
            "text/plain": [
              "<Figure size 1080x360 with 1 Axes>"
            ]
          },
          "metadata": {
            "tags": [],
            "needs_background": "light"
          }
        }
      ]
    },
    {
      "cell_type": "code",
      "metadata": {
        "id": "3Di3-lRFpaVV"
      },
      "source": [
        "data_train = data_train.drop(['Product_Category_3'], axis=1)\n",
        "data_train = data_train.drop(['Product_Category_2'], axis=1)\n"
      ],
      "execution_count": 14,
      "outputs": []
    },
    {
      "cell_type": "code",
      "metadata": {
        "id": "-qyTgOBfptwO"
      },
      "source": [
        "#Gender\n",
        "trocar_Gender = {'F': 0, 'M':1}\n",
        "\n",
        "data_train['Gender'] = data_train['Gender'].map(trocar_Gender)\n"
      ],
      "execution_count": 15,
      "outputs": []
    },
    {
      "cell_type": "code",
      "metadata": {
        "id": "jRI-kbYXqHRV"
      },
      "source": [
        "data_train.Age.unique()\n",
        "\n",
        "trocar_age = {'0-17':0, '55+':1, '26-35':2, '46-50':3, '51-55':4, '36-45':5, '18-25':6}\n",
        "data_train['Age'] = data_train['Age'].map(trocar_age)\n"
      ],
      "execution_count": 16,
      "outputs": []
    },
    {
      "cell_type": "code",
      "metadata": {
        "id": "DLRTg_Nlqjvf"
      },
      "source": [
        "data_train.City_Category.unique()\n",
        "\n",
        "trocar_City_categoria = {'A':0, 'C':1, 'B':2}\n",
        "data_train['City_Category'] = data_train['City_Category'].map(trocar_City_categoria)\n"
      ],
      "execution_count": 17,
      "outputs": []
    },
    {
      "cell_type": "code",
      "metadata": {
        "id": "oOonklZgq57-"
      },
      "source": [
        "data_train.Stay_In_Current_City_Years.unique()\n",
        "\n",
        "trocar_Stay = {'2':2, '4+':4, '3':3, '1':1, '0':0}\n",
        "data_train['Stay_In_Current_City_Years'] = data_train['Stay_In_Current_City_Years'].map(trocar_Stay)\n"
      ],
      "execution_count": 18,
      "outputs": []
    },
    {
      "cell_type": "code",
      "metadata": {
        "colab": {
          "base_uri": "https://localhost:8080/"
        },
        "id": "EZsCBE_VrN8Z",
        "outputId": "d5e58168-2ff7-4b8b-9c22-8e428355007d"
      },
      "source": [
        "data_train.info()"
      ],
      "execution_count": 150,
      "outputs": [
        {
          "output_type": "stream",
          "text": [
            "<class 'pandas.core.frame.DataFrame'>\n",
            "RangeIndex: 550068 entries, 0 to 550067\n",
            "Data columns (total 10 columns):\n",
            " #   Column                      Non-Null Count   Dtype\n",
            "---  ------                      --------------   -----\n",
            " 0   User_ID                     550068 non-null  int64\n",
            " 1   Product_ID                  550068 non-null  int64\n",
            " 2   Gender                      550068 non-null  int64\n",
            " 3   Age                         550068 non-null  int64\n",
            " 4   Occupation                  550068 non-null  int64\n",
            " 5   City_Category               550068 non-null  int64\n",
            " 6   Stay_In_Current_City_Years  550068 non-null  int64\n",
            " 7   Marital_Status              550068 non-null  int64\n",
            " 8   Product_Category_1          550068 non-null  int64\n",
            " 9   Purchase                    550068 non-null  int64\n",
            "dtypes: int64(10)\n",
            "memory usage: 42.0 MB\n"
          ],
          "name": "stdout"
        }
      ]
    },
    {
      "cell_type": "markdown",
      "metadata": {
        "id": "-I8dvm-4TaEz"
      },
      "source": [
        "## Machine Learning"
      ]
    },
    {
      "cell_type": "code",
      "metadata": {
        "id": "SyP7DxMOtTRR"
      },
      "source": [
        "from sklearn.ensemble import RandomForestRegressor\n",
        "from sklearn.ensemble import GradientBoostingRegressor\n",
        "from sklearn.model_selection import train_test_split\n",
        "from sklearn.model_selection import cross_validate\n"
      ],
      "execution_count": 44,
      "outputs": []
    },
    {
      "cell_type": "code",
      "metadata": {
        "id": "RIEFC1oNtBs7"
      },
      "source": [
        "X = data_train.drop('Purchase', axis=1)\n",
        "y = data_train.Purchase\n"
      ],
      "execution_count": 20,
      "outputs": []
    },
    {
      "cell_type": "code",
      "metadata": {
        "id": "jBxVVv4e2qCN"
      },
      "source": [
        "X_train, X_test, y_train, y_test = train_test_split(X, y, test_size=0.25, random_state=41)"
      ],
      "execution_count": 21,
      "outputs": []
    },
    {
      "cell_type": "code",
      "metadata": {
        "colab": {
          "base_uri": "https://localhost:8080/"
        },
        "id": "dX-lAlrZtRwd",
        "outputId": "30836f9c-ca50-4467-eda4-6e17f1433e67"
      },
      "source": [
        "rf = RandomForestRegressor(verbose=True)\n",
        "rf.fit(X_train, y_train)"
      ],
      "execution_count": 22,
      "outputs": [
        {
          "output_type": "stream",
          "text": [
            "[Parallel(n_jobs=1)]: Using backend SequentialBackend with 1 concurrent workers.\n",
            "[Parallel(n_jobs=1)]: Done 100 out of 100 | elapsed:  3.9min finished\n"
          ],
          "name": "stderr"
        },
        {
          "output_type": "execute_result",
          "data": {
            "text/plain": [
              "RandomForestRegressor(bootstrap=True, ccp_alpha=0.0, criterion='mse',\n",
              "                      max_depth=None, max_features='auto', max_leaf_nodes=None,\n",
              "                      max_samples=None, min_impurity_decrease=0.0,\n",
              "                      min_impurity_split=None, min_samples_leaf=1,\n",
              "                      min_samples_split=2, min_weight_fraction_leaf=0.0,\n",
              "                      n_estimators=100, n_jobs=None, oob_score=False,\n",
              "                      random_state=None, verbose=True, warm_start=False)"
            ]
          },
          "metadata": {
            "tags": []
          },
          "execution_count": 22
        }
      ]
    },
    {
      "cell_type": "code",
      "metadata": {
        "colab": {
          "base_uri": "https://localhost:8080/"
        },
        "id": "VkvDngHnvC1f",
        "outputId": "72ca935e-8870-4825-f903-beb2093874e4"
      },
      "source": [
        "rf.score(X_train, y_train)"
      ],
      "execution_count": 23,
      "outputs": [
        {
          "output_type": "stream",
          "text": [
            "[Parallel(n_jobs=1)]: Using backend SequentialBackend with 1 concurrent workers.\n",
            "[Parallel(n_jobs=1)]: Done 100 out of 100 | elapsed:   33.0s finished\n"
          ],
          "name": "stderr"
        },
        {
          "output_type": "execute_result",
          "data": {
            "text/plain": [
              "0.9582604534668835"
            ]
          },
          "metadata": {
            "tags": []
          },
          "execution_count": 23
        }
      ]
    },
    {
      "cell_type": "code",
      "metadata": {
        "colab": {
          "base_uri": "https://localhost:8080/"
        },
        "id": "Tvu9qT6px_S1",
        "outputId": "70b8e40c-015f-449d-c643-df0781900ee6"
      },
      "source": [
        "rf.score(X_test, y_test)"
      ],
      "execution_count": 24,
      "outputs": [
        {
          "output_type": "stream",
          "text": [
            "[Parallel(n_jobs=1)]: Using backend SequentialBackend with 1 concurrent workers.\n",
            "[Parallel(n_jobs=1)]: Done 100 out of 100 | elapsed:   11.3s finished\n"
          ],
          "name": "stderr"
        },
        {
          "output_type": "execute_result",
          "data": {
            "text/plain": [
              "0.6993215948274573"
            ]
          },
          "metadata": {
            "tags": []
          },
          "execution_count": 24
        }
      ]
    },
    {
      "cell_type": "code",
      "metadata": {
        "id": "DlUSLDdBLUqp"
      },
      "source": [
        "# Gradient Boost e Random Forest\n",
        "gb = GradientBoostingRegressor(verbose=True)\n",
        "rf = RandomForestRegressor(verbose=True)"
      ],
      "execution_count": 50,
      "outputs": []
    },
    {
      "cell_type": "code",
      "metadata": {
        "id": "bHaQOFsYLO1P"
      },
      "source": [
        "#Cross Validation\n",
        "scoring = 'r2'\n",
        "cv = 5"
      ],
      "execution_count": 48,
      "outputs": []
    },
    {
      "cell_type": "code",
      "metadata": {
        "colab": {
          "base_uri": "https://localhost:8080/"
        },
        "id": "HOXYJ05C43Z0",
        "outputId": "54277715-d68d-46e5-8af3-60a7295840d2"
      },
      "source": [
        "crossRF= cross_validate(rf, X, y, cv=cv, scoring=scoring)"
      ],
      "execution_count": 25,
      "outputs": [
        {
          "output_type": "stream",
          "text": [
            "[Parallel(n_jobs=1)]: Using backend SequentialBackend with 1 concurrent workers.\n",
            "[Parallel(n_jobs=1)]: Done 100 out of 100 | elapsed:  4.1min finished\n",
            "[Parallel(n_jobs=1)]: Using backend SequentialBackend with 1 concurrent workers.\n",
            "[Parallel(n_jobs=1)]: Done 100 out of 100 | elapsed:    8.3s finished\n",
            "[Parallel(n_jobs=1)]: Using backend SequentialBackend with 1 concurrent workers.\n",
            "[Parallel(n_jobs=1)]: Done 100 out of 100 | elapsed:  4.1min finished\n",
            "[Parallel(n_jobs=1)]: Using backend SequentialBackend with 1 concurrent workers.\n",
            "[Parallel(n_jobs=1)]: Done 100 out of 100 | elapsed:    7.9s finished\n",
            "[Parallel(n_jobs=1)]: Using backend SequentialBackend with 1 concurrent workers.\n",
            "[Parallel(n_jobs=1)]: Done 100 out of 100 | elapsed:  4.1min finished\n",
            "[Parallel(n_jobs=1)]: Using backend SequentialBackend with 1 concurrent workers.\n",
            "[Parallel(n_jobs=1)]: Done 100 out of 100 | elapsed:    7.8s finished\n",
            "[Parallel(n_jobs=1)]: Using backend SequentialBackend with 1 concurrent workers.\n",
            "[Parallel(n_jobs=1)]: Done 100 out of 100 | elapsed:  4.1min finished\n",
            "[Parallel(n_jobs=1)]: Using backend SequentialBackend with 1 concurrent workers.\n",
            "[Parallel(n_jobs=1)]: Done 100 out of 100 | elapsed:    7.8s finished\n",
            "[Parallel(n_jobs=1)]: Using backend SequentialBackend with 1 concurrent workers.\n",
            "[Parallel(n_jobs=1)]: Done 100 out of 100 | elapsed:  4.2min finished\n",
            "[Parallel(n_jobs=1)]: Using backend SequentialBackend with 1 concurrent workers.\n",
            "[Parallel(n_jobs=1)]: Done 100 out of 100 | elapsed:    7.8s finished\n"
          ],
          "name": "stderr"
        }
      ]
    },
    {
      "cell_type": "code",
      "metadata": {
        "colab": {
          "base_uri": "https://localhost:8080/"
        },
        "id": "hQlsJuMdEi07",
        "outputId": "6b723809-af63-49aa-87ee-ed79e2ed06af"
      },
      "source": [
        "crossRF['test_score'].mean()"
      ],
      "execution_count": 42,
      "outputs": [
        {
          "output_type": "execute_result",
          "data": {
            "text/plain": [
              "0.6985818400703117"
            ]
          },
          "metadata": {
            "tags": []
          },
          "execution_count": 42
        }
      ]
    },
    {
      "cell_type": "code",
      "metadata": {
        "colab": {
          "base_uri": "https://localhost:8080/"
        },
        "id": "zb9uU7IxLjs-",
        "outputId": "908385fb-16c0-4bd7-b006-5ace2c657c13"
      },
      "source": [
        "crossGrad = cross_validate(gb, X, y , cv=cv, scoring=scoring)"
      ],
      "execution_count": 51,
      "outputs": [
        {
          "output_type": "stream",
          "text": [
            "      Iter       Train Loss   Remaining Time \n",
            "         1    23223758.2227           58.98s\n",
            "         2    21496336.5911           59.16s\n",
            "         3    20174715.8819           59.00s\n",
            "         4    18889013.4838           58.87s\n",
            "         5    17847479.8566           58.35s\n",
            "         6    17022919.2004           57.94s\n",
            "         7    16267470.7348           56.81s\n",
            "         8    15651683.9063           55.94s\n",
            "         9    15101000.2534           55.30s\n",
            "        10    14651304.8037           54.60s\n",
            "        20    10896246.4205           47.51s\n",
            "        30     9704465.9206           41.53s\n",
            "        40     9218359.0299           35.45s\n",
            "        50     8975212.2095           29.46s\n",
            "        60     8835054.8986           23.53s\n",
            "        70     8752641.0475           17.62s\n",
            "        80     8680855.5416           11.72s\n",
            "        90     8626092.8756            5.88s\n",
            "       100     8562370.9307            0.00s\n",
            "      Iter       Train Loss   Remaining Time \n",
            "         1    23233651.8689            1.01m\n",
            "         2    21506539.1421           59.23s\n",
            "         3    20188952.8933           58.45s\n",
            "         4    18903452.3742           58.99s\n",
            "         5    17862196.9538           58.24s\n",
            "         6    17041210.3150           57.87s\n",
            "         7    16286424.2558           57.19s\n",
            "         8    15673646.2816           56.41s\n",
            "         9    15123488.3306           55.79s\n",
            "        10    14676458.5713           54.57s\n",
            "        20    10906101.6959           47.44s\n",
            "        30     9707625.2439           41.37s\n",
            "        40     9256625.0770           35.69s\n",
            "        50     8976734.5141           29.93s\n",
            "        60     8847201.8918           23.83s\n",
            "        70     8742462.0710           17.82s\n",
            "        80     8670032.8360           11.87s\n",
            "        90     8609503.3234            5.93s\n",
            "       100     8560748.6248            0.00s\n",
            "      Iter       Train Loss   Remaining Time \n",
            "         1    23193129.4797            1.03m\n",
            "         2    21464436.4759            1.01m\n",
            "         3    20140415.0751           59.32s\n",
            "         4    18854189.2173           58.15s\n",
            "         5    17812336.0858           57.32s\n",
            "         6    16963193.6487           56.92s\n",
            "         7    16212801.5963           56.54s\n",
            "         8    15614308.9668           55.85s\n",
            "         9    15063627.6581           55.26s\n",
            "        10    14612849.2549           54.63s\n",
            "        20    10887066.7995           47.68s\n",
            "        30     9695591.4846           41.36s\n",
            "        40     9209761.4194           36.71s\n",
            "        50     8961555.3118           30.27s\n",
            "        60     8822751.0289           24.02s\n",
            "        70     8746766.5682           17.90s\n",
            "        80     8677207.9446           11.89s\n",
            "        90     8619533.5550            5.92s\n",
            "       100     8559255.7300            0.00s\n",
            "      Iter       Train Loss   Remaining Time \n",
            "         1    23192494.9288           58.44s\n",
            "         2    21465962.3686           58.15s\n",
            "         3    20149370.2996           57.39s\n",
            "         4    18864032.8041           57.31s\n",
            "         5    17822859.2921           56.65s\n",
            "         6    16979231.4736           55.96s\n",
            "         7    16312640.4542           55.58s\n",
            "         8    15634347.1743           54.86s\n",
            "         9    15084093.2502           54.44s\n",
            "        10    14636974.2465           53.33s\n",
            "        20    11018856.8477           47.23s\n",
            "        30     9767844.8372           41.03s\n",
            "        40     9194560.6892           35.28s\n",
            "        50     8976001.6208           29.26s\n",
            "        60     8822806.0192           23.25s\n",
            "        70     8733051.8358           17.37s\n",
            "        80     8657175.4385           11.58s\n",
            "        90     8584502.5663            5.78s\n",
            "       100     8523213.4131            0.00s\n",
            "      Iter       Train Loss   Remaining Time \n",
            "         1    22947752.3407           58.14s\n",
            "         2    21038851.8395           58.31s\n",
            "         3    19758257.2092           57.69s\n",
            "         4    18375291.7686           57.24s\n",
            "         5    17255057.3237           56.95s\n",
            "         6    16438797.6736           56.20s\n",
            "         7    15622129.3907           55.46s\n",
            "         8    15027821.2001           54.86s\n",
            "         9    14425474.1968           54.20s\n",
            "        10    13973137.2025           53.79s\n",
            "        20    11458389.6174           46.97s\n",
            "        30    10413960.0840           40.80s\n",
            "        40     9424790.2163           35.31s\n",
            "        50     9049623.6891           29.59s\n",
            "        60     8919778.4886           24.09s\n",
            "        70     8807434.9700           18.06s\n",
            "        80     8724677.0349           11.95s\n",
            "        90     8651151.7781            5.93s\n",
            "       100     8606503.4749            0.00s\n"
          ],
          "name": "stdout"
        }
      ]
    },
    {
      "cell_type": "code",
      "metadata": {
        "colab": {
          "base_uri": "https://localhost:8080/"
        },
        "id": "HqYSph8KQo9C",
        "outputId": "b301841a-6175-4573-cf62-dc14c4808a72"
      },
      "source": [
        "crossGrad['test_score'].mean()"
      ],
      "execution_count": 53,
      "outputs": [
        {
          "output_type": "execute_result",
          "data": {
            "text/plain": [
              "0.6572755179624438"
            ]
          },
          "metadata": {
            "tags": []
          },
          "execution_count": 53
        }
      ]
    }
  ]
}