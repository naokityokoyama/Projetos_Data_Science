{
  "nbformat": 4,
  "nbformat_minor": 0,
  "metadata": {
    "colab": {
      "name": "Kaggle_ford.ipynb",
      "provenance": [],
      "collapsed_sections": [],
      "authorship_tag": "ABX9TyPVuud89pPAWZ/HQpRM9ZmO",
      "include_colab_link": true
    },
    "kernelspec": {
      "name": "python3",
      "display_name": "Python 3"
    }
  },
  "cells": [
    {
      "cell_type": "markdown",
      "metadata": {
        "id": "view-in-github",
        "colab_type": "text"
      },
      "source": [
        "<a href=\"https://colab.research.google.com/github/naokityokoyama/Projetos_Data_Science/blob/main/Kaggle_ford.ipynb\" target=\"_parent\"><img src=\"https://colab.research.google.com/assets/colab-badge.svg\" alt=\"Open In Colab\"/></a>"
      ]
    },
    {
      "cell_type": "markdown",
      "metadata": {
        "id": "5QFeFoJv6dTR"
      },
      "source": [
        "Métodos para lidar com dados desbalanceados\r\n",
        "*    Undersampling – Consiste em reduzir de forma aleatória os exemplos da classe majoritária.\r\n",
        "*    NearMiss – É um algoritmo de undersampling que consiste em reduzir de forma aleatória os exemplos da classe majoritária, porém ele seleciona os exemplos com base na distância.\r\n",
        "\r\n",
        "Quando instâncias das duas classes estão muito próximas umas das outras, removemos as instâncias da classe majoritária para termos uma maior separabilidade entre as classes.\r\n",
        "\r\n",
        "*    Oversampling – Consiste em replicar dados aleatórios da classe minoritária. Como estamos duplicando os dados já existentes este método está propício a dar overfitting.\r\n",
        "*    Smote – Consiste em gerar dados sintéticos (não duplicados) da classe minoritária a partir de vizinhos."
      ]
    },
    {
      "cell_type": "code",
      "metadata": {
        "id": "MeJKncBB7yZi"
      },
      "source": [
        "import warnings\r\n",
        "warnings.filterwarnings(\"ignore\", category=DeprecationWarning)"
      ],
      "execution_count": null,
      "outputs": []
    },
    {
      "cell_type": "code",
      "metadata": {
        "id": "qqOw8Hpa28VF",
        "colab": {
          "base_uri": "https://localhost:8080/"
        },
        "outputId": "4bbcd1d1-b42d-4c95-b639-49363bbd3b17"
      },
      "source": [
        "import pandas as pd\r\n",
        "import matplotlib.pyplot as plt\r\n",
        "import seaborn as sns\r\n",
        "from imblearn.under_sampling import NearMiss\r\n",
        "from imblearn.over_sampling import SMOTE\r\n",
        "import numpy as np\r\n",
        "from sklearn.tree import DecisionTreeClassifier\r\n",
        "from sklearn.model_selection import train_test_split\r\n",
        "from sklearn.ensemble import RandomForestClassifier\r\n",
        "from sklearn.model_selection import GridSearchCV"
      ],
      "execution_count": null,
      "outputs": [
        {
          "output_type": "stream",
          "text": [
            "/usr/local/lib/python3.6/dist-packages/sklearn/externals/six.py:31: FutureWarning: The module is deprecated in version 0.21 and will be removed in version 0.23 since we've dropped support for Python 2.7. Please rely on the official version of six (https://pypi.org/project/six/).\n",
            "  \"(https://pypi.org/project/six/).\", FutureWarning)\n",
            "/usr/local/lib/python3.6/dist-packages/sklearn/utils/deprecation.py:144: FutureWarning: The sklearn.neighbors.base module is  deprecated in version 0.22 and will be removed in version 0.24. The corresponding classes / functions should instead be imported from sklearn.neighbors. Anything that cannot be imported from sklearn.neighbors is now part of the private API.\n",
            "  warnings.warn(message, FutureWarning)\n"
          ],
          "name": "stderr"
        }
      ]
    },
    {
      "cell_type": "code",
      "metadata": {
        "colab": {
          "base_uri": "https://localhost:8080/",
          "height": 439
        },
        "id": "KybxrnfKb4TS",
        "outputId": "a3b5c48d-461d-4248-f3a0-5bfd9125a939"
      },
      "source": [
        "pd.read_csv('https://storage.googleapis.com/teste_naoki/ford/stayalert/fordTrain.csv')"
      ],
      "execution_count": null,
      "outputs": [
        {
          "output_type": "execute_result",
          "data": {
            "text/html": [
              "<div>\n",
              "<style scoped>\n",
              "    .dataframe tbody tr th:only-of-type {\n",
              "        vertical-align: middle;\n",
              "    }\n",
              "\n",
              "    .dataframe tbody tr th {\n",
              "        vertical-align: top;\n",
              "    }\n",
              "\n",
              "    .dataframe thead th {\n",
              "        text-align: right;\n",
              "    }\n",
              "</style>\n",
              "<table border=\"1\" class=\"dataframe\">\n",
              "  <thead>\n",
              "    <tr style=\"text-align: right;\">\n",
              "      <th></th>\n",
              "      <th>TrialID</th>\n",
              "      <th>ObsNum</th>\n",
              "      <th>IsAlert</th>\n",
              "      <th>P1</th>\n",
              "      <th>P2</th>\n",
              "      <th>P3</th>\n",
              "      <th>P4</th>\n",
              "      <th>P5</th>\n",
              "      <th>P6</th>\n",
              "      <th>P7</th>\n",
              "      <th>P8</th>\n",
              "      <th>E1</th>\n",
              "      <th>E2</th>\n",
              "      <th>E3</th>\n",
              "      <th>E4</th>\n",
              "      <th>E5</th>\n",
              "      <th>E6</th>\n",
              "      <th>E7</th>\n",
              "      <th>E8</th>\n",
              "      <th>E9</th>\n",
              "      <th>E10</th>\n",
              "      <th>E11</th>\n",
              "      <th>V1</th>\n",
              "      <th>V2</th>\n",
              "      <th>V3</th>\n",
              "      <th>V4</th>\n",
              "      <th>V5</th>\n",
              "      <th>V6</th>\n",
              "      <th>V7</th>\n",
              "      <th>V8</th>\n",
              "      <th>V9</th>\n",
              "      <th>V10</th>\n",
              "      <th>V11</th>\n",
              "    </tr>\n",
              "  </thead>\n",
              "  <tbody>\n",
              "    <tr>\n",
              "      <th>0</th>\n",
              "      <td>0</td>\n",
              "      <td>0</td>\n",
              "      <td>0</td>\n",
              "      <td>34.7406</td>\n",
              "      <td>9.84593</td>\n",
              "      <td>1400</td>\n",
              "      <td>42.8571</td>\n",
              "      <td>0.290601</td>\n",
              "      <td>572</td>\n",
              "      <td>104.8950</td>\n",
              "      <td>0</td>\n",
              "      <td>0.000</td>\n",
              "      <td>0.00</td>\n",
              "      <td>1</td>\n",
              "      <td>-20</td>\n",
              "      <td>0.015875</td>\n",
              "      <td>324</td>\n",
              "      <td>1</td>\n",
              "      <td>1</td>\n",
              "      <td>1</td>\n",
              "      <td>57</td>\n",
              "      <td>0.0</td>\n",
              "      <td>101.96</td>\n",
              "      <td>0.175</td>\n",
              "      <td>752</td>\n",
              "      <td>5.99375</td>\n",
              "      <td>0</td>\n",
              "      <td>2005</td>\n",
              "      <td>0</td>\n",
              "      <td>13.4</td>\n",
              "      <td>0</td>\n",
              "      <td>4</td>\n",
              "      <td>14.8004</td>\n",
              "    </tr>\n",
              "    <tr>\n",
              "      <th>1</th>\n",
              "      <td>0</td>\n",
              "      <td>1</td>\n",
              "      <td>0</td>\n",
              "      <td>34.4215</td>\n",
              "      <td>13.41120</td>\n",
              "      <td>1400</td>\n",
              "      <td>42.8571</td>\n",
              "      <td>0.290601</td>\n",
              "      <td>572</td>\n",
              "      <td>104.8950</td>\n",
              "      <td>0</td>\n",
              "      <td>0.000</td>\n",
              "      <td>0.00</td>\n",
              "      <td>1</td>\n",
              "      <td>-20</td>\n",
              "      <td>0.015875</td>\n",
              "      <td>324</td>\n",
              "      <td>1</td>\n",
              "      <td>1</td>\n",
              "      <td>1</td>\n",
              "      <td>57</td>\n",
              "      <td>0.0</td>\n",
              "      <td>101.98</td>\n",
              "      <td>0.455</td>\n",
              "      <td>752</td>\n",
              "      <td>5.99375</td>\n",
              "      <td>0</td>\n",
              "      <td>2007</td>\n",
              "      <td>0</td>\n",
              "      <td>13.4</td>\n",
              "      <td>0</td>\n",
              "      <td>4</td>\n",
              "      <td>14.7729</td>\n",
              "    </tr>\n",
              "    <tr>\n",
              "      <th>2</th>\n",
              "      <td>0</td>\n",
              "      <td>2</td>\n",
              "      <td>0</td>\n",
              "      <td>34.3447</td>\n",
              "      <td>15.18520</td>\n",
              "      <td>1400</td>\n",
              "      <td>42.8571</td>\n",
              "      <td>0.290601</td>\n",
              "      <td>576</td>\n",
              "      <td>104.1670</td>\n",
              "      <td>0</td>\n",
              "      <td>0.000</td>\n",
              "      <td>0.00</td>\n",
              "      <td>1</td>\n",
              "      <td>-20</td>\n",
              "      <td>0.015875</td>\n",
              "      <td>324</td>\n",
              "      <td>1</td>\n",
              "      <td>1</td>\n",
              "      <td>1</td>\n",
              "      <td>57</td>\n",
              "      <td>0.0</td>\n",
              "      <td>101.97</td>\n",
              "      <td>0.280</td>\n",
              "      <td>752</td>\n",
              "      <td>5.99375</td>\n",
              "      <td>0</td>\n",
              "      <td>2011</td>\n",
              "      <td>0</td>\n",
              "      <td>13.4</td>\n",
              "      <td>0</td>\n",
              "      <td>4</td>\n",
              "      <td>14.7736</td>\n",
              "    </tr>\n",
              "    <tr>\n",
              "      <th>3</th>\n",
              "      <td>0</td>\n",
              "      <td>3</td>\n",
              "      <td>0</td>\n",
              "      <td>34.3421</td>\n",
              "      <td>8.84696</td>\n",
              "      <td>1400</td>\n",
              "      <td>42.8571</td>\n",
              "      <td>0.290601</td>\n",
              "      <td>576</td>\n",
              "      <td>104.1670</td>\n",
              "      <td>0</td>\n",
              "      <td>0.000</td>\n",
              "      <td>0.00</td>\n",
              "      <td>1</td>\n",
              "      <td>-20</td>\n",
              "      <td>0.015875</td>\n",
              "      <td>324</td>\n",
              "      <td>1</td>\n",
              "      <td>1</td>\n",
              "      <td>1</td>\n",
              "      <td>57</td>\n",
              "      <td>0.0</td>\n",
              "      <td>101.99</td>\n",
              "      <td>0.070</td>\n",
              "      <td>752</td>\n",
              "      <td>5.99375</td>\n",
              "      <td>0</td>\n",
              "      <td>2015</td>\n",
              "      <td>0</td>\n",
              "      <td>13.4</td>\n",
              "      <td>0</td>\n",
              "      <td>4</td>\n",
              "      <td>14.7667</td>\n",
              "    </tr>\n",
              "    <tr>\n",
              "      <th>4</th>\n",
              "      <td>0</td>\n",
              "      <td>4</td>\n",
              "      <td>0</td>\n",
              "      <td>34.3322</td>\n",
              "      <td>14.69940</td>\n",
              "      <td>1400</td>\n",
              "      <td>42.8571</td>\n",
              "      <td>0.290601</td>\n",
              "      <td>576</td>\n",
              "      <td>104.1670</td>\n",
              "      <td>0</td>\n",
              "      <td>0.000</td>\n",
              "      <td>0.00</td>\n",
              "      <td>1</td>\n",
              "      <td>-20</td>\n",
              "      <td>0.015875</td>\n",
              "      <td>324</td>\n",
              "      <td>1</td>\n",
              "      <td>1</td>\n",
              "      <td>1</td>\n",
              "      <td>57</td>\n",
              "      <td>0.0</td>\n",
              "      <td>102.07</td>\n",
              "      <td>0.175</td>\n",
              "      <td>752</td>\n",
              "      <td>5.99375</td>\n",
              "      <td>0</td>\n",
              "      <td>2017</td>\n",
              "      <td>0</td>\n",
              "      <td>13.4</td>\n",
              "      <td>0</td>\n",
              "      <td>4</td>\n",
              "      <td>14.7757</td>\n",
              "    </tr>\n",
              "    <tr>\n",
              "      <th>...</th>\n",
              "      <td>...</td>\n",
              "      <td>...</td>\n",
              "      <td>...</td>\n",
              "      <td>...</td>\n",
              "      <td>...</td>\n",
              "      <td>...</td>\n",
              "      <td>...</td>\n",
              "      <td>...</td>\n",
              "      <td>...</td>\n",
              "      <td>...</td>\n",
              "      <td>...</td>\n",
              "      <td>...</td>\n",
              "      <td>...</td>\n",
              "      <td>...</td>\n",
              "      <td>...</td>\n",
              "      <td>...</td>\n",
              "      <td>...</td>\n",
              "      <td>...</td>\n",
              "      <td>...</td>\n",
              "      <td>...</td>\n",
              "      <td>...</td>\n",
              "      <td>...</td>\n",
              "      <td>...</td>\n",
              "      <td>...</td>\n",
              "      <td>...</td>\n",
              "      <td>...</td>\n",
              "      <td>...</td>\n",
              "      <td>...</td>\n",
              "      <td>...</td>\n",
              "      <td>...</td>\n",
              "      <td>...</td>\n",
              "      <td>...</td>\n",
              "      <td>...</td>\n",
              "    </tr>\n",
              "    <tr>\n",
              "      <th>604324</th>\n",
              "      <td>510</td>\n",
              "      <td>1194</td>\n",
              "      <td>1</td>\n",
              "      <td>32.0051</td>\n",
              "      <td>10.13240</td>\n",
              "      <td>800</td>\n",
              "      <td>75.0000</td>\n",
              "      <td>0.081731</td>\n",
              "      <td>680</td>\n",
              "      <td>88.2353</td>\n",
              "      <td>0</td>\n",
              "      <td>17.807</td>\n",
              "      <td>222.11</td>\n",
              "      <td>0</td>\n",
              "      <td>0</td>\n",
              "      <td>0.016379</td>\n",
              "      <td>322</td>\n",
              "      <td>2</td>\n",
              "      <td>2</td>\n",
              "      <td>1</td>\n",
              "      <td>64</td>\n",
              "      <td>0.0</td>\n",
              "      <td>91.51</td>\n",
              "      <td>0.280</td>\n",
              "      <td>240</td>\n",
              "      <td>3.01875</td>\n",
              "      <td>0</td>\n",
              "      <td>1801</td>\n",
              "      <td>0</td>\n",
              "      <td>30.4</td>\n",
              "      <td>0</td>\n",
              "      <td>4</td>\n",
              "      <td>15.8113</td>\n",
              "    </tr>\n",
              "    <tr>\n",
              "      <th>604325</th>\n",
              "      <td>510</td>\n",
              "      <td>1195</td>\n",
              "      <td>1</td>\n",
              "      <td>32.0393</td>\n",
              "      <td>12.45040</td>\n",
              "      <td>800</td>\n",
              "      <td>75.0000</td>\n",
              "      <td>0.081731</td>\n",
              "      <td>680</td>\n",
              "      <td>88.2353</td>\n",
              "      <td>0</td>\n",
              "      <td>17.807</td>\n",
              "      <td>222.11</td>\n",
              "      <td>0</td>\n",
              "      <td>0</td>\n",
              "      <td>0.016379</td>\n",
              "      <td>322</td>\n",
              "      <td>2</td>\n",
              "      <td>2</td>\n",
              "      <td>1</td>\n",
              "      <td>64</td>\n",
              "      <td>0.0</td>\n",
              "      <td>91.51</td>\n",
              "      <td>0.280</td>\n",
              "      <td>240</td>\n",
              "      <td>3.01875</td>\n",
              "      <td>0</td>\n",
              "      <td>1801</td>\n",
              "      <td>0</td>\n",
              "      <td>30.4</td>\n",
              "      <td>0</td>\n",
              "      <td>4</td>\n",
              "      <td>15.8018</td>\n",
              "    </tr>\n",
              "    <tr>\n",
              "      <th>604326</th>\n",
              "      <td>510</td>\n",
              "      <td>1196</td>\n",
              "      <td>1</td>\n",
              "      <td>32.0762</td>\n",
              "      <td>10.06180</td>\n",
              "      <td>800</td>\n",
              "      <td>75.0000</td>\n",
              "      <td>0.081731</td>\n",
              "      <td>680</td>\n",
              "      <td>88.2353</td>\n",
              "      <td>0</td>\n",
              "      <td>17.807</td>\n",
              "      <td>222.11</td>\n",
              "      <td>0</td>\n",
              "      <td>0</td>\n",
              "      <td>0.016379</td>\n",
              "      <td>322</td>\n",
              "      <td>2</td>\n",
              "      <td>2</td>\n",
              "      <td>1</td>\n",
              "      <td>64</td>\n",
              "      <td>0.0</td>\n",
              "      <td>91.56</td>\n",
              "      <td>0.175</td>\n",
              "      <td>240</td>\n",
              "      <td>3.01875</td>\n",
              "      <td>0</td>\n",
              "      <td>1800</td>\n",
              "      <td>0</td>\n",
              "      <td>31.3</td>\n",
              "      <td>0</td>\n",
              "      <td>4</td>\n",
              "      <td>15.8120</td>\n",
              "    </tr>\n",
              "    <tr>\n",
              "      <th>604327</th>\n",
              "      <td>510</td>\n",
              "      <td>1197</td>\n",
              "      <td>1</td>\n",
              "      <td>32.1154</td>\n",
              "      <td>17.84500</td>\n",
              "      <td>800</td>\n",
              "      <td>75.0000</td>\n",
              "      <td>0.081731</td>\n",
              "      <td>680</td>\n",
              "      <td>88.2353</td>\n",
              "      <td>0</td>\n",
              "      <td>17.807</td>\n",
              "      <td>222.11</td>\n",
              "      <td>0</td>\n",
              "      <td>0</td>\n",
              "      <td>0.016379</td>\n",
              "      <td>322</td>\n",
              "      <td>2</td>\n",
              "      <td>2</td>\n",
              "      <td>1</td>\n",
              "      <td>64</td>\n",
              "      <td>0.0</td>\n",
              "      <td>91.56</td>\n",
              "      <td>0.175</td>\n",
              "      <td>240</td>\n",
              "      <td>3.01875</td>\n",
              "      <td>0</td>\n",
              "      <td>1800</td>\n",
              "      <td>0</td>\n",
              "      <td>31.3</td>\n",
              "      <td>0</td>\n",
              "      <td>4</td>\n",
              "      <td>15.8270</td>\n",
              "    </tr>\n",
              "    <tr>\n",
              "      <th>604328</th>\n",
              "      <td>510</td>\n",
              "      <td>1198</td>\n",
              "      <td>1</td>\n",
              "      <td>32.1154</td>\n",
              "      <td>17.84500</td>\n",
              "      <td>800</td>\n",
              "      <td>75.0000</td>\n",
              "      <td>0.081731</td>\n",
              "      <td>680</td>\n",
              "      <td>88.2353</td>\n",
              "      <td>0</td>\n",
              "      <td>17.807</td>\n",
              "      <td>222.11</td>\n",
              "      <td>0</td>\n",
              "      <td>0</td>\n",
              "      <td>0.016379</td>\n",
              "      <td>322</td>\n",
              "      <td>2</td>\n",
              "      <td>2</td>\n",
              "      <td>1</td>\n",
              "      <td>64</td>\n",
              "      <td>0.0</td>\n",
              "      <td>91.56</td>\n",
              "      <td>0.175</td>\n",
              "      <td>240</td>\n",
              "      <td>3.01875</td>\n",
              "      <td>0</td>\n",
              "      <td>1800</td>\n",
              "      <td>0</td>\n",
              "      <td>31.3</td>\n",
              "      <td>0</td>\n",
              "      <td>4</td>\n",
              "      <td>15.8270</td>\n",
              "    </tr>\n",
              "  </tbody>\n",
              "</table>\n",
              "<p>604329 rows × 33 columns</p>\n",
              "</div>"
            ],
            "text/plain": [
              "        TrialID  ObsNum  IsAlert       P1        P2  ...  V7    V8  V9  V10      V11\n",
              "0             0       0        0  34.7406   9.84593  ...   0  13.4   0    4  14.8004\n",
              "1             0       1        0  34.4215  13.41120  ...   0  13.4   0    4  14.7729\n",
              "2             0       2        0  34.3447  15.18520  ...   0  13.4   0    4  14.7736\n",
              "3             0       3        0  34.3421   8.84696  ...   0  13.4   0    4  14.7667\n",
              "4             0       4        0  34.3322  14.69940  ...   0  13.4   0    4  14.7757\n",
              "...         ...     ...      ...      ...       ...  ...  ..   ...  ..  ...      ...\n",
              "604324      510    1194        1  32.0051  10.13240  ...   0  30.4   0    4  15.8113\n",
              "604325      510    1195        1  32.0393  12.45040  ...   0  30.4   0    4  15.8018\n",
              "604326      510    1196        1  32.0762  10.06180  ...   0  31.3   0    4  15.8120\n",
              "604327      510    1197        1  32.1154  17.84500  ...   0  31.3   0    4  15.8270\n",
              "604328      510    1198        1  32.1154  17.84500  ...   0  31.3   0    4  15.8270\n",
              "\n",
              "[604329 rows x 33 columns]"
            ]
          },
          "metadata": {
            "tags": []
          },
          "execution_count": 4
        }
      ]
    },
    {
      "cell_type": "code",
      "metadata": {
        "colab": {
          "base_uri": "https://localhost:8080/",
          "height": 162
        },
        "id": "sfLKxTXmCcCS",
        "outputId": "21e9e3fc-de86-40a5-d8c3-98d615f17dc5"
      },
      "source": [
        "train = pd.read_csv('fordTrain.csv')\r\n",
        "test= pd.read_csv('fordTest.csv')\r\n",
        "train.head(3)"
      ],
      "execution_count": null,
      "outputs": [
        {
          "output_type": "execute_result",
          "data": {
            "text/html": [
              "<div>\n",
              "<style scoped>\n",
              "    .dataframe tbody tr th:only-of-type {\n",
              "        vertical-align: middle;\n",
              "    }\n",
              "\n",
              "    .dataframe tbody tr th {\n",
              "        vertical-align: top;\n",
              "    }\n",
              "\n",
              "    .dataframe thead th {\n",
              "        text-align: right;\n",
              "    }\n",
              "</style>\n",
              "<table border=\"1\" class=\"dataframe\">\n",
              "  <thead>\n",
              "    <tr style=\"text-align: right;\">\n",
              "      <th></th>\n",
              "      <th>TrialID</th>\n",
              "      <th>ObsNum</th>\n",
              "      <th>IsAlert</th>\n",
              "      <th>P1</th>\n",
              "      <th>P2</th>\n",
              "      <th>P3</th>\n",
              "      <th>P4</th>\n",
              "      <th>P5</th>\n",
              "      <th>P6</th>\n",
              "      <th>P7</th>\n",
              "      <th>P8</th>\n",
              "      <th>E1</th>\n",
              "      <th>E2</th>\n",
              "      <th>E3</th>\n",
              "      <th>E4</th>\n",
              "      <th>E5</th>\n",
              "      <th>E6</th>\n",
              "      <th>E7</th>\n",
              "      <th>E8</th>\n",
              "      <th>E9</th>\n",
              "      <th>E10</th>\n",
              "      <th>E11</th>\n",
              "      <th>V1</th>\n",
              "      <th>V2</th>\n",
              "      <th>V3</th>\n",
              "      <th>V4</th>\n",
              "      <th>V5</th>\n",
              "      <th>V6</th>\n",
              "      <th>V7</th>\n",
              "      <th>V8</th>\n",
              "      <th>V9</th>\n",
              "      <th>V10</th>\n",
              "      <th>V11</th>\n",
              "    </tr>\n",
              "  </thead>\n",
              "  <tbody>\n",
              "    <tr>\n",
              "      <th>0</th>\n",
              "      <td>0</td>\n",
              "      <td>0</td>\n",
              "      <td>0</td>\n",
              "      <td>34.7406</td>\n",
              "      <td>9.84593</td>\n",
              "      <td>1400</td>\n",
              "      <td>42.8571</td>\n",
              "      <td>0.290601</td>\n",
              "      <td>572</td>\n",
              "      <td>104.895</td>\n",
              "      <td>0</td>\n",
              "      <td>0.0</td>\n",
              "      <td>0.0</td>\n",
              "      <td>1</td>\n",
              "      <td>-20</td>\n",
              "      <td>0.015875</td>\n",
              "      <td>324</td>\n",
              "      <td>1</td>\n",
              "      <td>1</td>\n",
              "      <td>1</td>\n",
              "      <td>57</td>\n",
              "      <td>0.0</td>\n",
              "      <td>101.96</td>\n",
              "      <td>0.175</td>\n",
              "      <td>752</td>\n",
              "      <td>5.99375</td>\n",
              "      <td>0</td>\n",
              "      <td>2005</td>\n",
              "      <td>0</td>\n",
              "      <td>13.4</td>\n",
              "      <td>0</td>\n",
              "      <td>4</td>\n",
              "      <td>14.8004</td>\n",
              "    </tr>\n",
              "    <tr>\n",
              "      <th>1</th>\n",
              "      <td>0</td>\n",
              "      <td>1</td>\n",
              "      <td>0</td>\n",
              "      <td>34.4215</td>\n",
              "      <td>13.41120</td>\n",
              "      <td>1400</td>\n",
              "      <td>42.8571</td>\n",
              "      <td>0.290601</td>\n",
              "      <td>572</td>\n",
              "      <td>104.895</td>\n",
              "      <td>0</td>\n",
              "      <td>0.0</td>\n",
              "      <td>0.0</td>\n",
              "      <td>1</td>\n",
              "      <td>-20</td>\n",
              "      <td>0.015875</td>\n",
              "      <td>324</td>\n",
              "      <td>1</td>\n",
              "      <td>1</td>\n",
              "      <td>1</td>\n",
              "      <td>57</td>\n",
              "      <td>0.0</td>\n",
              "      <td>101.98</td>\n",
              "      <td>0.455</td>\n",
              "      <td>752</td>\n",
              "      <td>5.99375</td>\n",
              "      <td>0</td>\n",
              "      <td>2007</td>\n",
              "      <td>0</td>\n",
              "      <td>13.4</td>\n",
              "      <td>0</td>\n",
              "      <td>4</td>\n",
              "      <td>14.7729</td>\n",
              "    </tr>\n",
              "    <tr>\n",
              "      <th>2</th>\n",
              "      <td>0</td>\n",
              "      <td>2</td>\n",
              "      <td>0</td>\n",
              "      <td>34.3447</td>\n",
              "      <td>15.18520</td>\n",
              "      <td>1400</td>\n",
              "      <td>42.8571</td>\n",
              "      <td>0.290601</td>\n",
              "      <td>576</td>\n",
              "      <td>104.167</td>\n",
              "      <td>0</td>\n",
              "      <td>0.0</td>\n",
              "      <td>0.0</td>\n",
              "      <td>1</td>\n",
              "      <td>-20</td>\n",
              "      <td>0.015875</td>\n",
              "      <td>324</td>\n",
              "      <td>1</td>\n",
              "      <td>1</td>\n",
              "      <td>1</td>\n",
              "      <td>57</td>\n",
              "      <td>0.0</td>\n",
              "      <td>101.97</td>\n",
              "      <td>0.280</td>\n",
              "      <td>752</td>\n",
              "      <td>5.99375</td>\n",
              "      <td>0</td>\n",
              "      <td>2011</td>\n",
              "      <td>0</td>\n",
              "      <td>13.4</td>\n",
              "      <td>0</td>\n",
              "      <td>4</td>\n",
              "      <td>14.7736</td>\n",
              "    </tr>\n",
              "  </tbody>\n",
              "</table>\n",
              "</div>"
            ],
            "text/plain": [
              "   TrialID  ObsNum  IsAlert       P1        P2  ...  V7    V8  V9  V10      V11\n",
              "0        0       0        0  34.7406   9.84593  ...   0  13.4   0    4  14.8004\n",
              "1        0       1        0  34.4215  13.41120  ...   0  13.4   0    4  14.7729\n",
              "2        0       2        0  34.3447  15.18520  ...   0  13.4   0    4  14.7736\n",
              "\n",
              "[3 rows x 33 columns]"
            ]
          },
          "metadata": {
            "tags": []
          },
          "execution_count": 108
        }
      ]
    },
    {
      "cell_type": "code",
      "metadata": {
        "id": "WabUKRoAv4-c"
      },
      "source": [
        "train = train.dropna()"
      ],
      "execution_count": null,
      "outputs": []
    },
    {
      "cell_type": "code",
      "metadata": {
        "colab": {
          "base_uri": "https://localhost:8080/"
        },
        "id": "X8ihpu2Ft4XY",
        "outputId": "9656f415-afaf-45ca-d62c-f8f5a3734025"
      },
      "source": [
        "train.IsAlert.value_counts()"
      ],
      "execution_count": null,
      "outputs": [
        {
          "output_type": "execute_result",
          "data": {
            "text/plain": [
              "1    349785\n",
              "0    254544\n",
              "Name: IsAlert, dtype: int64"
            ]
          },
          "metadata": {
            "tags": []
          },
          "execution_count": 110
        }
      ]
    },
    {
      "cell_type": "code",
      "metadata": {
        "colab": {
          "base_uri": "https://localhost:8080/",
          "height": 296
        },
        "id": "uL3kPtg3vsEj",
        "outputId": "3fe09e75-1cbd-4685-e358-e82cedbab5b0"
      },
      "source": [
        "sns.countplot(y=\"IsAlert\", data=train)"
      ],
      "execution_count": null,
      "outputs": [
        {
          "output_type": "execute_result",
          "data": {
            "text/plain": [
              "<matplotlib.axes._subplots.AxesSubplot at 0x7f3621d2d9b0>"
            ]
          },
          "metadata": {
            "tags": []
          },
          "execution_count": 113
        },
        {
          "output_type": "display_data",
          "data": {
            "image/png": "[encoded data removed]",
            "text/plain": [
              "<Figure size 432x288 with 1 Axes>"
            ]
          },
          "metadata": {
            "tags": [],
            "needs_background": "light"
          }
        }
      ]
    },
    {
      "cell_type": "code",
      "metadata": {
        "id": "bWi3elOeu9wq"
      },
      "source": [
        "X = train.drop('IsAlert', axis=1)\r\n",
        "y = train['IsAlert']"
      ],
      "execution_count": null,
      "outputs": []
    },
    {
      "cell_type": "code",
      "metadata": {
        "colab": {
          "base_uri": "https://localhost:8080/"
        },
        "id": "bC6YnwP3x4Zg",
        "outputId": "cb289621-fcbe-4b6f-c585-887614ac6745"
      },
      "source": [
        "#balanceando com SMOTE\r\n",
        "smt = SMOTE()\r\n",
        "X,y = nr.fit_resample(X,y)\r\n"
      ],
      "execution_count": null,
      "outputs": [
        {
          "output_type": "stream",
          "text": [
            "/usr/local/lib/python3.6/dist-packages/sklearn/utils/deprecation.py:87: FutureWarning: Function safe_indexing is deprecated; safe_indexing is deprecated in version 0.22 and will be removed in version 0.24.\n",
            "  warnings.warn(msg, category=FutureWarning)\n",
            "/usr/local/lib/python3.6/dist-packages/sklearn/utils/deprecation.py:87: FutureWarning: Function safe_indexing is deprecated; safe_indexing is deprecated in version 0.22 and will be removed in version 0.24.\n",
            "  warnings.warn(msg, category=FutureWarning)\n",
            "/usr/local/lib/python3.6/dist-packages/sklearn/utils/deprecation.py:87: FutureWarning: Function safe_indexing is deprecated; safe_indexing is deprecated in version 0.22 and will be removed in version 0.24.\n",
            "  warnings.warn(msg, category=FutureWarning)\n"
          ],
          "name": "stderr"
        }
      ]
    },
    {
      "cell_type": "code",
      "metadata": {
        "colab": {
          "base_uri": "https://localhost:8080/",
          "height": 296
        },
        "id": "_yHKNWIzyMjV",
        "outputId": "5510f1a0-ebc8-4ecb-c416-40eed0ce8232"
      },
      "source": [
        "sns.countplot(y=y)"
      ],
      "execution_count": null,
      "outputs": [
        {
          "output_type": "execute_result",
          "data": {
            "text/plain": [
              "<matplotlib.axes._subplots.AxesSubplot at 0x7f3621bef898>"
            ]
          },
          "metadata": {
            "tags": []
          },
          "execution_count": 125
        },
        {
          "output_type": "display_data",
          "data": {
            "image/png": "[encoded data removed]",
            "text/plain": [
              "<Figure size 432x288 with 1 Axes>"
            ]
          },
          "metadata": {
            "tags": [],
            "needs_background": "light"
          }
        }
      ]
    },
    {
      "cell_type": "code",
      "metadata": {
        "id": "sYI71B-nvIJ4"
      },
      "source": [
        "X_train, X_test, y_train, y_test = train_test_split(X, y , test_size=0.2, stratify=y, random_state=42)"
      ],
      "execution_count": null,
      "outputs": []
    },
    {
      "cell_type": "markdown",
      "metadata": {
        "id": "QWbWC4dV79W8"
      },
      "source": [
        "Decision Tree"
      ]
    },
    {
      "cell_type": "code",
      "metadata": {
        "colab": {
          "base_uri": "https://localhost:8080/"
        },
        "id": "cvBHY0dBvsUe",
        "outputId": "e233c086-a208-42ba-fa71-5ccdb1fc6ac2"
      },
      "source": [
        "tree = DecisionTreeClassifier()\r\n",
        "tree.fit(X_train, y_train)"
      ],
      "execution_count": null,
      "outputs": [
        {
          "output_type": "execute_result",
          "data": {
            "text/plain": [
              "DecisionTreeClassifier(ccp_alpha=0.0, class_weight=None, criterion='gini',\n",
              "                       max_depth=None, max_features=None, max_leaf_nodes=None,\n",
              "                       min_impurity_decrease=0.0, min_impurity_split=None,\n",
              "                       min_samples_leaf=1, min_samples_split=2,\n",
              "                       min_weight_fraction_leaf=0.0, presort='deprecated',\n",
              "                       random_state=None, splitter='best')"
            ]
          },
          "metadata": {
            "tags": []
          },
          "execution_count": 106
        }
      ]
    },
    {
      "cell_type": "code",
      "metadata": {
        "colab": {
          "base_uri": "https://localhost:8080/"
        },
        "id": "OpdOE5-FvwvL",
        "outputId": "368a0719-8bcb-4f36-fdb3-427071a1d224"
      },
      "source": [
        "tree.score(X_train, y_train)"
      ],
      "execution_count": null,
      "outputs": [
        {
          "output_type": "execute_result",
          "data": {
            "text/plain": [
              "1.0"
            ]
          },
          "metadata": {
            "tags": []
          },
          "execution_count": 83
        }
      ]
    },
    {
      "cell_type": "code",
      "metadata": {
        "colab": {
          "base_uri": "https://localhost:8080/"
        },
        "id": "vT71xXJAvzy0",
        "outputId": "aa32dfb1-ef74-4440-e5e8-e4ad3f2a8cd1"
      },
      "source": [
        "tree.score(X_test, y_test) #sem 0.9891473020487537 #smote 0.9891865878331926 #near 0.9895106955548135"
      ],
      "execution_count": null,
      "outputs": [
        {
          "output_type": "execute_result",
          "data": {
            "text/plain": [
              "0.9893633738631676"
            ]
          },
          "metadata": {
            "tags": []
          },
          "execution_count": 116
        }
      ]
    },
    {
      "cell_type": "markdown",
      "metadata": {
        "id": "BD5_tjaj77p7"
      },
      "source": [
        "Random Forest"
      ]
    },
    {
      "cell_type": "code",
      "metadata": {
        "colab": {
          "base_uri": "https://localhost:8080/"
        },
        "id": "nC3ubmvOxBaL",
        "outputId": "21b99279-b101-4d05-d2f2-049d48b5bd44"
      },
      "source": [
        "rf = RandomForestClassifier()\r\n",
        "rf.fit(X_train, y_train)"
      ],
      "execution_count": null,
      "outputs": [
        {
          "output_type": "execute_result",
          "data": {
            "text/plain": [
              "RandomForestClassifier(bootstrap=True, ccp_alpha=0.0, class_weight=None,\n",
              "                       criterion='gini', max_depth=None, max_features='auto',\n",
              "                       max_leaf_nodes=None, max_samples=None,\n",
              "                       min_impurity_decrease=0.0, min_impurity_split=None,\n",
              "                       min_samples_leaf=1, min_samples_split=2,\n",
              "                       min_weight_fraction_leaf=0.0, n_estimators=100,\n",
              "                       n_jobs=None, oob_score=False, random_state=None,\n",
              "                       verbose=0, warm_start=False)"
            ]
          },
          "metadata": {
            "tags": []
          },
          "execution_count": 87
        }
      ]
    },
    {
      "cell_type": "code",
      "metadata": {
        "colab": {
          "base_uri": "https://localhost:8080/"
        },
        "id": "UsjHvl-5xzqp",
        "outputId": "a240d2da-6bba-45de-c016-7319033d5dca"
      },
      "source": [
        "rf.score(X_train, y_train)"
      ],
      "execution_count": null,
      "outputs": [
        {
          "output_type": "execute_result",
          "data": {
            "text/plain": [
              "1.0"
            ]
          },
          "metadata": {
            "tags": []
          },
          "execution_count": 69
        }
      ]
    },
    {
      "cell_type": "code",
      "metadata": {
        "colab": {
          "base_uri": "https://localhost:8080/"
        },
        "id": "FX8JHutGx45w",
        "outputId": "9a97b521-4431-418e-e57b-e67043365369"
      },
      "source": [
        "rf.score(X_test, y_test) #0.994391954271347"
      ],
      "execution_count": null,
      "outputs": [
        {
          "output_type": "execute_result",
          "data": {
            "text/plain": [
              "0.9945196330707733"
            ]
          },
          "metadata": {
            "tags": []
          },
          "execution_count": 88
        }
      ]
    },
    {
      "cell_type": "markdown",
      "metadata": {
        "id": "_VX2uDgI8Hbj"
      },
      "source": [
        "Grid Search"
      ]
    },
    {
      "cell_type": "code",
      "metadata": {
        "colab": {
          "base_uri": "https://localhost:8080/"
        },
        "id": "JH7FyBCl8Jwe",
        "outputId": "845bfcab-7168-4093-f157-491996a58d38"
      },
      "source": [
        "# 1 hiperparametros\r\n",
        "rf_parametros = {\r\n",
        "    'n_estimators' : [100,200],\r\n",
        "    'max_depth' : [2,4], \r\n",
        "    'min_samples_leaf' : [1,2]\r\n",
        "    }\r\n",
        "\r\n",
        "gd = GridSearchCV(estimator=RandomForestClassifier(random_state=42), param_grid=rf_parametros, verbose=True)\r\n",
        "\r\n",
        "gd.fit(X_train, y_train)\r\n",
        "\r\n",
        "print (gd.best_score_)\r\n",
        "print (gd.best_estimator_)"
      ],
      "execution_count": null,
      "outputs": [
        {
          "output_type": "stream",
          "text": [
            "Fitting 5 folds for each of 8 candidates, totalling 40 fits\n"
          ],
          "name": "stdout"
        },
        {
          "output_type": "stream",
          "text": [
            "[Parallel(n_jobs=1)]: Using backend SequentialBackend with 1 concurrent workers.\n",
            "[Parallel(n_jobs=1)]: Done  40 out of  40 | elapsed: 28.9min finished\n"
          ],
          "name": "stderr"
        },
        {
          "output_type": "stream",
          "text": [
            "0.8609988459744151\n",
            "RandomForestClassifier(bootstrap=True, ccp_alpha=0.0, class_weight=None,\n",
            "                       criterion='gini', max_depth=4, max_features='auto',\n",
            "                       max_leaf_nodes=None, max_samples=None,\n",
            "                       min_impurity_decrease=0.0, min_impurity_split=None,\n",
            "                       min_samples_leaf=1, min_samples_split=2,\n",
            "                       min_weight_fraction_leaf=0.0, n_estimators=200,\n",
            "                       n_jobs=None, oob_score=False, random_state=42, verbose=0,\n",
            "                       warm_start=False)\n"
          ],
          "name": "stdout"
        }
      ]
    },
    {
      "cell_type": "code",
      "metadata": {
        "colab": {
          "base_uri": "https://localhost:8080/"
        },
        "id": "4Yer0SLeI9Hm",
        "outputId": "f3f72684-c69a-45a8-a141-8697bc477ada"
      },
      "source": [
        "#2 hiperparametros\r\n",
        "rf_parametros = {\r\n",
        "    'n_estimators' : [200,400, 600],\r\n",
        "    'max_depth' : [4,6,8], \r\n",
        "    'min_samples_leaf' : [1,2,3]\r\n",
        "    }\r\n",
        "\r\n",
        "gd = GridSearchCV(estimator=RandomForestClassifier(random_state=42), param_grid=rf_parametros, verbose=True)\r\n",
        "\r\n",
        "gd.fit(X_train, y_train)\r\n",
        "\r\n",
        "print (gd.best_score_)\r\n",
        "print (gd.best_estimator_)"
      ],
      "execution_count": null,
      "outputs": [
        {
          "output_type": "stream",
          "text": [
            "Fitting 5 folds for each of 27 candidates, totalling 135 fits\n"
          ],
          "name": "stdout"
        },
        {
          "output_type": "stream",
          "text": [
            "[Parallel(n_jobs=1)]: Using backend SequentialBackend with 1 concurrent workers.\n",
            "[Parallel(n_jobs=1)]: Done 135 out of 135 | elapsed: 459.9min finished\n"
          ],
          "name": "stderr"
        },
        {
          "output_type": "stream",
          "text": [
            "0.9294644830210916\n",
            "RandomForestClassifier(bootstrap=True, ccp_alpha=0.0, class_weight=None,\n",
            "                       criterion='gini', max_depth=8, max_features='auto',\n",
            "                       max_leaf_nodes=None, max_samples=None,\n",
            "                       min_impurity_decrease=0.0, min_impurity_split=None,\n",
            "                       min_samples_leaf=3, min_samples_split=2,\n",
            "                       min_weight_fraction_leaf=0.0, n_estimators=600,\n",
            "                       n_jobs=None, oob_score=False, random_state=42, verbose=0,\n",
            "                       warm_start=False)\n"
          ],
          "name": "stdout"
        }
      ]
    },
    {
      "cell_type": "code",
      "metadata": {
        "colab": {
          "base_uri": "https://localhost:8080/"
        },
        "id": "UCdGVvzbBTPE",
        "outputId": "e369f59a-9c6a-415e-fcc9-9dc5ce26a71b"
      },
      "source": [
        "#3 hiperparametros\r\n",
        "rf_parametros = {\r\n",
        "    'n_estimators' : [800, 1000],\r\n",
        "    'max_depth' : [10,12], \r\n",
        "    'min_samples_leaf' : [4,5]\r\n",
        "    }\r\n",
        "\r\n",
        "gd = GridSearchCV(estimator=RandomForestClassifier(random_state=42), param_grid=rf_parametros, verbose=True)\r\n",
        "\r\n",
        "gd.fit(X_train, y_train)\r\n",
        "\r\n",
        "print (gd.best_score_)\r\n",
        "print (gd.best_estimator_)"
      ],
      "execution_count": null,
      "outputs": [
        {
          "output_type": "stream",
          "text": [
            "Fitting 5 folds for each of 8 candidates, totalling 40 fits\n"
          ],
          "name": "stdout"
        },
        {
          "output_type": "stream",
          "text": [
            "[Parallel(n_jobs=1)]: Using backend SequentialBackend with 1 concurrent workers.\n"
          ],
          "name": "stderr"
        }
      ]
    },
    {
      "cell_type": "code",
      "metadata": {
        "id": "VX9JOlBtbsjk"
      },
      "source": [
        "from google.colab import drive\n",
        "drive.mount('/content/drive')"
      ],
      "execution_count": null,
      "outputs": []
    }
  ]
}