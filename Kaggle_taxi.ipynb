{
  "nbformat": 4,
  "nbformat_minor": 0,
  "metadata": {
    "colab": {
      "name": "Kaggle_taxi.ipynb",
      "provenance": [],
      "collapsed_sections": [],
      "authorship_tag": "ABX9TyM7KJqGCYuD2rds9pl8TX2z",
      "include_colab_link": true
    },
    "kernelspec": {
      "name": "python3",
      "display_name": "Python 3"
    }
  },
  "cells": [
    {
      "cell_type": "markdown",
      "metadata": {
        "id": "view-in-github",
        "colab_type": "text"
      },
      "source": [
        "<a href=\"https://colab.research.google.com/github/naokityokoyama/Projetos_Data_Science/blob/main/Kaggle_taxi.ipynb\" target=\"_parent\"><img src=\"https://colab.research.google.com/assets/colab-badge.svg\" alt=\"Open In Colab\"/></a>"
      ]
    },
    {
      "cell_type": "markdown",
      "metadata": {
        "id": "RHZ4ypP76v7X"
      },
      "source": [
        "## Previsão de tarifa de táxi de Nova Iorque\n",
        "\n",
        "A base de dados foi extraida do kaggle https://www.kaggle.com/c/new-york-city-taxi-fare-prediction\n",
        "\n",
        "Nesta competição voce tem a tarefa de prever o valor da tarifa(incluindo pedagio) para uma corrida de táxi em NY dados os locais de partida e chegada \n",
        "O desafio é ter um resultado melhor que RMSE de 5 a 8 pois apenas calculando a distancia entre os pontos já consegue esse RMSE"
      ]
    },
    {
      "cell_type": "code",
      "metadata": {
        "id": "5OoKpx3oapsi"
      },
      "source": [
        "#!apt-get install libgeos-3.5.0\n",
        "#!apt-get install libgeos-dev\n",
        "#!pip install https://github.com/matplotlib/basemap/archive/master.zip"
      ],
      "execution_count": null,
      "outputs": []
    },
    {
      "cell_type": "code",
      "metadata": {
        "id": "i1AyX9JefuTy"
      },
      "source": [
        "import pandas as pd\n",
        "import numpy as np\n",
        "import random\n",
        "import zipfile\n",
        "import matplotlib.pyplot as plt\n",
        "from datetime import datetime"
      ],
      "execution_count": null,
      "outputs": []
    },
    {
      "cell_type": "code",
      "metadata": {
        "id": "IOCdNCMef5b3",
        "colab": {
          "base_uri": "https://localhost:8080/"
        },
        "outputId": "bb1eaea3-db65-4abe-f6e3-de52aaa0347a"
      },
      "source": [
        "from google.colab import drive\n",
        "drive.mount('/content/drive')"
      ],
      "execution_count": null,
      "outputs": [
        {
          "output_type": "stream",
          "text": [
            "Mounted at /content/drive\n"
          ],
          "name": "stdout"
        }
      ]
    },
    {
      "cell_type": "code",
      "metadata": {
        "id": "UgQMo4bigP2x"
      },
      "source": [
        "dataset_path = '/content/drive/My Drive/Dataset/taxi_ny.zip'\n",
        "zip_object = zipfile.ZipFile(file=dataset_path, mode='r')\n",
        "zip_object.extractall('./')\n",
        "zip_object.close()"
      ],
      "execution_count": null,
      "outputs": []
    },
    {
      "cell_type": "code",
      "metadata": {
        "id": "IzGqXndEhwyU"
      },
      "source": [
        "T = pd.read_csv('/content/TrainTest/train.csv')\n",
        "T.shape"
      ],
      "execution_count": null,
      "outputs": []
    },
    {
      "cell_type": "code",
      "metadata": {
        "id": "4I7w3VxDkscj",
        "colab": {
          "base_uri": "https://localhost:8080/"
        },
        "outputId": "b1920f01-32ea-4341-d68e-909b10bcebf5"
      },
      "source": [
        "number_row = sum(1 for line in open('/content/TrainTest/train.csv'))\n",
        "number_row"
      ],
      "execution_count": null,
      "outputs": [
        {
          "output_type": "execute_result",
          "data": {
            "text/plain": [
              "44339096"
            ]
          },
          "metadata": {
            "tags": []
          },
          "execution_count": 6
        }
      ]
    },
    {
      "cell_type": "code",
      "metadata": {
        "id": "lvFl7dU4lJ2P"
      },
      "source": [
        "sample_size = 250000"
      ],
      "execution_count": null,
      "outputs": []
    },
    {
      "cell_type": "code",
      "metadata": {
        "id": "oalj3o6qmXV_"
      },
      "source": [
        "random.seed(24)\n",
        "skip_row = sorted(random.sample(range(1, number_row + 1), \n",
        "                                number_row - sample_size))"
      ],
      "execution_count": null,
      "outputs": []
    },
    {
      "cell_type": "code",
      "metadata": {
        "id": "nohc9G7UnEPd",
        "colab": {
          "base_uri": "https://localhost:8080/"
        },
        "outputId": "367579a6-a252-4596-c44b-ae3b0a1e7a66"
      },
      "source": [
        "number_row - len(skip_row)"
      ],
      "execution_count": null,
      "outputs": [
        {
          "output_type": "execute_result",
          "data": {
            "text/plain": [
              "250000"
            ]
          },
          "metadata": {
            "tags": []
          },
          "execution_count": 7
        }
      ]
    },
    {
      "cell_type": "code",
      "metadata": {
        "id": "OAkYOtSznia9",
        "colab": {
          "base_uri": "https://localhost:8080/",
          "height": 609
        },
        "outputId": "ab8da9ec-8c03-4e2d-d441-db95154e9a34"
      },
      "source": [
        "train = pd.read_csv('/content/TrainTest/train.csv', skiprows=skip_row)\n",
        "train.to_csv('train_sample_250000.csv', index=False)\n",
        "\n",
        "pd.read_csv('/content/train_sample_250000.csv')"
      ],
      "execution_count": null,
      "outputs": [
        {
          "output_type": "execute_result",
          "data": {
            "text/html": [
              "<div>\n",
              "<style scoped>\n",
              "    .dataframe tbody tr th:only-of-type {\n",
              "        vertical-align: middle;\n",
              "    }\n",
              "\n",
              "    .dataframe tbody tr th {\n",
              "        vertical-align: top;\n",
              "    }\n",
              "\n",
              "    .dataframe thead th {\n",
              "        text-align: right;\n",
              "    }\n",
              "</style>\n",
              "<table border=\"1\" class=\"dataframe\">\n",
              "  <thead>\n",
              "    <tr style=\"text-align: right;\">\n",
              "      <th></th>\n",
              "      <th>key</th>\n",
              "      <th>fare_amount</th>\n",
              "      <th>pickup_datetime</th>\n",
              "      <th>pickup_longitude</th>\n",
              "      <th>pickup_latitude</th>\n",
              "      <th>dropoff_longitude</th>\n",
              "      <th>dropoff_latitude</th>\n",
              "      <th>passenger_count</th>\n",
              "    </tr>\n",
              "  </thead>\n",
              "  <tbody>\n",
              "    <tr>\n",
              "      <th>0</th>\n",
              "      <td>2010-04-11 01:44:00.00000068</td>\n",
              "      <td>12.9</td>\n",
              "      <td>2010-04-11 01:44:00 UTC</td>\n",
              "      <td>-73.986110</td>\n",
              "      <td>40.722447</td>\n",
              "      <td>-73.954645</td>\n",
              "      <td>40.780273</td>\n",
              "      <td>3</td>\n",
              "    </tr>\n",
              "    <tr>\n",
              "      <th>1</th>\n",
              "      <td>2013-04-27 12:26:11.0000002</td>\n",
              "      <td>12.5</td>\n",
              "      <td>2013-04-27 12:26:11 UTC</td>\n",
              "      <td>-73.959749</td>\n",
              "      <td>40.767152</td>\n",
              "      <td>-73.984935</td>\n",
              "      <td>40.760912</td>\n",
              "      <td>2</td>\n",
              "    </tr>\n",
              "    <tr>\n",
              "      <th>2</th>\n",
              "      <td>2014-11-08 09:51:00.000000135</td>\n",
              "      <td>4.0</td>\n",
              "      <td>2014-11-08 09:51:00 UTC</td>\n",
              "      <td>-74.008592</td>\n",
              "      <td>40.714715</td>\n",
              "      <td>-74.012380</td>\n",
              "      <td>40.719512</td>\n",
              "      <td>1</td>\n",
              "    </tr>\n",
              "    <tr>\n",
              "      <th>3</th>\n",
              "      <td>2012-10-07 01:15:27.0000009</td>\n",
              "      <td>12.0</td>\n",
              "      <td>2012-10-07 01:15:27 UTC</td>\n",
              "      <td>-73.978517</td>\n",
              "      <td>40.763798</td>\n",
              "      <td>-73.990302</td>\n",
              "      <td>40.725208</td>\n",
              "      <td>1</td>\n",
              "    </tr>\n",
              "    <tr>\n",
              "      <th>4</th>\n",
              "      <td>2012-03-07 10:04:47.0000002</td>\n",
              "      <td>6.5</td>\n",
              "      <td>2012-03-07 10:04:47 UTC</td>\n",
              "      <td>-73.980342</td>\n",
              "      <td>40.775395</td>\n",
              "      <td>-73.992287</td>\n",
              "      <td>40.758875</td>\n",
              "      <td>1</td>\n",
              "    </tr>\n",
              "    <tr>\n",
              "      <th>...</th>\n",
              "      <td>...</td>\n",
              "      <td>...</td>\n",
              "      <td>...</td>\n",
              "      <td>...</td>\n",
              "      <td>...</td>\n",
              "      <td>...</td>\n",
              "      <td>...</td>\n",
              "      <td>...</td>\n",
              "    </tr>\n",
              "    <tr>\n",
              "      <th>249995</th>\n",
              "      <td>2013-08-17 04:01:13.0000001</td>\n",
              "      <td>25.0</td>\n",
              "      <td>2013-08-17 04:01:13 UTC</td>\n",
              "      <td>-73.987892</td>\n",
              "      <td>40.719925</td>\n",
              "      <td>-73.940992</td>\n",
              "      <td>40.799407</td>\n",
              "      <td>4</td>\n",
              "    </tr>\n",
              "    <tr>\n",
              "      <th>249996</th>\n",
              "      <td>2011-02-26 22:32:03.0000002</td>\n",
              "      <td>5.7</td>\n",
              "      <td>2011-02-26 22:32:03 UTC</td>\n",
              "      <td>-73.991857</td>\n",
              "      <td>40.759675</td>\n",
              "      <td>-73.978095</td>\n",
              "      <td>40.751925</td>\n",
              "      <td>1</td>\n",
              "    </tr>\n",
              "    <tr>\n",
              "      <th>249997</th>\n",
              "      <td>2013-04-20 22:02:31.0000006</td>\n",
              "      <td>18.0</td>\n",
              "      <td>2013-04-20 22:02:31 UTC</td>\n",
              "      <td>-73.950396</td>\n",
              "      <td>40.779558</td>\n",
              "      <td>-73.906459</td>\n",
              "      <td>40.742417</td>\n",
              "      <td>2</td>\n",
              "    </tr>\n",
              "    <tr>\n",
              "      <th>249998</th>\n",
              "      <td>2010-10-09 14:34:00.000000163</td>\n",
              "      <td>6.9</td>\n",
              "      <td>2010-10-09 14:34:00 UTC</td>\n",
              "      <td>-73.949695</td>\n",
              "      <td>40.793323</td>\n",
              "      <td>-73.948283</td>\n",
              "      <td>40.813873</td>\n",
              "      <td>5</td>\n",
              "    </tr>\n",
              "    <tr>\n",
              "      <th>249999</th>\n",
              "      <td>2011-01-23 06:50:57.0000001</td>\n",
              "      <td>40.5</td>\n",
              "      <td>2011-01-23 06:50:57 UTC</td>\n",
              "      <td>-73.783584</td>\n",
              "      <td>40.648701</td>\n",
              "      <td>-73.960668</td>\n",
              "      <td>40.631289</td>\n",
              "      <td>1</td>\n",
              "    </tr>\n",
              "  </tbody>\n",
              "</table>\n",
              "<p>250000 rows × 8 columns</p>\n",
              "</div>"
            ],
            "text/plain": [
              "                                  key  ...  passenger_count\n",
              "0        2010-04-11 01:44:00.00000068  ...                3\n",
              "1         2013-04-27 12:26:11.0000002  ...                2\n",
              "2       2014-11-08 09:51:00.000000135  ...                1\n",
              "3         2012-10-07 01:15:27.0000009  ...                1\n",
              "4         2012-03-07 10:04:47.0000002  ...                1\n",
              "...                               ...  ...              ...\n",
              "249995    2013-08-17 04:01:13.0000001  ...                4\n",
              "249996    2011-02-26 22:32:03.0000002  ...                1\n",
              "249997    2013-04-20 22:02:31.0000006  ...                2\n",
              "249998  2010-10-09 14:34:00.000000163  ...                5\n",
              "249999    2011-01-23 06:50:57.0000001  ...                1\n",
              "\n",
              "[250000 rows x 8 columns]"
            ]
          },
          "metadata": {
            "tags": []
          },
          "execution_count": 9
        }
      ]
    },
    {
      "cell_type": "code",
      "metadata": {
        "id": "l5rSfPFSo7XA"
      },
      "source": [
        "#carregando novo Dataset \n",
        "train = pd.read_csv('/content/train_sample_250000.csv', \n",
        "                    parse_dates=['key', 'pickup_datetime'],\n",
        "                    dtype = {'fare_amont': np.float32,\n",
        "                             'pickup_latitude': np.float32,\n",
        "                             'pickup_longitude': np.float32,\n",
        "                             'dropoff_latitude':np.float32,\n",
        "                             'dropoff_longitude':np.float32,\n",
        "                             'passenger_count':np.int32})"
      ],
      "execution_count": null,
      "outputs": []
    },
    {
      "cell_type": "code",
      "metadata": {
        "id": "BkL23NkNr76U",
        "colab": {
          "base_uri": "https://localhost:8080/",
          "height": 309
        },
        "outputId": "52320664-fd3a-4e35-87e3-066eb9235e5c"
      },
      "source": [
        "train.head()"
      ],
      "execution_count": null,
      "outputs": [
        {
          "output_type": "execute_result",
          "data": {
            "text/html": [
              "<div>\n",
              "<style scoped>\n",
              "    .dataframe tbody tr th:only-of-type {\n",
              "        vertical-align: middle;\n",
              "    }\n",
              "\n",
              "    .dataframe tbody tr th {\n",
              "        vertical-align: top;\n",
              "    }\n",
              "\n",
              "    .dataframe thead th {\n",
              "        text-align: right;\n",
              "    }\n",
              "</style>\n",
              "<table border=\"1\" class=\"dataframe\">\n",
              "  <thead>\n",
              "    <tr style=\"text-align: right;\">\n",
              "      <th></th>\n",
              "      <th>key</th>\n",
              "      <th>fare_amount</th>\n",
              "      <th>pickup_datetime</th>\n",
              "      <th>pickup_longitude</th>\n",
              "      <th>pickup_latitude</th>\n",
              "      <th>dropoff_longitude</th>\n",
              "      <th>dropoff_latitude</th>\n",
              "      <th>passenger_count</th>\n",
              "    </tr>\n",
              "  </thead>\n",
              "  <tbody>\n",
              "    <tr>\n",
              "      <th>0</th>\n",
              "      <td>2010-04-11 01:44:00.000000680</td>\n",
              "      <td>12.9</td>\n",
              "      <td>2010-04-11 01:44:00+00:00</td>\n",
              "      <td>-73.986107</td>\n",
              "      <td>40.722446</td>\n",
              "      <td>-73.954643</td>\n",
              "      <td>40.780273</td>\n",
              "      <td>3</td>\n",
              "    </tr>\n",
              "    <tr>\n",
              "      <th>1</th>\n",
              "      <td>2013-04-27 12:26:11.000000200</td>\n",
              "      <td>12.5</td>\n",
              "      <td>2013-04-27 12:26:11+00:00</td>\n",
              "      <td>-73.959747</td>\n",
              "      <td>40.767151</td>\n",
              "      <td>-73.984932</td>\n",
              "      <td>40.760914</td>\n",
              "      <td>2</td>\n",
              "    </tr>\n",
              "    <tr>\n",
              "      <th>2</th>\n",
              "      <td>2014-11-08 09:51:00.000000135</td>\n",
              "      <td>4.0</td>\n",
              "      <td>2014-11-08 09:51:00+00:00</td>\n",
              "      <td>-74.008591</td>\n",
              "      <td>40.714714</td>\n",
              "      <td>-74.012383</td>\n",
              "      <td>40.719513</td>\n",
              "      <td>1</td>\n",
              "    </tr>\n",
              "    <tr>\n",
              "      <th>3</th>\n",
              "      <td>2012-10-07 01:15:27.000000900</td>\n",
              "      <td>12.0</td>\n",
              "      <td>2012-10-07 01:15:27+00:00</td>\n",
              "      <td>-73.978516</td>\n",
              "      <td>40.763798</td>\n",
              "      <td>-73.990303</td>\n",
              "      <td>40.725208</td>\n",
              "      <td>1</td>\n",
              "    </tr>\n",
              "    <tr>\n",
              "      <th>4</th>\n",
              "      <td>2012-03-07 10:04:47.000000200</td>\n",
              "      <td>6.5</td>\n",
              "      <td>2012-03-07 10:04:47+00:00</td>\n",
              "      <td>-73.980339</td>\n",
              "      <td>40.775394</td>\n",
              "      <td>-73.992287</td>\n",
              "      <td>40.758877</td>\n",
              "      <td>1</td>\n",
              "    </tr>\n",
              "  </tbody>\n",
              "</table>\n",
              "</div>"
            ],
            "text/plain": [
              "                            key  fare_amount  ... dropoff_latitude  passenger_count\n",
              "0 2010-04-11 01:44:00.000000680         12.9  ...        40.780273                3\n",
              "1 2013-04-27 12:26:11.000000200         12.5  ...        40.760914                2\n",
              "2 2014-11-08 09:51:00.000000135          4.0  ...        40.719513                1\n",
              "3 2012-10-07 01:15:27.000000900         12.0  ...        40.725208                1\n",
              "4 2012-03-07 10:04:47.000000200          6.5  ...        40.758877                1\n",
              "\n",
              "[5 rows x 8 columns]"
            ]
          },
          "metadata": {
            "tags": []
          },
          "execution_count": 11
        }
      ]
    },
    {
      "cell_type": "code",
      "metadata": {
        "id": "av15HPiosIPl",
        "colab": {
          "base_uri": "https://localhost:8080/"
        },
        "outputId": "49644e86-5e53-4017-a54e-db3bb12bd3f3"
      },
      "source": [
        "train.dtypes"
      ],
      "execution_count": null,
      "outputs": [
        {
          "output_type": "execute_result",
          "data": {
            "text/plain": [
              "key                       datetime64[ns]\n",
              "fare_amount                      float64\n",
              "pickup_datetime      datetime64[ns, UTC]\n",
              "pickup_longitude                 float32\n",
              "pickup_latitude                  float32\n",
              "dropoff_longitude                float32\n",
              "dropoff_latitude                 float32\n",
              "passenger_count                    int32\n",
              "dtype: object"
            ]
          },
          "metadata": {
            "tags": []
          },
          "execution_count": 12
        }
      ]
    },
    {
      "cell_type": "code",
      "metadata": {
        "id": "8RR2sTRjsW97",
        "colab": {
          "base_uri": "https://localhost:8080/"
        },
        "outputId": "0ab6c093-866d-4e10-a416-05748c532c35"
      },
      "source": [
        "#dados nulos?\n",
        "train.isna().sum(axis=0)"
      ],
      "execution_count": null,
      "outputs": [
        {
          "output_type": "execute_result",
          "data": {
            "text/plain": [
              "key                  0\n",
              "fare_amount          0\n",
              "pickup_datetime      0\n",
              "pickup_longitude     0\n",
              "pickup_latitude      0\n",
              "dropoff_longitude    0\n",
              "dropoff_latitude     0\n",
              "passenger_count      0\n",
              "dtype: int64"
            ]
          },
          "metadata": {
            "tags": []
          },
          "execution_count": 13
        }
      ]
    },
    {
      "cell_type": "code",
      "metadata": {
        "id": "roGfg709stUn",
        "colab": {
          "base_uri": "https://localhost:8080/"
        },
        "outputId": "c170ad05-2cfb-4401-9be5-8a6aaccf73f6"
      },
      "source": [
        "key = train['key']\n",
        "key.describe()"
      ],
      "execution_count": null,
      "outputs": [
        {
          "output_type": "stream",
          "text": [
            "/usr/local/lib/python3.6/dist-packages/ipykernel_launcher.py:2: FutureWarning: Treating datetime data as categorical rather than numeric in `.describe` is deprecated and will be removed in a future version of pandas. Specify `datetime_is_numeric=True` to silence this warning and adopt the future behavior now.\n",
            "  \n"
          ],
          "name": "stderr"
        },
        {
          "output_type": "execute_result",
          "data": {
            "text/plain": [
              "count                            250000\n",
              "unique                           249999\n",
              "top       2010-09-13 18:20:00.000000120\n",
              "freq                                  2\n",
              "first     2009-01-01 00:37:28.000000600\n",
              "last      2015-06-30 23:31:32.000000900\n",
              "Name: key, dtype: object"
            ]
          },
          "metadata": {
            "tags": []
          },
          "execution_count": 14
        }
      ]
    },
    {
      "cell_type": "code",
      "metadata": {
        "id": "Vvvqj85-thNL",
        "colab": {
          "base_uri": "https://localhost:8080/"
        },
        "outputId": "7024ded0-b177-44fa-dc21-02176aed7653"
      },
      "source": [
        "pdt = train['pickup_datetime']\n",
        "pdt.describe()"
      ],
      "execution_count": null,
      "outputs": [
        {
          "output_type": "stream",
          "text": [
            "/usr/local/lib/python3.6/dist-packages/ipykernel_launcher.py:2: FutureWarning: Treating datetime data as categorical rather than numeric in `.describe` is deprecated and will be removed in a future version of pandas. Specify `datetime_is_numeric=True` to silence this warning and adopt the future behavior now.\n",
            "  \n"
          ],
          "name": "stderr"
        },
        {
          "output_type": "execute_result",
          "data": {
            "text/plain": [
              "count                        250000\n",
              "unique                       244648\n",
              "top       2014-05-03 13:43:00+00:00\n",
              "freq                              4\n",
              "first     2009-01-01 00:37:28+00:00\n",
              "last      2015-06-30 23:31:32+00:00\n",
              "Name: pickup_datetime, dtype: object"
            ]
          },
          "metadata": {
            "tags": []
          },
          "execution_count": 15
        }
      ]
    },
    {
      "cell_type": "code",
      "metadata": {
        "id": "xKgJ6VdZt3Br"
      },
      "source": [
        "pdt = pdt.map(lambda x: x.tz_localize(None))\n",
        "key = pd.to_datetime(key.dt.strftime('%y-%m-%d %H:%M:%S'))"
      ],
      "execution_count": null,
      "outputs": []
    },
    {
      "cell_type": "code",
      "metadata": {
        "id": "xj4MVJRJvChp",
        "colab": {
          "base_uri": "https://localhost:8080/"
        },
        "outputId": "931373ad-40d0-4e86-c5cb-b22ec6249578"
      },
      "source": [
        "(key == pdt).value_counts()"
      ],
      "execution_count": null,
      "outputs": [
        {
          "output_type": "execute_result",
          "data": {
            "text/plain": [
              "False    246324\n",
              "True       3676\n",
              "dtype: int64"
            ]
          },
          "metadata": {
            "tags": []
          },
          "execution_count": 18
        }
      ]
    },
    {
      "cell_type": "code",
      "metadata": {
        "id": "XOGW4LCgwgDH"
      },
      "source": [
        "train['pickup_datetime'] = pdt"
      ],
      "execution_count": null,
      "outputs": []
    },
    {
      "cell_type": "code",
      "metadata": {
        "id": "_fM1073lwmK2"
      },
      "source": [
        "train.drop(['key'], axis=1, inplace=True)"
      ],
      "execution_count": null,
      "outputs": []
    },
    {
      "cell_type": "code",
      "metadata": {
        "id": "xS74_ff5wuco",
        "colab": {
          "base_uri": "https://localhost:8080/",
          "height": 289
        },
        "outputId": "5727382c-b8cb-4c18-f688-1153c59c918c"
      },
      "source": [
        "train.head()"
      ],
      "execution_count": null,
      "outputs": [
        {
          "output_type": "execute_result",
          "data": {
            "text/html": [
              "<div>\n",
              "<style scoped>\n",
              "    .dataframe tbody tr th:only-of-type {\n",
              "        vertical-align: middle;\n",
              "    }\n",
              "\n",
              "    .dataframe tbody tr th {\n",
              "        vertical-align: top;\n",
              "    }\n",
              "\n",
              "    .dataframe thead th {\n",
              "        text-align: right;\n",
              "    }\n",
              "</style>\n",
              "<table border=\"1\" class=\"dataframe\">\n",
              "  <thead>\n",
              "    <tr style=\"text-align: right;\">\n",
              "      <th></th>\n",
              "      <th>fare_amount</th>\n",
              "      <th>pickup_datetime</th>\n",
              "      <th>pickup_longitude</th>\n",
              "      <th>pickup_latitude</th>\n",
              "      <th>dropoff_longitude</th>\n",
              "      <th>dropoff_latitude</th>\n",
              "      <th>passenger_count</th>\n",
              "    </tr>\n",
              "  </thead>\n",
              "  <tbody>\n",
              "    <tr>\n",
              "      <th>0</th>\n",
              "      <td>12.9</td>\n",
              "      <td>2010-04-11 01:44:00</td>\n",
              "      <td>-73.986107</td>\n",
              "      <td>40.722446</td>\n",
              "      <td>-73.954643</td>\n",
              "      <td>40.780273</td>\n",
              "      <td>3</td>\n",
              "    </tr>\n",
              "    <tr>\n",
              "      <th>1</th>\n",
              "      <td>12.5</td>\n",
              "      <td>2013-04-27 12:26:11</td>\n",
              "      <td>-73.959747</td>\n",
              "      <td>40.767151</td>\n",
              "      <td>-73.984932</td>\n",
              "      <td>40.760914</td>\n",
              "      <td>2</td>\n",
              "    </tr>\n",
              "    <tr>\n",
              "      <th>2</th>\n",
              "      <td>4.0</td>\n",
              "      <td>2014-11-08 09:51:00</td>\n",
              "      <td>-74.008591</td>\n",
              "      <td>40.714714</td>\n",
              "      <td>-74.012383</td>\n",
              "      <td>40.719513</td>\n",
              "      <td>1</td>\n",
              "    </tr>\n",
              "    <tr>\n",
              "      <th>3</th>\n",
              "      <td>12.0</td>\n",
              "      <td>2012-10-07 01:15:27</td>\n",
              "      <td>-73.978516</td>\n",
              "      <td>40.763798</td>\n",
              "      <td>-73.990303</td>\n",
              "      <td>40.725208</td>\n",
              "      <td>1</td>\n",
              "    </tr>\n",
              "    <tr>\n",
              "      <th>4</th>\n",
              "      <td>6.5</td>\n",
              "      <td>2012-03-07 10:04:47</td>\n",
              "      <td>-73.980339</td>\n",
              "      <td>40.775394</td>\n",
              "      <td>-73.992287</td>\n",
              "      <td>40.758877</td>\n",
              "      <td>1</td>\n",
              "    </tr>\n",
              "  </tbody>\n",
              "</table>\n",
              "</div>"
            ],
            "text/plain": [
              "   fare_amount     pickup_datetime  ...  dropoff_latitude  passenger_count\n",
              "0         12.9 2010-04-11 01:44:00  ...         40.780273                3\n",
              "1         12.5 2013-04-27 12:26:11  ...         40.760914                2\n",
              "2          4.0 2014-11-08 09:51:00  ...         40.719513                1\n",
              "3         12.0 2012-10-07 01:15:27  ...         40.725208                1\n",
              "4          6.5 2012-03-07 10:04:47  ...         40.758877                1\n",
              "\n",
              "[5 rows x 7 columns]"
            ]
          },
          "metadata": {
            "tags": []
          },
          "execution_count": 21
        }
      ]
    },
    {
      "cell_type": "code",
      "metadata": {
        "id": "PzJ7d_PazVgi",
        "colab": {
          "base_uri": "https://localhost:8080/"
        },
        "outputId": "6c86056d-6ecf-4628-f966-a5ad48050aff"
      },
      "source": [
        "#pickup_longitude\n",
        "\n",
        "pklon = train['pickup_longitude']\n",
        "pklon.describe()"
      ],
      "execution_count": null,
      "outputs": [
        {
          "output_type": "execute_result",
          "data": {
            "text/plain": [
              "count    250000.000000\n",
              "mean        -72.532570\n",
              "std          12.495521\n",
              "min       -1707.740112\n",
              "25%         -73.992096\n",
              "50%         -73.981804\n",
              "75%         -73.967056\n",
              "max        2432.845459\n",
              "Name: pickup_longitude, dtype: float64"
            ]
          },
          "metadata": {
            "tags": []
          },
          "execution_count": 22
        }
      ]
    },
    {
      "cell_type": "code",
      "metadata": {
        "id": "jCouCPq-zjor",
        "colab": {
          "base_uri": "https://localhost:8080/",
          "height": 265
        },
        "outputId": "5e8a7d7b-e8e9-42ae-a786-48861cbf58c0"
      },
      "source": [
        "plt.hist(pklon, bins=100);"
      ],
      "execution_count": null,
      "outputs": [
        {
          "output_type": "display_data",
          "data": {
            "image/png": "[encoded data removed]",
            "text/plain": [
              "<Figure size 432x288 with 1 Axes>"
            ]
          },
          "metadata": {
            "tags": [],
            "needs_background": "light"
          }
        }
      ]
    },
    {
      "cell_type": "code",
      "metadata": {
        "id": "8uOVtQoJzqSH",
        "colab": {
          "base_uri": "https://localhost:8080/",
          "height": 265
        },
        "outputId": "8678fd61-c366-467d-e230-1915969d0604"
      },
      "source": [
        "plt.hist(pklon[(pklon> pklon.median()-2.5)&(pklon<pklon.median()+2.5)], bins=100);"
      ],
      "execution_count": null,
      "outputs": [
        {
          "output_type": "display_data",
          "data": {
            "image/png": "[encoded data removed]",
            "text/plain": [
              "<Figure size 432x288 with 1 Axes>"
            ]
          },
          "metadata": {
            "tags": [],
            "needs_background": "light"
          }
        }
      ]
    },
    {
      "cell_type": "code",
      "metadata": {
        "id": "qsq6mnHy0yGg",
        "colab": {
          "base_uri": "https://localhost:8080/"
        },
        "outputId": "a4b9970e-f9b5-4129-86b0-4e6d99e1339d"
      },
      "source": [
        "pklon_val = (pklon > pklon.median()-0.5) & (pklon<pklon.median()+0.5)\n",
        "\n",
        "print (pklon_val.value_counts())\n",
        "print (pklon_val.value_counts(normalize=True))"
      ],
      "execution_count": null,
      "outputs": [
        {
          "output_type": "stream",
          "text": [
            "True     244936\n",
            "False      5064\n",
            "Name: pickup_longitude, dtype: int64\n",
            "True     0.979744\n",
            "False    0.020256\n",
            "Name: pickup_longitude, dtype: float64\n"
          ],
          "name": "stdout"
        }
      ]
    },
    {
      "cell_type": "code",
      "metadata": {
        "id": "WBOnSMUn8RkT",
        "colab": {
          "base_uri": "https://localhost:8080/"
        },
        "outputId": "dc0a9e83-f50e-46c5-ba56-9d2a631c00b4"
      },
      "source": [
        "#pickup latitude\n",
        "pklat = train['pickup_latitude']\n",
        "pklat.describe()"
      ],
      "execution_count": null,
      "outputs": [
        {
          "output_type": "execute_result",
          "data": {
            "text/plain": [
              "count    250000.000000\n",
              "mean         39.981701\n",
              "std           9.142210\n",
              "min        -778.582153\n",
              "25%          40.734913\n",
              "50%          40.752644\n",
              "75%          40.767101\n",
              "max        3361.266357\n",
              "Name: pickup_latitude, dtype: float64"
            ]
          },
          "metadata": {
            "tags": []
          },
          "execution_count": 26
        }
      ]
    },
    {
      "cell_type": "code",
      "metadata": {
        "id": "PLIxyLYF92Qy",
        "colab": {
          "base_uri": "https://localhost:8080/",
          "height": 320
        },
        "outputId": "52aa9415-d8d5-46f5-b35b-e7b63f9cc333"
      },
      "source": [
        "fig, ax = plt.subplots(1,2, figsize=(15,5))\n",
        "\n",
        "ax[0].hist(pklat, bins=100)\n",
        "ax[1].hist(pklat[(pklat>pklat.median()-2.5) & (pklat<pklat.median()+2.5)], bins=100);"
      ],
      "execution_count": null,
      "outputs": [
        {
          "output_type": "display_data",
          "data": {
            "image/png": "[encoded data removed]",
            "text/plain": [
              "<Figure size 1080x360 with 2 Axes>"
            ]
          },
          "metadata": {
            "tags": [],
            "needs_background": "light"
          }
        }
      ]
    },
    {
      "cell_type": "code",
      "metadata": {
        "id": "GdXc_mFU-_9-",
        "colab": {
          "base_uri": "https://localhost:8080/"
        },
        "outputId": "a5ae09ca-83e8-4189-a2df-fb8c805e4467"
      },
      "source": [
        "pklat_val = (pklat > pklat.median()-0.5) & (pklat<pklat.median()+0.5)\n",
        "\n",
        "print (pklat_val.value_counts())\n",
        "print (pklat_val.value_counts(normalize=True))\n"
      ],
      "execution_count": null,
      "outputs": [
        {
          "output_type": "stream",
          "text": [
            "True     244980\n",
            "False      5020\n",
            "Name: pickup_latitude, dtype: int64\n",
            "True     0.97992\n",
            "False    0.02008\n",
            "Name: pickup_latitude, dtype: float64\n"
          ],
          "name": "stdout"
        }
      ]
    },
    {
      "cell_type": "code",
      "metadata": {
        "id": "CEXEpCsW_E_p"
      },
      "source": [
        "#drop_longitude\n",
        "dplong = train['dropoff_longitude']"
      ],
      "execution_count": null,
      "outputs": []
    },
    {
      "cell_type": "code",
      "metadata": {
        "id": "j0Mf7N7c_QLG",
        "colab": {
          "base_uri": "https://localhost:8080/",
          "height": 320
        },
        "outputId": "5f594638-88c3-405e-b6a2-67866497e066"
      },
      "source": [
        "fig, ax = plt.subplots(1,2, figsize=(15,5))\n",
        "\n",
        "ax[0].hist(dplong, bins=100)\n",
        "ax[1].hist(dplong[(dplong>dplong.median()-2.5) & (dplong<dplong.median()+2.5)], bins=100);"
      ],
      "execution_count": null,
      "outputs": [
        {
          "output_type": "display_data",
          "data": {
            "image/png": "[encoded data removed]",
            "text/plain": [
              "<Figure size 1080x360 with 2 Axes>"
            ]
          },
          "metadata": {
            "tags": [],
            "needs_background": "light"
          }
        }
      ]
    },
    {
      "cell_type": "code",
      "metadata": {
        "id": "WEsYdgYL_dGH",
        "colab": {
          "base_uri": "https://localhost:8080/"
        },
        "outputId": "fcc73b87-b6a7-4c3c-e84e-95d073f4b616"
      },
      "source": [
        "dplong_val = (dplong > dplong.median()-0.5) & (dplong<pklat.median()+0.5)\n",
        "\n",
        "print (dplong_val.value_counts())\n",
        "print (dplong_val.value_counts(normalize=True))"
      ],
      "execution_count": null,
      "outputs": [
        {
          "output_type": "stream",
          "text": [
            "True     249963\n",
            "False        37\n",
            "Name: dropoff_longitude, dtype: int64\n",
            "True     0.999852\n",
            "False    0.000148\n",
            "Name: dropoff_longitude, dtype: float64\n"
          ],
          "name": "stdout"
        }
      ]
    },
    {
      "cell_type": "code",
      "metadata": {
        "id": "bc22g0HB_mKX"
      },
      "source": [
        "#drop_latitude\n",
        "\n",
        "dplat=train['dropoff_latitude']"
      ],
      "execution_count": null,
      "outputs": []
    },
    {
      "cell_type": "code",
      "metadata": {
        "id": "LByRNBJ__r2d",
        "colab": {
          "base_uri": "https://localhost:8080/",
          "height": 320
        },
        "outputId": "dd424e4d-733f-4730-a8a2-eec293229599"
      },
      "source": [
        "fig, ax = plt.subplots(1,2, figsize=(15,5))\n",
        "\n",
        "ax[0].hist(dplat, bins=100)\n",
        "ax[1].hist(dplat[(dplat>dplat.median()-2.5) & (dplat<dplat.median()+2.5)], bins=100);"
      ],
      "execution_count": null,
      "outputs": [
        {
          "output_type": "display_data",
          "data": {
            "image/png": "[encoded data removed]",
            "text/plain": [
              "<Figure size 1080x360 with 2 Axes>"
            ]
          },
          "metadata": {
            "tags": [],
            "needs_background": "light"
          }
        }
      ]
    },
    {
      "cell_type": "code",
      "metadata": {
        "id": "CUiWrP-c_1FR",
        "colab": {
          "base_uri": "https://localhost:8080/"
        },
        "outputId": "9c52e1bc-0c56-417d-d6e6-04714665da6e"
      },
      "source": [
        "dplat_val = (dplat > dplat.median()-0.5) & (dplat<dplat.median()+0.5)\n",
        "\n",
        "print (dplat_val.value_counts())\n",
        "print (dplat_val.value_counts(normalize=True))"
      ],
      "execution_count": null,
      "outputs": [
        {
          "output_type": "stream",
          "text": [
            "True     245032\n",
            "False      4968\n",
            "Name: dropoff_latitude, dtype: int64\n",
            "True     0.980128\n",
            "False    0.019872\n",
            "Name: dropoff_latitude, dtype: float64\n"
          ],
          "name": "stdout"
        }
      ]
    },
    {
      "cell_type": "code",
      "metadata": {
        "id": "YmBicWubAptJ",
        "colab": {
          "base_uri": "https://localhost:8080/"
        },
        "outputId": "0dcf5c4e-718a-4330-d53b-5a0c766d6a7c"
      },
      "source": [
        "#passenger_count\n",
        "\n",
        "pas = train['passenger_count']\n",
        "pas.describe()"
      ],
      "execution_count": null,
      "outputs": [
        {
          "output_type": "execute_result",
          "data": {
            "text/plain": [
              "count    250000.000000\n",
              "mean          1.686408\n",
              "std           1.310720\n",
              "min           0.000000\n",
              "25%           1.000000\n",
              "50%           1.000000\n",
              "75%           2.000000\n",
              "max           6.000000\n",
              "Name: passenger_count, dtype: float64"
            ]
          },
          "metadata": {
            "tags": []
          },
          "execution_count": 35
        }
      ]
    },
    {
      "cell_type": "code",
      "metadata": {
        "id": "o_eksZNUBNO9",
        "colab": {
          "base_uri": "https://localhost:8080/"
        },
        "outputId": "40880398-a9ee-4eea-f069-130936f49a50"
      },
      "source": [
        "(pas==0).value_counts()"
      ],
      "execution_count": null,
      "outputs": [
        {
          "output_type": "execute_result",
          "data": {
            "text/plain": [
              "False    249064\n",
              "True        936\n",
              "Name: passenger_count, dtype: int64"
            ]
          },
          "metadata": {
            "tags": []
          },
          "execution_count": 36
        }
      ]
    },
    {
      "cell_type": "code",
      "metadata": {
        "id": "VE7sTpf4BjHG",
        "colab": {
          "base_uri": "https://localhost:8080/"
        },
        "outputId": "d56cb89f-837e-4ac4-a5ed-3811a54b4dd4"
      },
      "source": [
        "(pas>=6).sum()"
      ],
      "execution_count": null,
      "outputs": [
        {
          "output_type": "execute_result",
          "data": {
            "text/plain": [
              "5310"
            ]
          },
          "metadata": {
            "tags": []
          },
          "execution_count": 37
        }
      ]
    },
    {
      "cell_type": "code",
      "metadata": {
        "id": "Jas7O1zwB4lF",
        "colab": {
          "base_uri": "https://localhost:8080/",
          "height": 265
        },
        "outputId": "fad7b716-a8ac-4827-f63e-322eb7bbae7c"
      },
      "source": [
        "plt.hist(pas, bins=100);"
      ],
      "execution_count": null,
      "outputs": [
        {
          "output_type": "display_data",
          "data": {
            "image/png": "[encoded data removed]",
            "text/plain": [
              "<Figure size 432x288 with 1 Axes>"
            ]
          },
          "metadata": {
            "tags": [],
            "needs_background": "light"
          }
        }
      ]
    },
    {
      "cell_type": "code",
      "metadata": {
        "id": "uyhds6K8CScm",
        "colab": {
          "base_uri": "https://localhost:8080/"
        },
        "outputId": "8664b196-4b6a-4386-a0b4-7349122d0052"
      },
      "source": [
        "pas_val = (pas >=1) & (pas<=6)\n",
        "print (pas_val.value_counts())\n",
        "print (pas_val.value_counts(normalize=True))"
      ],
      "execution_count": null,
      "outputs": [
        {
          "output_type": "stream",
          "text": [
            "True     249064\n",
            "False       936\n",
            "Name: passenger_count, dtype: int64\n",
            "True     0.996256\n",
            "False    0.003744\n",
            "Name: passenger_count, dtype: float64\n"
          ],
          "name": "stdout"
        }
      ]
    },
    {
      "cell_type": "code",
      "metadata": {
        "id": "6aalXqJXEsDo",
        "colab": {
          "base_uri": "https://localhost:8080/"
        },
        "outputId": "4aa55fc3-68fd-40eb-939e-eaa80d1b41cb"
      },
      "source": [
        "#fare_amount\n",
        "\n",
        "fare = train['fare_amount']\n",
        "fare.describe()"
      ],
      "execution_count": null,
      "outputs": [
        {
          "output_type": "execute_result",
          "data": {
            "text/plain": [
              "count    250000.000000\n",
              "mean         11.341281\n",
              "std           9.802264\n",
              "min         -52.000000\n",
              "25%           6.000000\n",
              "50%           8.500000\n",
              "75%          12.500000\n",
              "max         500.000000\n",
              "Name: fare_amount, dtype: float64"
            ]
          },
          "metadata": {
            "tags": []
          },
          "execution_count": 40
        }
      ]
    },
    {
      "cell_type": "code",
      "metadata": {
        "id": "ffgAXH0fE7M8",
        "colab": {
          "base_uri": "https://localhost:8080/",
          "height": 265
        },
        "outputId": "07f18c12-7c3a-42ef-a2ab-e4016527128d"
      },
      "source": [
        "plt.hist(fare, bins=100);"
      ],
      "execution_count": null,
      "outputs": [
        {
          "output_type": "display_data",
          "data": {
            "image/png": "[encoded data removed]",
            "text/plain": [
              "<Figure size 432x288 with 1 Axes>"
            ]
          },
          "metadata": {
            "tags": [],
            "needs_background": "light"
          }
        }
      ]
    },
    {
      "cell_type": "code",
      "metadata": {
        "id": "7b1-gS3HFHG7",
        "colab": {
          "base_uri": "https://localhost:8080/",
          "height": 979
        },
        "outputId": "c8b508f6-0280-4fd7-80f2-6e6ba82c6f70"
      },
      "source": [
        "plt.hist(fare[fare<10], bins=100)"
      ],
      "execution_count": null,
      "outputs": [
        {
          "output_type": "execute_result",
          "data": {
            "text/plain": [
              "(array([1.0000e+00, 0.0000e+00, 0.0000e+00, 0.0000e+00, 0.0000e+00,\n",
              "        0.0000e+00, 0.0000e+00, 0.0000e+00, 0.0000e+00, 0.0000e+00,\n",
              "        0.0000e+00, 0.0000e+00, 0.0000e+00, 0.0000e+00, 0.0000e+00,\n",
              "        0.0000e+00, 0.0000e+00, 0.0000e+00, 0.0000e+00, 0.0000e+00,\n",
              "        0.0000e+00, 0.0000e+00, 0.0000e+00, 0.0000e+00, 0.0000e+00,\n",
              "        0.0000e+00, 0.0000e+00, 0.0000e+00, 0.0000e+00, 0.0000e+00,\n",
              "        0.0000e+00, 0.0000e+00, 0.0000e+00, 0.0000e+00, 0.0000e+00,\n",
              "        0.0000e+00, 0.0000e+00, 0.0000e+00, 1.0000e+00, 0.0000e+00,\n",
              "        0.0000e+00, 0.0000e+00, 0.0000e+00, 0.0000e+00, 0.0000e+00,\n",
              "        0.0000e+00, 0.0000e+00, 0.0000e+00, 0.0000e+00, 0.0000e+00,\n",
              "        0.0000e+00, 0.0000e+00, 0.0000e+00, 0.0000e+00, 0.0000e+00,\n",
              "        0.0000e+00, 0.0000e+00, 0.0000e+00, 0.0000e+00, 0.0000e+00,\n",
              "        0.0000e+00, 0.0000e+00, 0.0000e+00, 0.0000e+00, 0.0000e+00,\n",
              "        0.0000e+00, 0.0000e+00, 0.0000e+00, 0.0000e+00, 0.0000e+00,\n",
              "        0.0000e+00, 0.0000e+00, 0.0000e+00, 0.0000e+00, 0.0000e+00,\n",
              "        0.0000e+00, 3.0000e+00, 1.0000e+00, 1.0000e+00, 2.0000e+00,\n",
              "        0.0000e+00, 0.0000e+00, 0.0000e+00, 0.0000e+00, 1.3000e+01,\n",
              "        2.0000e+00, 0.0000e+00, 1.0000e+00, 2.0740e+03, 6.8360e+03,\n",
              "        8.2150e+03, 1.7351e+04, 1.6984e+04, 1.9739e+04, 1.2527e+04,\n",
              "        1.7858e+04, 1.5719e+04, 1.4846e+04, 8.7270e+03, 1.1748e+04]),\n",
              " array([-5.2000e+01, -5.1381e+01, -5.0762e+01, -5.0143e+01, -4.9524e+01,\n",
              "        -4.8905e+01, -4.8286e+01, -4.7667e+01, -4.7048e+01, -4.6429e+01,\n",
              "        -4.5810e+01, -4.5191e+01, -4.4572e+01, -4.3953e+01, -4.3334e+01,\n",
              "        -4.2715e+01, -4.2096e+01, -4.1477e+01, -4.0858e+01, -4.0239e+01,\n",
              "        -3.9620e+01, -3.9001e+01, -3.8382e+01, -3.7763e+01, -3.7144e+01,\n",
              "        -3.6525e+01, -3.5906e+01, -3.5287e+01, -3.4668e+01, -3.4049e+01,\n",
              "        -3.3430e+01, -3.2811e+01, -3.2192e+01, -3.1573e+01, -3.0954e+01,\n",
              "        -3.0335e+01, -2.9716e+01, -2.9097e+01, -2.8478e+01, -2.7859e+01,\n",
              "        -2.7240e+01, -2.6621e+01, -2.6002e+01, -2.5383e+01, -2.4764e+01,\n",
              "        -2.4145e+01, -2.3526e+01, -2.2907e+01, -2.2288e+01, -2.1669e+01,\n",
              "        -2.1050e+01, -2.0431e+01, -1.9812e+01, -1.9193e+01, -1.8574e+01,\n",
              "        -1.7955e+01, -1.7336e+01, -1.6717e+01, -1.6098e+01, -1.5479e+01,\n",
              "        -1.4860e+01, -1.4241e+01, -1.3622e+01, -1.3003e+01, -1.2384e+01,\n",
              "        -1.1765e+01, -1.1146e+01, -1.0527e+01, -9.9080e+00, -9.2890e+00,\n",
              "        -8.6700e+00, -8.0510e+00, -7.4320e+00, -6.8130e+00, -6.1940e+00,\n",
              "        -5.5750e+00, -4.9560e+00, -4.3370e+00, -3.7180e+00, -3.0990e+00,\n",
              "        -2.4800e+00, -1.8610e+00, -1.2420e+00, -6.2300e-01, -4.0000e-03,\n",
              "         6.1500e-01,  1.2340e+00,  1.8530e+00,  2.4720e+00,  3.0910e+00,\n",
              "         3.7100e+00,  4.3290e+00,  4.9480e+00,  5.5670e+00,  6.1860e+00,\n",
              "         6.8050e+00,  7.4240e+00,  8.0430e+00,  8.6620e+00,  9.2810e+00,\n",
              "         9.9000e+00]),\n",
              " <a list of 100 Patch objects>)"
            ]
          },
          "metadata": {
            "tags": []
          },
          "execution_count": 42
        },
        {
          "output_type": "display_data",
          "data": {
            "image/png": "[encoded data removed]",
            "text/plain": [
              "<Figure size 432x288 with 1 Axes>"
            ]
          },
          "metadata": {
            "tags": [],
            "needs_background": "light"
          }
        }
      ]
    },
    {
      "cell_type": "code",
      "metadata": {
        "id": "wxrBbjf8FfWO",
        "colab": {
          "base_uri": "https://localhost:8080/",
          "height": 282
        },
        "outputId": "7190a27e-8724-4101-bb01-6c7073d0d209"
      },
      "source": [
        "plt.hist(fare[fare>50], bins=100)\n",
        "plt.xlim(0,150)"
      ],
      "execution_count": null,
      "outputs": [
        {
          "output_type": "execute_result",
          "data": {
            "text/plain": [
              "(0.0, 150.0)"
            ]
          },
          "metadata": {
            "tags": []
          },
          "execution_count": 43
        },
        {
          "output_type": "display_data",
          "data": {
            "image/png": "[encoded data removed]",
            "text/plain": [
              "<Figure size 432x288 with 1 Axes>"
            ]
          },
          "metadata": {
            "tags": [],
            "needs_background": "light"
          }
        }
      ]
    },
    {
      "cell_type": "code",
      "metadata": {
        "id": "wb9iho24F7dr",
        "colab": {
          "base_uri": "https://localhost:8080/"
        },
        "outputId": "5963844e-30c2-47b4-b98a-765c851549b1"
      },
      "source": [
        "fare_val = (fare>2)&(fare<150)\n",
        "\n",
        "print (fare_val.value_counts())\n",
        "print (fare_val.value_counts(normalize=True))"
      ],
      "execution_count": null,
      "outputs": [
        {
          "output_type": "stream",
          "text": [
            "True     249953\n",
            "False        47\n",
            "Name: fare_amount, dtype: int64\n",
            "True     0.999812\n",
            "False    0.000188\n",
            "Name: fare_amount, dtype: float64\n"
          ],
          "name": "stdout"
        }
      ]
    },
    {
      "cell_type": "code",
      "metadata": {
        "id": "5HLAqVj5GTje"
      },
      "source": [
        "val_entradas = fare_val & pklat_val & pklon_val &  dplat_val & dplong_val & pas_val"
      ],
      "execution_count": null,
      "outputs": []
    },
    {
      "cell_type": "code",
      "metadata": {
        "id": "yVB4E1NdH3mU",
        "colab": {
          "base_uri": "https://localhost:8080/"
        },
        "outputId": "eb24ec8a-d8a3-40b9-ed3f-2c595501a1b4"
      },
      "source": [
        "print (val_entradas.value_counts())\n",
        "print (val_entradas.value_counts(normalize=True))"
      ],
      "execution_count": null,
      "outputs": [
        {
          "output_type": "stream",
          "text": [
            "True     243708\n",
            "False      6292\n",
            "dtype: int64\n",
            "True     0.974832\n",
            "False    0.025168\n",
            "dtype: float64\n"
          ],
          "name": "stdout"
        }
      ]
    },
    {
      "cell_type": "code",
      "metadata": {
        "id": "haH2XE2cI9Yf"
      },
      "source": [
        "train = train.drop(val_entradas[val_entradas==False].index)"
      ],
      "execution_count": null,
      "outputs": []
    },
    {
      "cell_type": "code",
      "metadata": {
        "id": "Anma0j-iJYWI"
      },
      "source": [
        "#Engineering Features\n",
        "#duração"
      ],
      "execution_count": null,
      "outputs": []
    },
    {
      "cell_type": "code",
      "metadata": {
        "id": "baoadmooKbqd"
      },
      "source": [
        "#hora do dia\n",
        "train['hour_day'] = train['pickup_datetime'].map(lambda x: x.timetuple().tm_hour)"
      ],
      "execution_count": null,
      "outputs": []
    },
    {
      "cell_type": "code",
      "metadata": {
        "id": "SfwPTJ_QK4uS",
        "colab": {
          "base_uri": "https://localhost:8080/",
          "height": 309
        },
        "outputId": "bd847add-ad8b-46dc-cce8-3b77125d76e2"
      },
      "source": [
        "train.head()"
      ],
      "execution_count": null,
      "outputs": [
        {
          "output_type": "execute_result",
          "data": {
            "text/html": [
              "<div>\n",
              "<style scoped>\n",
              "    .dataframe tbody tr th:only-of-type {\n",
              "        vertical-align: middle;\n",
              "    }\n",
              "\n",
              "    .dataframe tbody tr th {\n",
              "        vertical-align: top;\n",
              "    }\n",
              "\n",
              "    .dataframe thead th {\n",
              "        text-align: right;\n",
              "    }\n",
              "</style>\n",
              "<table border=\"1\" class=\"dataframe\">\n",
              "  <thead>\n",
              "    <tr style=\"text-align: right;\">\n",
              "      <th></th>\n",
              "      <th>fare_amount</th>\n",
              "      <th>pickup_datetime</th>\n",
              "      <th>pickup_longitude</th>\n",
              "      <th>pickup_latitude</th>\n",
              "      <th>dropoff_longitude</th>\n",
              "      <th>dropoff_latitude</th>\n",
              "      <th>passenger_count</th>\n",
              "      <th>hour_day</th>\n",
              "    </tr>\n",
              "  </thead>\n",
              "  <tbody>\n",
              "    <tr>\n",
              "      <th>0</th>\n",
              "      <td>12.9</td>\n",
              "      <td>2010-04-11 01:44:00</td>\n",
              "      <td>-73.986107</td>\n",
              "      <td>40.722446</td>\n",
              "      <td>-73.954643</td>\n",
              "      <td>40.780273</td>\n",
              "      <td>3</td>\n",
              "      <td>1</td>\n",
              "    </tr>\n",
              "    <tr>\n",
              "      <th>1</th>\n",
              "      <td>12.5</td>\n",
              "      <td>2013-04-27 12:26:11</td>\n",
              "      <td>-73.959747</td>\n",
              "      <td>40.767151</td>\n",
              "      <td>-73.984932</td>\n",
              "      <td>40.760914</td>\n",
              "      <td>2</td>\n",
              "      <td>12</td>\n",
              "    </tr>\n",
              "    <tr>\n",
              "      <th>2</th>\n",
              "      <td>4.0</td>\n",
              "      <td>2014-11-08 09:51:00</td>\n",
              "      <td>-74.008591</td>\n",
              "      <td>40.714714</td>\n",
              "      <td>-74.012383</td>\n",
              "      <td>40.719513</td>\n",
              "      <td>1</td>\n",
              "      <td>9</td>\n",
              "    </tr>\n",
              "    <tr>\n",
              "      <th>3</th>\n",
              "      <td>12.0</td>\n",
              "      <td>2012-10-07 01:15:27</td>\n",
              "      <td>-73.978516</td>\n",
              "      <td>40.763798</td>\n",
              "      <td>-73.990303</td>\n",
              "      <td>40.725208</td>\n",
              "      <td>1</td>\n",
              "      <td>1</td>\n",
              "    </tr>\n",
              "    <tr>\n",
              "      <th>4</th>\n",
              "      <td>6.5</td>\n",
              "      <td>2012-03-07 10:04:47</td>\n",
              "      <td>-73.980339</td>\n",
              "      <td>40.775394</td>\n",
              "      <td>-73.992287</td>\n",
              "      <td>40.758877</td>\n",
              "      <td>1</td>\n",
              "      <td>10</td>\n",
              "    </tr>\n",
              "  </tbody>\n",
              "</table>\n",
              "</div>"
            ],
            "text/plain": [
              "   fare_amount     pickup_datetime  ...  passenger_count  hour_day\n",
              "0         12.9 2010-04-11 01:44:00  ...                3         1\n",
              "1         12.5 2013-04-27 12:26:11  ...                2        12\n",
              "2          4.0 2014-11-08 09:51:00  ...                1         9\n",
              "3         12.0 2012-10-07 01:15:27  ...                1         1\n",
              "4          6.5 2012-03-07 10:04:47  ...                1        10\n",
              "\n",
              "[5 rows x 8 columns]"
            ]
          },
          "metadata": {
            "tags": []
          },
          "execution_count": 49
        }
      ]
    },
    {
      "cell_type": "code",
      "metadata": {
        "id": "TYV1s8cXLP_A"
      },
      "source": [
        "train['day_week'] = train['pickup_datetime'].map(lambda x: x.timetuple().tm_wday)\n",
        "train['day_year'] = train['pickup_datetime'].map(lambda x: x.timetuple().tm_yday)\n",
        "train['year'] = train['pickup_datetime'].map(lambda x: x.timetuple().tm_year)"
      ],
      "execution_count": null,
      "outputs": []
    },
    {
      "cell_type": "code",
      "metadata": {
        "id": "UyeGzFNwLhNe",
        "colab": {
          "base_uri": "https://localhost:8080/",
          "height": 309
        },
        "outputId": "dcb250ce-e0d6-45e8-8b57-357af7bf687e"
      },
      "source": [
        "train.head()"
      ],
      "execution_count": null,
      "outputs": [
        {
          "output_type": "execute_result",
          "data": {
            "text/html": [
              "<div>\n",
              "<style scoped>\n",
              "    .dataframe tbody tr th:only-of-type {\n",
              "        vertical-align: middle;\n",
              "    }\n",
              "\n",
              "    .dataframe tbody tr th {\n",
              "        vertical-align: top;\n",
              "    }\n",
              "\n",
              "    .dataframe thead th {\n",
              "        text-align: right;\n",
              "    }\n",
              "</style>\n",
              "<table border=\"1\" class=\"dataframe\">\n",
              "  <thead>\n",
              "    <tr style=\"text-align: right;\">\n",
              "      <th></th>\n",
              "      <th>fare_amount</th>\n",
              "      <th>pickup_datetime</th>\n",
              "      <th>pickup_longitude</th>\n",
              "      <th>pickup_latitude</th>\n",
              "      <th>dropoff_longitude</th>\n",
              "      <th>dropoff_latitude</th>\n",
              "      <th>passenger_count</th>\n",
              "      <th>hour_day</th>\n",
              "      <th>day_week</th>\n",
              "      <th>day_year</th>\n",
              "      <th>year</th>\n",
              "    </tr>\n",
              "  </thead>\n",
              "  <tbody>\n",
              "    <tr>\n",
              "      <th>0</th>\n",
              "      <td>12.9</td>\n",
              "      <td>2010-04-11 01:44:00</td>\n",
              "      <td>-73.986107</td>\n",
              "      <td>40.722446</td>\n",
              "      <td>-73.954643</td>\n",
              "      <td>40.780273</td>\n",
              "      <td>3</td>\n",
              "      <td>1</td>\n",
              "      <td>6</td>\n",
              "      <td>101</td>\n",
              "      <td>2010</td>\n",
              "    </tr>\n",
              "    <tr>\n",
              "      <th>1</th>\n",
              "      <td>12.5</td>\n",
              "      <td>2013-04-27 12:26:11</td>\n",
              "      <td>-73.959747</td>\n",
              "      <td>40.767151</td>\n",
              "      <td>-73.984932</td>\n",
              "      <td>40.760914</td>\n",
              "      <td>2</td>\n",
              "      <td>12</td>\n",
              "      <td>5</td>\n",
              "      <td>117</td>\n",
              "      <td>2013</td>\n",
              "    </tr>\n",
              "    <tr>\n",
              "      <th>2</th>\n",
              "      <td>4.0</td>\n",
              "      <td>2014-11-08 09:51:00</td>\n",
              "      <td>-74.008591</td>\n",
              "      <td>40.714714</td>\n",
              "      <td>-74.012383</td>\n",
              "      <td>40.719513</td>\n",
              "      <td>1</td>\n",
              "      <td>9</td>\n",
              "      <td>5</td>\n",
              "      <td>312</td>\n",
              "      <td>2014</td>\n",
              "    </tr>\n",
              "    <tr>\n",
              "      <th>3</th>\n",
              "      <td>12.0</td>\n",
              "      <td>2012-10-07 01:15:27</td>\n",
              "      <td>-73.978516</td>\n",
              "      <td>40.763798</td>\n",
              "      <td>-73.990303</td>\n",
              "      <td>40.725208</td>\n",
              "      <td>1</td>\n",
              "      <td>1</td>\n",
              "      <td>6</td>\n",
              "      <td>281</td>\n",
              "      <td>2012</td>\n",
              "    </tr>\n",
              "    <tr>\n",
              "      <th>4</th>\n",
              "      <td>6.5</td>\n",
              "      <td>2012-03-07 10:04:47</td>\n",
              "      <td>-73.980339</td>\n",
              "      <td>40.775394</td>\n",
              "      <td>-73.992287</td>\n",
              "      <td>40.758877</td>\n",
              "      <td>1</td>\n",
              "      <td>10</td>\n",
              "      <td>2</td>\n",
              "      <td>67</td>\n",
              "      <td>2012</td>\n",
              "    </tr>\n",
              "  </tbody>\n",
              "</table>\n",
              "</div>"
            ],
            "text/plain": [
              "   fare_amount     pickup_datetime  pickup_longitude  ...  day_week  day_year  year\n",
              "0         12.9 2010-04-11 01:44:00        -73.986107  ...         6       101  2010\n",
              "1         12.5 2013-04-27 12:26:11        -73.959747  ...         5       117  2013\n",
              "2          4.0 2014-11-08 09:51:00        -74.008591  ...         5       312  2014\n",
              "3         12.0 2012-10-07 01:15:27        -73.978516  ...         6       281  2012\n",
              "4          6.5 2012-03-07 10:04:47        -73.980339  ...         2        67  2012\n",
              "\n",
              "[5 rows x 11 columns]"
            ]
          },
          "metadata": {
            "tags": []
          },
          "execution_count": 51
        }
      ]
    },
    {
      "cell_type": "code",
      "metadata": {
        "id": "9HUUanMpMRJU",
        "colab": {
          "base_uri": "https://localhost:8080/"
        },
        "outputId": "872aa3f2-d6e6-4b29-b437-8cf6d34ad245"
      },
      "source": [
        "len(train['pickup_datetime'][train['pickup_datetime'].dt.strftime('%m-%d') == '02-29'])"
      ],
      "execution_count": null,
      "outputs": [
        {
          "output_type": "execute_result",
          "data": {
            "text/plain": [
              "91"
            ]
          },
          "metadata": {
            "tags": []
          },
          "execution_count": 52
        }
      ]
    },
    {
      "cell_type": "code",
      "metadata": {
        "id": "xv_9xK_wNpCh"
      },
      "source": [
        "#não tem muitos registros 02-29 fevereiro bicestos\n",
        "\n",
        "train.drop(train['pickup_datetime'][train['pickup_datetime'].dt.strftime('%m-%d') == '02-29'].index, inplace=True)"
      ],
      "execution_count": null,
      "outputs": []
    },
    {
      "cell_type": "code",
      "metadata": {
        "id": "FWzOXNE_Owmz",
        "colab": {
          "base_uri": "https://localhost:8080/"
        },
        "outputId": "0027a57e-365b-4ff8-e5cd-05767bdf99c7"
      },
      "source": [
        "#fazendo a correcao dos dias \n",
        "#temos apenas o 2012 como bicesto\n",
        "\n",
        "condicion = (train['year']==2012) & (train['day_year']> 59) #31 de jan + 28 fev\n",
        "train['day_year'][condicion] = train['day_year'] - 1"
      ],
      "execution_count": null,
      "outputs": [
        {
          "output_type": "stream",
          "text": [
            "/usr/local/lib/python3.6/dist-packages/ipykernel_launcher.py:5: SettingWithCopyWarning: \n",
            "A value is trying to be set on a copy of a slice from a DataFrame\n",
            "\n",
            "See the caveats in the documentation: https://pandas.pydata.org/pandas-docs/stable/user_guide/indexing.html#returning-a-view-versus-a-copy\n",
            "  \"\"\"\n"
          ],
          "name": "stderr"
        }
      ]
    },
    {
      "cell_type": "code",
      "metadata": {
        "id": "9OqCZ04xPzsg",
        "colab": {
          "base_uri": "https://localhost:8080/",
          "height": 227
        },
        "outputId": "fd3d70f1-f1da-4a0d-b8ee-7b522875b377"
      },
      "source": [
        "fig, ax = plt.subplots(1,4, figsize=(15,3))\n",
        "train_not_2015 = train[train['year']<2015] # a base vai até metade de 2015 então faremos antes de 2015\n",
        "ax[0].hist(train_not_2015['hour_day'], bins=24)\n",
        "ax[0].set_title('Hour Day')\n",
        "\n",
        "ax[1].hist(train_not_2015['day_week'], bins=7)\n",
        "ax[1].set_title('Day Week')\n",
        "\n",
        "ax[2].hist(train_not_2015['day_year'], bins=365)\n",
        "ax[2].set_title('Day Year')\n",
        "\n",
        "ax[3].hist(train_not_2015['year'], bins=6)\n",
        "ax[3].set_title('Year');"
      ],
      "execution_count": null,
      "outputs": [
        {
          "output_type": "display_data",
          "data": {
            "image/png": "[encoded data removed]",
            "text/plain": [
              "<Figure size 1080x216 with 4 Axes>"
            ]
          },
          "metadata": {
            "tags": [],
            "needs_background": "light"
          }
        }
      ]
    },
    {
      "cell_type": "code",
      "metadata": {
        "id": "Ae-MjLMFRpKm",
        "colab": {
          "base_uri": "https://localhost:8080/",
          "height": 337
        },
        "outputId": "e2ae989d-841d-48bc-acb5-625776747750"
      },
      "source": [
        "#relação entre pickup datetime e a demanda\n",
        "\n",
        "plt.figure(figsize=(15,5))\n",
        "plt.scatter(train['pickup_datetime'], train['fare_amount'], s=5, alpha=0.5)"
      ],
      "execution_count": null,
      "outputs": [
        {
          "output_type": "execute_result",
          "data": {
            "text/plain": [
              "<matplotlib.collections.PathCollection at 0x7f9e44a2c160>"
            ]
          },
          "metadata": {
            "tags": []
          },
          "execution_count": 56
        },
        {
          "output_type": "display_data",
          "data": {
            "image/png": "[encoded data removed]",
            "text/plain": [
              "<Figure size 1080x360 with 1 Axes>"
            ]
          },
          "metadata": {
            "tags": [],
            "needs_background": "light"
          }
        }
      ]
    },
    {
      "cell_type": "code",
      "metadata": {
        "id": "IjnG1TmoYXN-"
      },
      "source": [
        "from collections import Counter\n",
        "fare_zoom = train['fare_amount'][(train['fare_amount']> 40) & (train['fare_amount']< 60)]"
      ],
      "execution_count": null,
      "outputs": []
    },
    {
      "cell_type": "code",
      "metadata": {
        "id": "BgIpbV1UYpXA"
      },
      "source": [
        "common_fare_zoom = Counter(fare_zoom)\n",
        "common_fare_zoom"
      ],
      "execution_count": null,
      "outputs": []
    },
    {
      "cell_type": "code",
      "metadata": {
        "id": "Zi7GQNyGYvMU",
        "colab": {
          "base_uri": "https://localhost:8080/"
        },
        "outputId": "d751cd53-6a9a-4711-8ceb-f09df5f1c23c"
      },
      "source": [
        "most_common_fare_zoom = common_fare_zoom.most_common(10)\n",
        "most_common_fare_zoom\n"
      ],
      "execution_count": null,
      "outputs": [
        {
          "output_type": "execute_result",
          "data": {
            "text/plain": [
              "[(57.33, 1090),\n",
              " (49.8, 719),\n",
              " (45.0, 660),\n",
              " (49.57, 491),\n",
              " (52.0, 458),\n",
              " (56.8, 232),\n",
              " (57.54, 166),\n",
              " (49.15, 146),\n",
              " (50.5, 66),\n",
              " (50.0, 64)]"
            ]
          },
          "metadata": {
            "tags": []
          },
          "execution_count": 60
        }
      ]
    },
    {
      "cell_type": "code",
      "metadata": {
        "id": "rNnZlTejZJL2",
        "colab": {
          "base_uri": "https://localhost:8080/",
          "height": 282
        },
        "outputId": "d94b7ff4-0e5f-4698-9dac-abaaf2f59e9c"
      },
      "source": [
        "plt.bar([x[0] for x in most_common_fare_zoom], [x[1] for x in most_common_fare_zoom])"
      ],
      "execution_count": null,
      "outputs": [
        {
          "output_type": "execute_result",
          "data": {
            "text/plain": [
              "<BarContainer object of 10 artists>"
            ]
          },
          "metadata": {
            "tags": []
          },
          "execution_count": 61
        },
        {
          "output_type": "display_data",
          "data": {
            "image/png": "[encoded data removed]",
            "text/plain": [
              "<Figure size 432x288 with 1 Axes>"
            ]
          },
          "metadata": {
            "tags": [],
            "needs_background": "light"
          }
        }
      ]
    },
    {
      "cell_type": "code",
      "metadata": {
        "id": "HJj9RcJ_cHqF"
      },
      "source": [
        "from mpl_toolkits.basemap import Basemap"
      ],
      "execution_count": null,
      "outputs": []
    },
    {
      "cell_type": "code",
      "metadata": {
        "id": "XzfEdhv6gfsY",
        "colab": {
          "base_uri": "https://localhost:8080/",
          "height": 595
        },
        "outputId": "ee24a146-dbad-470f-96dd-17a50118042a"
      },
      "source": [
        "lat1, lat2 = 40.55, 40.95\n",
        "lon1, lon2 = -74.10, -73.70\n",
        "\n",
        "plt.figure(figsize=(10,10))\n",
        "m = Basemap(projection='cyl', resolution='h',\n",
        "            llcrnrlat = lat1, urcrnrlat =lat2,\n",
        "            llcrnrlon = lon1 , urcrnrlon = lon2)\n",
        "m.drawcoastlines()"
      ],
      "execution_count": null,
      "outputs": [
        {
          "output_type": "execute_result",
          "data": {
            "text/plain": [
              "<matplotlib.collections.LineCollection at 0x7f49b9667f60>"
            ]
          },
          "metadata": {
            "tags": []
          },
          "execution_count": 74
        },
        {
          "output_type": "display_data",
          "data": {
            "image/png": "[encoded data removed]",
            "text/plain": [
              "<Figure size 720x720 with 1 Axes>"
            ]
          },
          "metadata": {
            "tags": []
          }
        }
      ]
    },
    {
      "cell_type": "code",
      "metadata": {
        "id": "GFu8K-f6h6y6",
        "colab": {
          "base_uri": "https://localhost:8080/",
          "height": 609
        },
        "outputId": "22f47126-a74a-484d-a46b-552829e55c7d"
      },
      "source": [
        "lat1, lat2 = 40.55, 40.95\n",
        "lon1, lon2 = -74.10, -73.70\n",
        "\n",
        "plt.figure(figsize=(10,15))\n",
        "m = Basemap(projection='cyl', resolution='h',\n",
        "            llcrnrlat = lat1, urcrnrlat =lat2,\n",
        "            llcrnrlon = lon1 , urcrnrlon = lon2)\n",
        "m.drawcoastlines()\n",
        "m.fillcontinents(color='palegoldenrod', lake_color='lightskyblue')\n",
        "m.drawmapboundary(fill_color='lightskyblue')\n",
        "\n",
        "m.drawparallels(np.arange(lat1, lat2 + 0.05, 0.1), label = [1,0,0,0])\n",
        "m.drawmeridians(np.arange(lon1, lon2 + 0.05, 0.1), label = [0,0,0,1]);\n",
        "\n",
        "#pickup location - de todas as saidas (verde)\n",
        "m.scatter(train['pickup_longitude'], train['pickup_latitude'], s=1, c='green', alpha=0.5 , zorder=5)\n",
        "\n",
        "#drop location - de todas as saidas (amarelo)\n",
        "m.scatter(train['dropoff_longitude'], train['dropoff_latitude'], s=1, c='yellow', alpha=0.5 , zorder=5) #zorder é sobrepor quanto maior o numero mais fica em cima"
      ],
      "execution_count": null,
      "outputs": [
        {
          "output_type": "execute_result",
          "data": {
            "text/plain": [
              "<matplotlib.collections.PathCollection at 0x7f49ae8ebc88>"
            ]
          },
          "metadata": {
            "tags": []
          },
          "execution_count": 91
        },
        {
          "output_type": "display_data",
          "data": {
            "image/png": "[encoded data removed]",
            "text/plain": [
              "<Figure size 720x1080 with 1 Axes>"
            ]
          },
          "metadata": {
            "tags": []
          }
        }
      ]
    },
    {
      "cell_type": "code",
      "metadata": {
        "id": "u36plhT2wSzg"
      },
      "source": [
        "#distancia  | np.radian para calcular a distancia de lon e lat\n",
        "#distancia euclidiana e mahathan \n",
        "\n",
        "#latitude do ponto inicial (pickup_latitude)\n",
        "#longitude do ponto inicial (pickup_longitude)\n",
        "#latitude do ponto final (dropoff_latitude)\n",
        "#lontitude do ponto final (dropoff_lontitude)\n",
        "\n",
        "lon1, lon2 = np.radians(train['pickup_longitude']), np.radians(train['dropoff_longitude'])\n",
        "\n",
        "lat1, lat2 = np.radians(train['pickup_latitude']), np.radians(train['dropoff_latitude'])"
      ],
      "execution_count": null,
      "outputs": []
    },
    {
      "cell_type": "code",
      "metadata": {
        "id": "1abxLaXOxUh-"
      },
      "source": [
        "dislon = lon2-lon1\n",
        "dislat = lat2 - lat1"
      ],
      "execution_count": null,
      "outputs": []
    },
    {
      "cell_type": "code",
      "metadata": {
        "id": "VRkalwMmxzpq"
      },
      "source": [
        "#calculo da distancia euclidiana em km\n",
        "#formula de haversine\n",
        "\n",
        "a= np.sin(dislat / 2)**2 + np.cos(lat1) * np.cos(lat2) * np.sin(dislon/2)**2\n",
        "c= 2 * np.arctan2(np.sqrt(a), np.sqrt(1-a))\n",
        "\n",
        "train['eucl_distacia'] = 6373 * c # 6373 é uma constante "
      ],
      "execution_count": null,
      "outputs": []
    },
    {
      "cell_type": "code",
      "metadata": {
        "id": "IdAnIugbyvf5",
        "colab": {
          "base_uri": "https://localhost:8080/",
          "height": 309
        },
        "outputId": "30c41c1a-b6de-4193-c643-68e385f2a48f"
      },
      "source": [
        "train.head()"
      ],
      "execution_count": null,
      "outputs": [
        {
          "output_type": "execute_result",
          "data": {
            "text/html": [
              "<div>\n",
              "<style scoped>\n",
              "    .dataframe tbody tr th:only-of-type {\n",
              "        vertical-align: middle;\n",
              "    }\n",
              "\n",
              "    .dataframe tbody tr th {\n",
              "        vertical-align: top;\n",
              "    }\n",
              "\n",
              "    .dataframe thead th {\n",
              "        text-align: right;\n",
              "    }\n",
              "</style>\n",
              "<table border=\"1\" class=\"dataframe\">\n",
              "  <thead>\n",
              "    <tr style=\"text-align: right;\">\n",
              "      <th></th>\n",
              "      <th>fare_amount</th>\n",
              "      <th>pickup_datetime</th>\n",
              "      <th>pickup_longitude</th>\n",
              "      <th>pickup_latitude</th>\n",
              "      <th>dropoff_longitude</th>\n",
              "      <th>dropoff_latitude</th>\n",
              "      <th>passenger_count</th>\n",
              "      <th>hour_day</th>\n",
              "      <th>day_week</th>\n",
              "      <th>day_year</th>\n",
              "      <th>year</th>\n",
              "      <th>eucl_distnacia</th>\n",
              "    </tr>\n",
              "  </thead>\n",
              "  <tbody>\n",
              "    <tr>\n",
              "      <th>0</th>\n",
              "      <td>12.9</td>\n",
              "      <td>2010-04-11 01:44:00</td>\n",
              "      <td>-73.986107</td>\n",
              "      <td>40.722446</td>\n",
              "      <td>-73.954643</td>\n",
              "      <td>40.780273</td>\n",
              "      <td>3</td>\n",
              "      <td>1</td>\n",
              "      <td>6</td>\n",
              "      <td>101</td>\n",
              "      <td>2010</td>\n",
              "      <td>6.957013</td>\n",
              "    </tr>\n",
              "    <tr>\n",
              "      <th>1</th>\n",
              "      <td>12.5</td>\n",
              "      <td>2013-04-27 12:26:11</td>\n",
              "      <td>-73.959747</td>\n",
              "      <td>40.767151</td>\n",
              "      <td>-73.984932</td>\n",
              "      <td>40.760914</td>\n",
              "      <td>2</td>\n",
              "      <td>12</td>\n",
              "      <td>5</td>\n",
              "      <td>117</td>\n",
              "      <td>2013</td>\n",
              "      <td>2.232188</td>\n",
              "    </tr>\n",
              "    <tr>\n",
              "      <th>2</th>\n",
              "      <td>4.0</td>\n",
              "      <td>2014-11-08 09:51:00</td>\n",
              "      <td>-74.008591</td>\n",
              "      <td>40.714714</td>\n",
              "      <td>-74.012383</td>\n",
              "      <td>40.719513</td>\n",
              "      <td>1</td>\n",
              "      <td>9</td>\n",
              "      <td>5</td>\n",
              "      <td>312</td>\n",
              "      <td>2014</td>\n",
              "      <td>0.622071</td>\n",
              "    </tr>\n",
              "    <tr>\n",
              "      <th>3</th>\n",
              "      <td>12.0</td>\n",
              "      <td>2012-10-07 01:15:27</td>\n",
              "      <td>-73.978516</td>\n",
              "      <td>40.763798</td>\n",
              "      <td>-73.990303</td>\n",
              "      <td>40.725208</td>\n",
              "      <td>1</td>\n",
              "      <td>1</td>\n",
              "      <td>6</td>\n",
              "      <td>280</td>\n",
              "      <td>2012</td>\n",
              "      <td>4.405889</td>\n",
              "    </tr>\n",
              "    <tr>\n",
              "      <th>4</th>\n",
              "      <td>6.5</td>\n",
              "      <td>2012-03-07 10:04:47</td>\n",
              "      <td>-73.980339</td>\n",
              "      <td>40.775394</td>\n",
              "      <td>-73.992287</td>\n",
              "      <td>40.758877</td>\n",
              "      <td>1</td>\n",
              "      <td>10</td>\n",
              "      <td>2</td>\n",
              "      <td>66</td>\n",
              "      <td>2012</td>\n",
              "      <td>2.094598</td>\n",
              "    </tr>\n",
              "  </tbody>\n",
              "</table>\n",
              "</div>"
            ],
            "text/plain": [
              "   fare_amount     pickup_datetime  ...  year  eucl_distnacia\n",
              "0         12.9 2010-04-11 01:44:00  ...  2010        6.957013\n",
              "1         12.5 2013-04-27 12:26:11  ...  2013        2.232188\n",
              "2          4.0 2014-11-08 09:51:00  ...  2014        0.622071\n",
              "3         12.0 2012-10-07 01:15:27  ...  2012        4.405889\n",
              "4          6.5 2012-03-07 10:04:47  ...  2012        2.094598\n",
              "\n",
              "[5 rows x 12 columns]"
            ]
          },
          "metadata": {
            "tags": []
          },
          "execution_count": 71
        }
      ]
    },
    {
      "cell_type": "code",
      "metadata": {
        "id": "j48xxeIay9R6"
      },
      "source": [
        "#calculo da distancia manhathan em km\n",
        "a1 = np.sin(dislon/2)**2 \n",
        "c1 = 2*np.arctan2(np.sqrt(a1), np.sqrt(1-a1))\n",
        "a2 = np.sin(dislat/2)**2\n",
        "c2 = 2*np.arctan2(np.sqrt(a2), np.sqrt(1-a2))"
      ],
      "execution_count": null,
      "outputs": []
    },
    {
      "cell_type": "code",
      "metadata": {
        "id": "idCTtAy2zbcW"
      },
      "source": [
        "train['manh_distancia'] = 6373 *(c1 + c2)"
      ],
      "execution_count": null,
      "outputs": []
    },
    {
      "cell_type": "code",
      "metadata": {
        "id": "UhT2icREzquH",
        "colab": {
          "base_uri": "https://localhost:8080/",
          "height": 309
        },
        "outputId": "ac0e2106-fc8d-4d52-9c61-1e3fabf03a95"
      },
      "source": [
        "train.head()"
      ],
      "execution_count": null,
      "outputs": [
        {
          "output_type": "execute_result",
          "data": {
            "text/html": [
              "<div>\n",
              "<style scoped>\n",
              "    .dataframe tbody tr th:only-of-type {\n",
              "        vertical-align: middle;\n",
              "    }\n",
              "\n",
              "    .dataframe tbody tr th {\n",
              "        vertical-align: top;\n",
              "    }\n",
              "\n",
              "    .dataframe thead th {\n",
              "        text-align: right;\n",
              "    }\n",
              "</style>\n",
              "<table border=\"1\" class=\"dataframe\">\n",
              "  <thead>\n",
              "    <tr style=\"text-align: right;\">\n",
              "      <th></th>\n",
              "      <th>fare_amount</th>\n",
              "      <th>pickup_datetime</th>\n",
              "      <th>pickup_longitude</th>\n",
              "      <th>pickup_latitude</th>\n",
              "      <th>dropoff_longitude</th>\n",
              "      <th>dropoff_latitude</th>\n",
              "      <th>passenger_count</th>\n",
              "      <th>hour_day</th>\n",
              "      <th>day_week</th>\n",
              "      <th>day_year</th>\n",
              "      <th>year</th>\n",
              "      <th>eucl_distnacia</th>\n",
              "      <th>eucl_distacia</th>\n",
              "      <th>manh_distancia</th>\n",
              "    </tr>\n",
              "  </thead>\n",
              "  <tbody>\n",
              "    <tr>\n",
              "      <th>0</th>\n",
              "      <td>12.9</td>\n",
              "      <td>2010-04-11 01:44:00</td>\n",
              "      <td>-73.986107</td>\n",
              "      <td>40.722446</td>\n",
              "      <td>-73.954643</td>\n",
              "      <td>40.780273</td>\n",
              "      <td>3</td>\n",
              "      <td>1</td>\n",
              "      <td>6</td>\n",
              "      <td>101</td>\n",
              "      <td>2010</td>\n",
              "      <td>6.957013</td>\n",
              "      <td>6.957013</td>\n",
              "      <td>9.931450</td>\n",
              "    </tr>\n",
              "    <tr>\n",
              "      <th>1</th>\n",
              "      <td>12.5</td>\n",
              "      <td>2013-04-27 12:26:11</td>\n",
              "      <td>-73.959747</td>\n",
              "      <td>40.767151</td>\n",
              "      <td>-73.984932</td>\n",
              "      <td>40.760914</td>\n",
              "      <td>2</td>\n",
              "      <td>12</td>\n",
              "      <td>5</td>\n",
              "      <td>117</td>\n",
              "      <td>2013</td>\n",
              "      <td>2.232188</td>\n",
              "      <td>2.232188</td>\n",
              "      <td>3.495095</td>\n",
              "    </tr>\n",
              "    <tr>\n",
              "      <th>2</th>\n",
              "      <td>4.0</td>\n",
              "      <td>2014-11-08 09:51:00</td>\n",
              "      <td>-74.008591</td>\n",
              "      <td>40.714714</td>\n",
              "      <td>-74.012383</td>\n",
              "      <td>40.719513</td>\n",
              "      <td>1</td>\n",
              "      <td>9</td>\n",
              "      <td>5</td>\n",
              "      <td>312</td>\n",
              "      <td>2014</td>\n",
              "      <td>0.622071</td>\n",
              "      <td>0.622071</td>\n",
              "      <td>0.955349</td>\n",
              "    </tr>\n",
              "    <tr>\n",
              "      <th>3</th>\n",
              "      <td>12.0</td>\n",
              "      <td>2012-10-07 01:15:27</td>\n",
              "      <td>-73.978516</td>\n",
              "      <td>40.763798</td>\n",
              "      <td>-73.990303</td>\n",
              "      <td>40.725208</td>\n",
              "      <td>1</td>\n",
              "      <td>1</td>\n",
              "      <td>6</td>\n",
              "      <td>280</td>\n",
              "      <td>2012</td>\n",
              "      <td>4.405889</td>\n",
              "      <td>4.405889</td>\n",
              "      <td>5.603701</td>\n",
              "    </tr>\n",
              "    <tr>\n",
              "      <th>4</th>\n",
              "      <td>6.5</td>\n",
              "      <td>2012-03-07 10:04:47</td>\n",
              "      <td>-73.980339</td>\n",
              "      <td>40.775394</td>\n",
              "      <td>-73.992287</td>\n",
              "      <td>40.758877</td>\n",
              "      <td>1</td>\n",
              "      <td>10</td>\n",
              "      <td>2</td>\n",
              "      <td>66</td>\n",
              "      <td>2012</td>\n",
              "      <td>2.094598</td>\n",
              "      <td>2.094598</td>\n",
              "      <td>3.165757</td>\n",
              "    </tr>\n",
              "  </tbody>\n",
              "</table>\n",
              "</div>"
            ],
            "text/plain": [
              "   fare_amount     pickup_datetime  ...  eucl_distacia  manh_distancia\n",
              "0         12.9 2010-04-11 01:44:00  ...       6.957013        9.931450\n",
              "1         12.5 2013-04-27 12:26:11  ...       2.232188        3.495095\n",
              "2          4.0 2014-11-08 09:51:00  ...       0.622071        0.955349\n",
              "3         12.0 2012-10-07 01:15:27  ...       4.405889        5.603701\n",
              "4          6.5 2012-03-07 10:04:47  ...       2.094598        3.165757\n",
              "\n",
              "[5 rows x 14 columns]"
            ]
          },
          "metadata": {
            "tags": []
          },
          "execution_count": 82
        }
      ]
    },
    {
      "cell_type": "code",
      "metadata": {
        "id": "XGxW6_ll0bow"
      },
      "source": [
        "train.drop(['eucl_distnacia'], axis=1, inplace=True)"
      ],
      "execution_count": null,
      "outputs": []
    },
    {
      "cell_type": "code",
      "metadata": {
        "id": "ydeiBf0_0ohI",
        "colab": {
          "base_uri": "https://localhost:8080/",
          "height": 224
        },
        "outputId": "0c55a9ee-2363-4030-b8aa-f885d2941cd8"
      },
      "source": [
        "#pre-processamento \n",
        "\n",
        "X_train = train.drop(columns=[\"pickup_datetime\", \"fare_amount\"])\n",
        "y_train = train['fare_amount']\n",
        "\n",
        "X_train.head()"
      ],
      "execution_count": null,
      "outputs": [
        {
          "output_type": "execute_result",
          "data": {
            "text/html": [
              "<div>\n",
              "<style scoped>\n",
              "    .dataframe tbody tr th:only-of-type {\n",
              "        vertical-align: middle;\n",
              "    }\n",
              "\n",
              "    .dataframe tbody tr th {\n",
              "        vertical-align: top;\n",
              "    }\n",
              "\n",
              "    .dataframe thead th {\n",
              "        text-align: right;\n",
              "    }\n",
              "</style>\n",
              "<table border=\"1\" class=\"dataframe\">\n",
              "  <thead>\n",
              "    <tr style=\"text-align: right;\">\n",
              "      <th></th>\n",
              "      <th>pickup_longitude</th>\n",
              "      <th>pickup_latitude</th>\n",
              "      <th>dropoff_longitude</th>\n",
              "      <th>dropoff_latitude</th>\n",
              "      <th>passenger_count</th>\n",
              "      <th>hour_day</th>\n",
              "      <th>day_week</th>\n",
              "      <th>day_year</th>\n",
              "      <th>year</th>\n",
              "      <th>eucl_distacia</th>\n",
              "      <th>manh_distancia</th>\n",
              "    </tr>\n",
              "  </thead>\n",
              "  <tbody>\n",
              "    <tr>\n",
              "      <th>0</th>\n",
              "      <td>-73.986107</td>\n",
              "      <td>40.722446</td>\n",
              "      <td>-73.954643</td>\n",
              "      <td>40.780273</td>\n",
              "      <td>3</td>\n",
              "      <td>1</td>\n",
              "      <td>6</td>\n",
              "      <td>101</td>\n",
              "      <td>2010</td>\n",
              "      <td>6.957013</td>\n",
              "      <td>9.931450</td>\n",
              "    </tr>\n",
              "    <tr>\n",
              "      <th>1</th>\n",
              "      <td>-73.959747</td>\n",
              "      <td>40.767151</td>\n",
              "      <td>-73.984932</td>\n",
              "      <td>40.760914</td>\n",
              "      <td>2</td>\n",
              "      <td>12</td>\n",
              "      <td>5</td>\n",
              "      <td>117</td>\n",
              "      <td>2013</td>\n",
              "      <td>2.232188</td>\n",
              "      <td>3.495095</td>\n",
              "    </tr>\n",
              "    <tr>\n",
              "      <th>2</th>\n",
              "      <td>-74.008591</td>\n",
              "      <td>40.714714</td>\n",
              "      <td>-74.012383</td>\n",
              "      <td>40.719513</td>\n",
              "      <td>1</td>\n",
              "      <td>9</td>\n",
              "      <td>5</td>\n",
              "      <td>312</td>\n",
              "      <td>2014</td>\n",
              "      <td>0.622071</td>\n",
              "      <td>0.955349</td>\n",
              "    </tr>\n",
              "    <tr>\n",
              "      <th>3</th>\n",
              "      <td>-73.978516</td>\n",
              "      <td>40.763798</td>\n",
              "      <td>-73.990303</td>\n",
              "      <td>40.725208</td>\n",
              "      <td>1</td>\n",
              "      <td>1</td>\n",
              "      <td>6</td>\n",
              "      <td>280</td>\n",
              "      <td>2012</td>\n",
              "      <td>4.405889</td>\n",
              "      <td>5.603701</td>\n",
              "    </tr>\n",
              "    <tr>\n",
              "      <th>4</th>\n",
              "      <td>-73.980339</td>\n",
              "      <td>40.775394</td>\n",
              "      <td>-73.992287</td>\n",
              "      <td>40.758877</td>\n",
              "      <td>1</td>\n",
              "      <td>10</td>\n",
              "      <td>2</td>\n",
              "      <td>66</td>\n",
              "      <td>2012</td>\n",
              "      <td>2.094598</td>\n",
              "      <td>3.165757</td>\n",
              "    </tr>\n",
              "  </tbody>\n",
              "</table>\n",
              "</div>"
            ],
            "text/plain": [
              "   pickup_longitude  pickup_latitude  ...  eucl_distacia  manh_distancia\n",
              "0        -73.986107        40.722446  ...       6.957013        9.931450\n",
              "1        -73.959747        40.767151  ...       2.232188        3.495095\n",
              "2        -74.008591        40.714714  ...       0.622071        0.955349\n",
              "3        -73.978516        40.763798  ...       4.405889        5.603701\n",
              "4        -73.980339        40.775394  ...       2.094598        3.165757\n",
              "\n",
              "[5 rows x 11 columns]"
            ]
          },
          "metadata": {
            "tags": []
          },
          "execution_count": 100
        }
      ]
    },
    {
      "cell_type": "code",
      "metadata": {
        "id": "UzOlxYcq1UTH",
        "colab": {
          "base_uri": "https://localhost:8080/"
        },
        "outputId": "337daa45-fa6b-4979-91cb-dd8edde4cec4"
      },
      "source": [
        "#normalização\n",
        "from sklearn.preprocessing import MinMaxScaler\n",
        "\n",
        "scaler = MinMaxScaler()\n",
        "scaler.fit(X_train)\n",
        "X_train_scaler = scaler.transform(X_train)\n",
        "X_train_scaler[0]"
      ],
      "execution_count": null,
      "outputs": [
        {
          "output_type": "execute_result",
          "data": {
            "text/plain": [
              "array([0.49611227, 0.49590925, 0.00648481, 0.55452242, 0.4       ,\n",
              "       0.04347826, 1.        , 0.27472527, 0.16666667, 0.00115272,\n",
              "       0.00120461])"
            ]
          },
          "metadata": {
            "tags": []
          },
          "execution_count": 102
        }
      ]
    },
    {
      "cell_type": "code",
      "metadata": {
        "id": "FCHeAP6G47jj"
      },
      "source": [
        "#treinamento \n",
        "import multiprocessing\n",
        "from sklearn.model_selection import cross_val_score\n",
        "cv =5\n",
        "scoring = 'neg_mean_squared_error' #RMSE a pedido do desafio\n",
        "n_jobs = multiprocessing.cpu_count()-1\n"
      ],
      "execution_count": null,
      "outputs": []
    },
    {
      "cell_type": "code",
      "metadata": {
        "id": "VSkxOXMB5s8t",
        "colab": {
          "base_uri": "https://localhost:8080/"
        },
        "outputId": "3a8bb024-5c27-4a2d-a6b2-b4c3119765ae"
      },
      "source": [
        "#linear Regression\n",
        "from sklearn.linear_model import LinearRegression\n",
        "\n",
        "model = LinearRegression()\n",
        "scores = cross_val_score(model, X_train_scaler, y_train, cv=cv, scoring=scoring, n_jobs=n_jobs)\n",
        "np.sqrt(-scores.mean()) "
      ],
      "execution_count": null,
      "outputs": [
        {
          "output_type": "execute_result",
          "data": {
            "text/plain": [
              "6.354876813668845"
            ]
          },
          "metadata": {
            "tags": []
          },
          "execution_count": 112
        }
      ]
    },
    {
      "cell_type": "code",
      "metadata": {
        "id": "xhrD9kuV7tZn",
        "colab": {
          "base_uri": "https://localhost:8080/"
        },
        "outputId": "d69eded9-f288-4155-cadd-f9267af354f0"
      },
      "source": [
        "#Ridge Regression\n",
        "from sklearn.linear_model import Ridge\n",
        "\n",
        "model = Ridge()\n",
        "scores = cross_val_score(model, X_train_scaler, y_train, cv=cv, scoring=scoring, n_jobs=n_jobs)\n",
        "np.sqrt(-scores.mean())"
      ],
      "execution_count": null,
      "outputs": [
        {
          "output_type": "execute_result",
          "data": {
            "text/plain": [
              "8.136053764185682"
            ]
          },
          "metadata": {
            "tags": []
          },
          "execution_count": 114
        }
      ]
    },
    {
      "cell_type": "code",
      "metadata": {
        "id": "Fwv3fVz08Gn3",
        "colab": {
          "base_uri": "https://localhost:8080/"
        },
        "outputId": "1cfd29b0-5bbd-482a-d4d5-b612099d49ac"
      },
      "source": [
        "#Lasso Regression\n",
        "from sklearn.linear_model import Lasso\n",
        "\n",
        "model = Lasso()\n",
        "scores = cross_val_score(model, X_train_scaler, y_train, cv=cv, scoring=scoring, n_jobs=n_jobs)\n",
        "np.sqrt(-scores.mean())"
      ],
      "execution_count": null,
      "outputs": [
        {
          "output_type": "execute_result",
          "data": {
            "text/plain": [
              "9.557912916159589"
            ]
          },
          "metadata": {
            "tags": []
          },
          "execution_count": 117
        }
      ]
    },
    {
      "cell_type": "code",
      "metadata": {
        "id": "IXqjQEmB8SJ5",
        "colab": {
          "base_uri": "https://localhost:8080/"
        },
        "outputId": "9e78b4bf-0ad3-48a6-dbb3-3ef77324bb3e"
      },
      "source": [
        "#Nearest Neighbors\n",
        "from sklearn.neighbors import KNeighborsRegressor\n",
        "\n",
        "model = KNeighborsRegressor()\n",
        "scores = cross_val_score(model, X_train_scaler, y_train, cv=cv, scoring=scoring, n_jobs=n_jobs)\n",
        "np.sqrt(-scores.mean())"
      ],
      "execution_count": null,
      "outputs": [
        {
          "output_type": "execute_result",
          "data": {
            "text/plain": [
              "8.27395331127723"
            ]
          },
          "metadata": {
            "tags": []
          },
          "execution_count": 120
        }
      ]
    },
    {
      "cell_type": "code",
      "metadata": {
        "id": "EE5DilQB8x_k",
        "colab": {
          "base_uri": "https://localhost:8080/"
        },
        "outputId": "95dfb210-fe83-41b7-fb00-a5516a9023a9"
      },
      "source": [
        "#decision Tree\n",
        "from sklearn.tree import DecisionTreeRegressor\n",
        "model = DecisionTreeRegressor()\n",
        "scores = cross_val_score(model, X_train_scaler, y_train, cv=cv, scoring=scoring, n_jobs=n_jobs)\n",
        "np.sqrt(-scores.mean())"
      ],
      "execution_count": null,
      "outputs": [
        {
          "output_type": "execute_result",
          "data": {
            "text/plain": [
              "5.267265714373942"
            ]
          },
          "metadata": {
            "tags": []
          },
          "execution_count": 128
        }
      ]
    },
    {
      "cell_type": "code",
      "metadata": {
        "id": "BQNSW4_v80pH",
        "colab": {
          "base_uri": "https://localhost:8080/"
        },
        "outputId": "eb8c10e7-f560-4c30-80d7-a702b6036c88"
      },
      "source": [
        "#Random Forest\n",
        "from sklearn.ensemble import RandomForestRegressor\n",
        "model = RandomForestRegressor()\n",
        "scores = cross_val_score(model, X_train_scaler, y_train, cv=cv, scoring=scoring, n_jobs=n_jobs)\n",
        "np.sqrt(-scores.mean())"
      ],
      "execution_count": null,
      "outputs": [
        {
          "output_type": "execute_result",
          "data": {
            "text/plain": [
              "3.693220684214605"
            ]
          },
          "metadata": {
            "tags": []
          },
          "execution_count": 148
        }
      ]
    },
    {
      "cell_type": "code",
      "metadata": {
        "id": "gf25yu0K823A",
        "colab": {
          "base_uri": "https://localhost:8080/"
        },
        "outputId": "c9dd3bef-bf93-4469-962a-66e28d767034"
      },
      "source": [
        "#Gradient Boosting\n",
        "from sklearn.ensemble import GradientBoostingRegressor\n",
        "\n",
        "model = GradientBoostingRegressor()\n",
        "scores = cross_val_score(model, X_train_scaler, y_train, cv=cv, scoring=scoring, n_jobs=n_jobs)\n",
        "np.sqrt(-scores.mean())"
      ],
      "execution_count": null,
      "outputs": [
        {
          "output_type": "execute_result",
          "data": {
            "text/plain": [
              "3.946168414943308"
            ]
          },
          "metadata": {
            "tags": []
          },
          "execution_count": 150
        }
      ]
    },
    {
      "cell_type": "code",
      "metadata": {
        "id": "6GSum9w_85Aj",
        "colab": {
          "base_uri": "https://localhost:8080/"
        },
        "outputId": "56885fa3-6f26-4252-e8c6-80bd8a8e8575"
      },
      "source": [
        "#deep learning\n",
        "from sklearn.neural_network import MLPRegressor\n",
        "\n",
        "model = MLPRegressor()\n",
        "scores = cross_val_score(model, X_train_scaler, y_train, cv=cv, scoring=scoring, n_jobs=n_jobs)\n",
        "np.sqrt(-scores.mean())"
      ],
      "execution_count": null,
      "outputs": [
        {
          "output_type": "stream",
          "text": [
            "/usr/local/lib/python3.6/dist-packages/sklearn/neural_network/_multilayer_perceptron.py:571: ConvergenceWarning: Stochastic Optimizer: Maximum iterations (200) reached and the optimization hasn't converged yet.\n",
            "  % self.max_iter, ConvergenceWarning)\n",
            "/usr/local/lib/python3.6/dist-packages/sklearn/neural_network/_multilayer_perceptron.py:571: ConvergenceWarning: Stochastic Optimizer: Maximum iterations (200) reached and the optimization hasn't converged yet.\n",
            "  % self.max_iter, ConvergenceWarning)\n",
            "/usr/local/lib/python3.6/dist-packages/sklearn/neural_network/_multilayer_perceptron.py:571: ConvergenceWarning: Stochastic Optimizer: Maximum iterations (200) reached and the optimization hasn't converged yet.\n",
            "  % self.max_iter, ConvergenceWarning)\n",
            "/usr/local/lib/python3.6/dist-packages/sklearn/neural_network/_multilayer_perceptron.py:571: ConvergenceWarning: Stochastic Optimizer: Maximum iterations (200) reached and the optimization hasn't converged yet.\n",
            "  % self.max_iter, ConvergenceWarning)\n",
            "/usr/local/lib/python3.6/dist-packages/sklearn/neural_network/_multilayer_perceptron.py:571: ConvergenceWarning: Stochastic Optimizer: Maximum iterations (200) reached and the optimization hasn't converged yet.\n",
            "  % self.max_iter, ConvergenceWarning)\n"
          ],
          "name": "stderr"
        },
        {
          "output_type": "execute_result",
          "data": {
            "text/plain": [
              "4.344266206795513"
            ]
          },
          "metadata": {
            "tags": []
          },
          "execution_count": 152
        }
      ]
    },
    {
      "cell_type": "code",
      "metadata": {
        "id": "XpoRa-0eGtzO"
      },
      "source": [
        "#inspecionando o melhor modelo \n",
        "\n",
        "#dividindo o modelo \n",
        "from sklearn.model_selection import train_test_split\n",
        "\n",
        "X_train1, X_test, y_train1, y_test = train_test_split(X_train_scaler, y_train, test_size=0.2)"
      ],
      "execution_count": null,
      "outputs": []
    },
    {
      "cell_type": "code",
      "metadata": {
        "id": "r8QNOmXgIM17",
        "colab": {
          "base_uri": "https://localhost:8080/"
        },
        "outputId": "47db1ff6-9660-4691-b6dd-1d2a9eec5f26"
      },
      "source": [
        "model = RandomForestRegressor()\n",
        "model.fit(X_train1, y_train1)"
      ],
      "execution_count": null,
      "outputs": [
        {
          "output_type": "execute_result",
          "data": {
            "text/plain": [
              "RandomForestRegressor(bootstrap=True, ccp_alpha=0.0, criterion='mse',\n",
              "                      max_depth=None, max_features='auto', max_leaf_nodes=None,\n",
              "                      max_samples=None, min_impurity_decrease=0.0,\n",
              "                      min_impurity_split=None, min_samples_leaf=1,\n",
              "                      min_samples_split=2, min_weight_fraction_leaf=0.0,\n",
              "                      n_estimators=100, n_jobs=None, oob_score=False,\n",
              "                      random_state=None, verbose=0, warm_start=False)"
            ]
          },
          "metadata": {
            "tags": []
          },
          "execution_count": 153
        }
      ]
    },
    {
      "cell_type": "code",
      "metadata": {
        "id": "RKGKKdycIlYN"
      },
      "source": [
        "feature_importance = model.feature_importances_"
      ],
      "execution_count": null,
      "outputs": []
    },
    {
      "cell_type": "code",
      "metadata": {
        "id": "AJS62XmhQMOp",
        "colab": {
          "base_uri": "https://localhost:8080/"
        },
        "outputId": "e73b5db4-0c88-40f4-c0a5-93ef94f7b0c0"
      },
      "source": [
        "feature_importance"
      ],
      "execution_count": null,
      "outputs": [
        {
          "output_type": "execute_result",
          "data": {
            "text/plain": [
              "array([0.02795846, 0.01951676, 0.05242848, 0.02732582, 0.00366229,\n",
              "       0.01439621, 0.00720449, 0.01799847, 0.02554724, 0.77268475,\n",
              "       0.03127703])"
            ]
          },
          "metadata": {
            "tags": []
          },
          "execution_count": 155
        }
      ]
    },
    {
      "cell_type": "code",
      "metadata": {
        "id": "xAcGwiGSQSob",
        "colab": {
          "base_uri": "https://localhost:8080/"
        },
        "outputId": "fbd8ed06-4e0d-4e5c-b5bb-973a4287a610"
      },
      "source": [
        "argsort = np.argsort(feature_importance)\n",
        "argsort"
      ],
      "execution_count": null,
      "outputs": [
        {
          "output_type": "execute_result",
          "data": {
            "text/plain": [
              "array([ 4,  6,  5,  7,  1,  8,  3,  0, 10,  2,  9])"
            ]
          },
          "metadata": {
            "tags": []
          },
          "execution_count": 156
        }
      ]
    },
    {
      "cell_type": "code",
      "metadata": {
        "id": "cbU2bbbzQisQ",
        "colab": {
          "base_uri": "https://localhost:8080/"
        },
        "outputId": "3c4d2bc1-6223-4bd6-f061-c567bfd42048"
      },
      "source": [
        "features_importance_sorted = feature_importance[argsort]\n",
        "features_importance_sorted "
      ],
      "execution_count": null,
      "outputs": [
        {
          "output_type": "execute_result",
          "data": {
            "text/plain": [
              "array([0.00366229, 0.00720449, 0.01439621, 0.01799847, 0.01951676,\n",
              "       0.02554724, 0.02732582, 0.02795846, 0.03127703, 0.05242848,\n",
              "       0.77268475])"
            ]
          },
          "metadata": {
            "tags": []
          },
          "execution_count": 157
        }
      ]
    },
    {
      "cell_type": "code",
      "metadata": {
        "id": "tqBIJe59QwZ6",
        "colab": {
          "base_uri": "https://localhost:8080/"
        },
        "outputId": "ce6db3cb-fd4e-48ce-a4da-50e59a1a8e12"
      },
      "source": [
        "features_names = X_train.columns\n",
        "features_names"
      ],
      "execution_count": null,
      "outputs": [
        {
          "output_type": "execute_result",
          "data": {
            "text/plain": [
              "Index(['pickup_longitude', 'pickup_latitude', 'dropoff_longitude',\n",
              "       'dropoff_latitude', 'passenger_count', 'hour_day', 'day_week',\n",
              "       'day_year', 'year', 'eucl_distacia', 'manh_distancia'],\n",
              "      dtype='object')"
            ]
          },
          "metadata": {
            "tags": []
          },
          "execution_count": 158
        }
      ]
    },
    {
      "cell_type": "code",
      "metadata": {
        "id": "ftCFUH9xQ7G-",
        "colab": {
          "base_uri": "https://localhost:8080/"
        },
        "outputId": "a712a740-c1b7-4936-a3b2-3aa7cac55ba8"
      },
      "source": [
        "feature_sorted = features_names[argsort]\n",
        "feature_sorted"
      ],
      "execution_count": null,
      "outputs": [
        {
          "output_type": "execute_result",
          "data": {
            "text/plain": [
              "Index(['passenger_count', 'day_week', 'hour_day', 'day_year',\n",
              "       'pickup_latitude', 'dropoff_latitude', 'year', 'pickup_longitude',\n",
              "       'manh_distancia', 'dropoff_longitude', 'eucl_distacia'],\n",
              "      dtype='object')"
            ]
          },
          "metadata": {
            "tags": []
          },
          "execution_count": 140
        }
      ]
    },
    {
      "cell_type": "code",
      "metadata": {
        "id": "p0L9JYPuREmN",
        "colab": {
          "base_uri": "https://localhost:8080/",
          "height": 390
        },
        "outputId": "7a77fc38-3eda-4000-e0a5-983cd58fcf8c"
      },
      "source": [
        "pd.DataFrame(feature_sorted, features_importance_sorted)"
      ],
      "execution_count": null,
      "outputs": [
        {
          "output_type": "execute_result",
          "data": {
            "text/html": [
              "<div>\n",
              "<style scoped>\n",
              "    .dataframe tbody tr th:only-of-type {\n",
              "        vertical-align: middle;\n",
              "    }\n",
              "\n",
              "    .dataframe tbody tr th {\n",
              "        vertical-align: top;\n",
              "    }\n",
              "\n",
              "    .dataframe thead th {\n",
              "        text-align: right;\n",
              "    }\n",
              "</style>\n",
              "<table border=\"1\" class=\"dataframe\">\n",
              "  <thead>\n",
              "    <tr style=\"text-align: right;\">\n",
              "      <th></th>\n",
              "      <th>0</th>\n",
              "    </tr>\n",
              "  </thead>\n",
              "  <tbody>\n",
              "    <tr>\n",
              "      <th>0.003662</th>\n",
              "      <td>passenger_count</td>\n",
              "    </tr>\n",
              "    <tr>\n",
              "      <th>0.007204</th>\n",
              "      <td>day_week</td>\n",
              "    </tr>\n",
              "    <tr>\n",
              "      <th>0.014396</th>\n",
              "      <td>hour_day</td>\n",
              "    </tr>\n",
              "    <tr>\n",
              "      <th>0.017998</th>\n",
              "      <td>day_year</td>\n",
              "    </tr>\n",
              "    <tr>\n",
              "      <th>0.019517</th>\n",
              "      <td>pickup_latitude</td>\n",
              "    </tr>\n",
              "    <tr>\n",
              "      <th>0.025547</th>\n",
              "      <td>dropoff_latitude</td>\n",
              "    </tr>\n",
              "    <tr>\n",
              "      <th>0.027326</th>\n",
              "      <td>year</td>\n",
              "    </tr>\n",
              "    <tr>\n",
              "      <th>0.027958</th>\n",
              "      <td>pickup_longitude</td>\n",
              "    </tr>\n",
              "    <tr>\n",
              "      <th>0.031277</th>\n",
              "      <td>manh_distancia</td>\n",
              "    </tr>\n",
              "    <tr>\n",
              "      <th>0.052428</th>\n",
              "      <td>dropoff_longitude</td>\n",
              "    </tr>\n",
              "    <tr>\n",
              "      <th>0.772685</th>\n",
              "      <td>eucl_distacia</td>\n",
              "    </tr>\n",
              "  </tbody>\n",
              "</table>\n",
              "</div>"
            ],
            "text/plain": [
              "                          0\n",
              "0.003662    passenger_count\n",
              "0.007204           day_week\n",
              "0.014396           hour_day\n",
              "0.017998           day_year\n",
              "0.019517    pickup_latitude\n",
              "0.025547   dropoff_latitude\n",
              "0.027326               year\n",
              "0.027958   pickup_longitude\n",
              "0.031277     manh_distancia\n",
              "0.052428  dropoff_longitude\n",
              "0.772685      eucl_distacia"
            ]
          },
          "metadata": {
            "tags": []
          },
          "execution_count": 159
        }
      ]
    },
    {
      "cell_type": "code",
      "metadata": {
        "id": "S64pq3AmRU0o",
        "colab": {
          "base_uri": "https://localhost:8080/",
          "height": 282
        },
        "outputId": "a3e3dac7-dc36-427f-9993-88f28e8c5a0f"
      },
      "source": [
        "plt.barh(feature_sorted, features_importance_sorted)"
      ],
      "execution_count": null,
      "outputs": [
        {
          "output_type": "execute_result",
          "data": {
            "text/plain": [
              "<BarContainer object of 11 artists>"
            ]
          },
          "metadata": {
            "tags": []
          },
          "execution_count": 160
        },
        {
          "output_type": "display_data",
          "data": {
            "image/png": "[encoded data removed]",
            "text/plain": [
              "<Figure size 432x288 with 1 Axes>"
            ]
          },
          "metadata": {
            "tags": [],
            "needs_background": "light"
          }
        }
      ]
    },
    {
      "cell_type": "code",
      "metadata": {
        "id": "NJC0XnF4RrYg",
        "colab": {
          "base_uri": "https://localhost:8080/"
        },
        "outputId": "1385cb7f-80b6-4f13-df3b-67721237f809"
      },
      "source": [
        "from sklearn.metrics import mean_squared_error\n",
        "y_pred = model.predict(X_test)\n",
        "\n",
        "rmse_test = mean_squared_error(y_test, y_pred, squared=False)\n",
        "rmse_test"
      ],
      "execution_count": null,
      "outputs": [
        {
          "output_type": "execute_result",
          "data": {
            "text/plain": [
              "3.6449455295406383"
            ]
          },
          "metadata": {
            "tags": []
          },
          "execution_count": 166
        }
      ]
    },
    {
      "cell_type": "code",
      "metadata": {
        "id": "6C9mz3yXjJT8"
      },
      "source": [
        "pred_test = model.score(X_test, y_test)\n",
        "pred_train = model.score(X_train_scaler, y_train)"
      ],
      "execution_count": null,
      "outputs": []
    },
    {
      "cell_type": "code",
      "metadata": {
        "id": "ja02QXTwfjbp",
        "colab": {
          "base_uri": "https://localhost:8080/",
          "height": 281
        },
        "outputId": "1842a022-1acd-42b1-996e-58c797ce1030"
      },
      "source": [
        "#comparando as previsões com as respostas reais\n",
        "every = int(sample_size/1000) #250.000 dados divido por 1000\n",
        "\n",
        "fig = plt.figure(figsize=(20,5))\n",
        "plt.bar(list(range(len(y_test[::every]))), y_test.values[::every],\n",
        "alpha=0.1, color='red', width = 1, label='True Value')\n",
        "plt.bar(list(range(len(y_pred[::every]))), y_pred[::every],\n",
        "alpha=0.5, color='blue', width = 1, label='pred Value')\n",
        "plt.legend()"
      ],
      "execution_count": null,
      "outputs": [
        {
          "output_type": "execute_result",
          "data": {
            "text/plain": [
              "<matplotlib.legend.Legend at 0x7f9e25094ba8>"
            ]
          },
          "metadata": {
            "tags": []
          },
          "execution_count": 177
        },
        {
          "output_type": "display_data",
          "data": {
            "image/png": "[encoded data removed]",
            "text/plain": [
              "<Figure size 1440x360 with 1 Axes>"
            ]
          },
          "metadata": {
            "tags": [],
            "needs_background": "light"
          }
        }
      ]
    },
    {
      "cell_type": "code",
      "metadata": {
        "id": "Zkte2vGyjH0W"
      },
      "source": [
        "#submeter \n",
        "test = pd.read_csv('/content/TrainTest/test.csv', \n",
        "                    parse_dates=['pickup_datetime'],\n",
        "                    dtype = {'fare_amont': np.float32,\n",
        "                             'pickup_latitude': np.float32,\n",
        "                             'pickup_longitude': np.float32,\n",
        "                             'dropoff_latitude':np.float32,\n",
        "                             'dropoff_longitude':np.float32,\n",
        "                             'passenger_count':np.int32,\n",
        "                             'key':str\n",
        "                             })"
      ],
      "execution_count": null,
      "outputs": []
    },
    {
      "cell_type": "code",
      "metadata": {
        "id": "RMoz1WU2k_L9",
        "colab": {
          "base_uri": "https://localhost:8080/"
        },
        "outputId": "b02dbe8f-6f5d-4186-a61b-afd5637a423e"
      },
      "source": [
        "test.shape"
      ],
      "execution_count": null,
      "outputs": [
        {
          "output_type": "execute_result",
          "data": {
            "text/plain": [
              "(11084772, 7)"
            ]
          },
          "metadata": {
            "tags": []
          },
          "execution_count": 183
        }
      ]
    }
  ]
}